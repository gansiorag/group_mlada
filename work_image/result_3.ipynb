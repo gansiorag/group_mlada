{
 "cells": [
  {
   "cell_type": "code",
   "execution_count": 1,
   "metadata": {},
   "outputs": [],
   "source": [
    "from sklearn.model_selection import train_test_split\n",
    "from sklearn.metrics import accuracy_score, precision_score, recall_score, roc_auc_score\n",
    "from catboost import CatBoostClassifier\n",
    "import numpy as np\n",
    "import pandas as pd\n",
    "from scipy.spatial.distance import cosine, euclidean, cityblock, chebyshev\n",
    "from joblib import Parallel, delayed"
   ]
  },
  {
   "cell_type": "code",
   "execution_count": 2,
   "metadata": {},
   "outputs": [],
   "source": [
    "resnet = '/Users/annapetrov/Desktop/ozon_хакатон/competition/competition/resnet.parquet'\n",
    "df_resnet = pd.read_parquet(resnet)"
   ]
  },
  {
   "cell_type": "code",
   "execution_count": 3,
   "metadata": {},
   "outputs": [],
   "source": [
    "train = '/Users/annapetrov/Desktop/ozon_хакатон/competition/competition/train.parquet'\n",
    "df_train = pd.read_parquet(train)"
   ]
  },
  {
   "cell_type": "code",
   "execution_count": 4,
   "metadata": {},
   "outputs": [],
   "source": [
    "# Функция для объединения нескольких массивов в один и проверки формы\n",
    "def concatenate_embeddings(embedding):\n",
    "    if isinstance(embedding, list):\n",
    "        concatenated = np.concatenate(embedding)\n",
    "    else:\n",
    "        concatenated = np.array(embedding)\n",
    "    \n",
    "    if concatenated.ndim > 1:  # Преобразуем в одномерный массив\n",
    "        concatenated = concatenated.flatten()\n",
    "    \n",
    "    return concatenated"
   ]
  },
  {
   "cell_type": "code",
   "execution_count": 5,
   "metadata": {},
   "outputs": [],
   "source": [
    "# Обработаем основной эмбеддинг\n",
    "df_resnet['main_pic_embeddings_resnet_v1'] = df_resnet['main_pic_embeddings_resnet_v1'].apply(concatenate_embeddings)\n",
    "df_resnet['pic_embeddings_resnet_v1'] = df_resnet['pic_embeddings_resnet_v1'].apply(\n",
    "    lambda x: concatenate_embeddings(x) if x is not None else np.array([]))"
   ]
  },
  {
   "cell_type": "code",
   "execution_count": 6,
   "metadata": {},
   "outputs": [],
   "source": [
    "# Объединение данных\n",
    "df_merged = df_train.merge(df_resnet, left_on='variantid1', right_on='variantid', how='left')\n",
    "df_merged = df_merged.merge(df_resnet, left_on='variantid2', right_on='variantid', how='left', suffixes=('_1', '_2'))"
   ]
  },
  {
   "cell_type": "code",
   "execution_count": 7,
   "metadata": {},
   "outputs": [],
   "source": [
    "features = {\n",
    "    'cosine_similarity_mean': [],\n",
    "    'euclidean_distance_mean': [],\n",
    "    'manhattan_distance_mean': [],\n",
    "    'chebyshev_distance_mean': [],\n",
    "    'cosine_similarity_std': [],\n",
    "    'euclidean_distance_std': [],\n",
    "    'manhattan_distance_std': [],\n",
    "    'chebyshev_distance_std': [],\n",
    "    'cosine_similarity_min': [],\n",
    "    'euclidean_distance_min': [],\n",
    "    'manhattan_distance_min': [],\n",
    "    'chebyshev_distance_min': [],\n",
    "    'cosine_similarity_max': [],\n",
    "    'euclidean_distance_max': [],\n",
    "    'manhattan_distance_max': [],\n",
    "    'chebyshev_distance_max': []\n",
    "}"
   ]
  },
  {
   "cell_type": "code",
   "execution_count": 8,
   "metadata": {},
   "outputs": [],
   "source": [
    "for idx, row in df_merged.iterrows():\n",
    "    emb1_set = row['main_pic_embeddings_resnet_v1_1']\n",
    "    emb2_set = row['main_pic_embeddings_resnet_v1_2']\n",
    "\n",
    "    # Объединяем основной и дополнительный эмбеддинги\n",
    "    if len(row['pic_embeddings_resnet_v1_1']) > 0:\n",
    "        emb1_set = np.concatenate([emb1_set, row['pic_embeddings_resnet_v1_1']])\n",
    "    if len(row['pic_embeddings_resnet_v1_2']) > 0:\n",
    "        emb2_set = np.concatenate([emb2_set, row['pic_embeddings_resnet_v1_2']])\n",
    "\n",
    "    similarities_cos = []\n",
    "    distances_euc = []\n",
    "    distances_man = []\n",
    "    distances_cheb = []\n",
    "\n",
    "    for emb1, emb2 in zip(emb1_set, emb2_set):\n",
    "        similarities_cos.append(1 - cosine(emb1, emb2))\n",
    "        distances_euc.append(euclidean(emb1, emb2))\n",
    "        distances_man.append(cityblock(emb1, emb2))\n",
    "        distances_cheb.append(chebyshev(emb1, emb2))\n",
    "\n",
    "    # Средние значения\n",
    "    features['cosine_similarity_mean'].append(np.mean(similarities_cos))\n",
    "    features['euclidean_distance_mean'].append(np.mean(distances_euc))\n",
    "    features['manhattan_distance_mean'].append(np.mean(distances_man))\n",
    "    features['chebyshev_distance_mean'].append(np.mean(distances_cheb))\n",
    "\n",
    "    # Стандартное отклонение\n",
    "    features['cosine_similarity_std'].append(np.std(similarities_cos))\n",
    "    features['euclidean_distance_std'].append(np.std(distances_euc))\n",
    "    features['manhattan_distance_std'].append(np.std(distances_man))\n",
    "    features['chebyshev_distance_std'].append(np.std(distances_cheb))\n",
    "\n",
    "    # Минимальные значения\n",
    "    features['cosine_similarity_min'].append(np.min(similarities_cos))\n",
    "    features['euclidean_distance_min'].append(np.min(distances_euc))\n",
    "    features['manhattan_distance_min'].append(np.min(distances_man))\n",
    "    features['chebyshev_distance_min'].append(np.min(distances_cheb))\n",
    "\n",
    "    # Максимальные значения\n",
    "    features['cosine_similarity_max'].append(np.max(similarities_cos))\n",
    "    features['euclidean_distance_max'].append(np.max(distances_euc))\n",
    "    features['manhattan_distance_max'].append(np.max(distances_man))\n",
    "    features['chebyshev_distance_max'].append(np.max(distances_cheb))"
   ]
  },
  {
   "cell_type": "code",
   "execution_count": 9,
   "metadata": {},
   "outputs": [],
   "source": [
    "# Создание признаков и целевой переменной\n",
    "X = pd.DataFrame(features)\n",
    "y = df_merged['target']\n",
    "X_train, X_test, y_train, y_test = train_test_split(X, y, test_size=0.2, random_state=42)"
   ]
  },
  {
   "cell_type": "code",
   "execution_count": 10,
   "metadata": {},
   "outputs": [
    {
     "data": {
      "text/plain": [
       "<catboost.core.CatBoostClassifier at 0x5ef7f97c0>"
      ]
     },
     "execution_count": 10,
     "metadata": {},
     "output_type": "execute_result"
    }
   ],
   "source": [
    "from catboost import CatBoostClassifier\n",
    "\n",
    "# Используем CatBoost без подбора гиперпараметров\n",
    "model = CatBoostClassifier(random_state=42, verbose=0)\n",
    "model.fit(X_train, y_train)"
   ]
  },
  {
   "cell_type": "code",
   "execution_count": 11,
   "metadata": {},
   "outputs": [],
   "source": [
    "# Прогнозирование и оценка модели\n",
    "y_pred = model.predict(X_test)\n",
    "y_prob = model.predict_proba(X_test)[:, 1]"
   ]
  },
  {
   "cell_type": "code",
   "execution_count": 12,
   "metadata": {},
   "outputs": [
    {
     "name": "stdout",
     "output_type": "stream",
     "text": [
      "Accuracy: 0.7230\n",
      "Precision: 0.6912\n",
      "Recall: 0.7658\n",
      "AUC: 0.7873\n"
     ]
    }
   ],
   "source": [
    "# Вывод метрик\n",
    "accuracy = accuracy_score(y_test, y_pred)\n",
    "precision = precision_score(y_test, y_pred)\n",
    "recall = recall_score(y_test, y_pred)\n",
    "auc = roc_auc_score(y_test, y_prob)\n",
    "\n",
    "print(f'Accuracy: {accuracy:.4f}')\n",
    "print(f'Precision: {precision:.4f}')\n",
    "print(f'Recall: {recall:.4f}')\n",
    "print(f'AUC: {auc:.4f}')"
   ]
  },
  {
   "cell_type": "code",
   "execution_count": null,
   "metadata": {},
   "outputs": [],
   "source": []
  },
  {
   "cell_type": "code",
   "execution_count": null,
   "metadata": {},
   "outputs": [],
   "source": []
  },
  {
   "cell_type": "code",
   "execution_count": null,
   "metadata": {},
   "outputs": [],
   "source": []
  },
  {
   "cell_type": "code",
   "execution_count": 15,
   "metadata": {},
   "outputs": [
    {
     "name": "stderr",
     "output_type": "stream",
     "text": [
      "/Users/annapetrov/Desktop/ozon_хакатон/git_repo/group_mlada/.venv/lib/python3.9/site-packages/urllib3/__init__.py:35: NotOpenSSLWarning: urllib3 v2 only supports OpenSSL 1.1.1+, currently the 'ssl' module is compiled with 'LibreSSL 2.8.3'. See: https://github.com/urllib3/urllib3/issues/3020\n",
      "  warnings.warn(\n"
     ]
    }
   ],
   "source": [
    "import numpy as np\n",
    "import pandas as pd\n",
    "from sklearn.model_selection import train_test_split\n",
    "from sklearn.preprocessing import StandardScaler\n",
    "from sklearn.metrics import accuracy_score, precision_score, recall_score, roc_auc_score\n",
    "from tensorflow.keras.models import Sequential\n",
    "from tensorflow.keras.layers import Dense\n",
    "from tensorflow.keras.optimizers import Adam"
   ]
  },
  {
   "cell_type": "code",
   "execution_count": 16,
   "metadata": {},
   "outputs": [],
   "source": [
    "# Нормализуем признаки\n",
    "scaler = StandardScaler()\n",
    "X_scaled = scaler.fit_transform(X)"
   ]
  },
  {
   "cell_type": "code",
   "execution_count": 17,
   "metadata": {},
   "outputs": [],
   "source": [
    "# Разделение данных на тренировочные и тестовые\n",
    "X_train, X_test, y_train, y_test = train_test_split(X_scaled, y, test_size=0.2, random_state=42)"
   ]
  },
  {
   "cell_type": "code",
   "execution_count": 18,
   "metadata": {},
   "outputs": [
    {
     "name": "stderr",
     "output_type": "stream",
     "text": [
      "/Users/annapetrov/Desktop/ozon_хакатон/git_repo/group_mlada/.venv/lib/python3.9/site-packages/keras/src/layers/core/dense.py:87: UserWarning: Do not pass an `input_shape`/`input_dim` argument to a layer. When using Sequential models, prefer using an `Input(shape)` object as the first layer in the model instead.\n",
      "  super().__init__(activity_regularizer=activity_regularizer, **kwargs)\n"
     ]
    }
   ],
   "source": [
    "# Построение модели\n",
    "model = Sequential([\n",
    "    Dense(64, input_dim=X_train.shape[1], activation='relu'),  # Входной слой с 64 нейронами\n",
    "    Dense(32, activation='relu'),  # Скрытый слой с 32 нейронами\n",
    "    Dense(1, activation='sigmoid')  # Выходной слой с 1 нейроном для бинарной классификации\n",
    "])"
   ]
  },
  {
   "cell_type": "code",
   "execution_count": 19,
   "metadata": {},
   "outputs": [],
   "source": [
    "# Компиляция модели\n",
    "model.compile(optimizer=Adam(learning_rate=0.001), loss='binary_crossentropy', metrics=['accuracy'])\n"
   ]
  },
  {
   "cell_type": "code",
   "execution_count": 20,
   "metadata": {},
   "outputs": [
    {
     "name": "stdout",
     "output_type": "stream",
     "text": [
      "Epoch 1/20\n",
      "\u001b[1m23371/23371\u001b[0m \u001b[32m━━━━━━━━━━━━━━━━━━━━\u001b[0m\u001b[37m\u001b[0m \u001b[1m12s\u001b[0m 474us/step - accuracy: 0.6970 - loss: 0.5756 - val_accuracy: 0.7057 - val_loss: 0.5666\n",
      "Epoch 2/20\n",
      "\u001b[1m23371/23371\u001b[0m \u001b[32m━━━━━━━━━━━━━━━━━━━━\u001b[0m\u001b[37m\u001b[0m \u001b[1m10s\u001b[0m 446us/step - accuracy: 0.7049 - loss: 0.5675 - val_accuracy: 0.7081 - val_loss: 0.5653\n",
      "Epoch 3/20\n",
      "\u001b[1m23371/23371\u001b[0m \u001b[32m━━━━━━━━━━━━━━━━━━━━\u001b[0m\u001b[37m\u001b[0m \u001b[1m10s\u001b[0m 442us/step - accuracy: 0.7063 - loss: 0.5666 - val_accuracy: 0.7105 - val_loss: 0.5629\n",
      "Epoch 4/20\n",
      "\u001b[1m23371/23371\u001b[0m \u001b[32m━━━━━━━━━━━━━━━━━━━━\u001b[0m\u001b[37m\u001b[0m \u001b[1m10s\u001b[0m 434us/step - accuracy: 0.7092 - loss: 0.5648 - val_accuracy: 0.7110 - val_loss: 0.5629\n",
      "Epoch 5/20\n",
      "\u001b[1m23371/23371\u001b[0m \u001b[32m━━━━━━━━━━━━━━━━━━━━\u001b[0m\u001b[37m\u001b[0m \u001b[1m11s\u001b[0m 466us/step - accuracy: 0.7091 - loss: 0.5649 - val_accuracy: 0.7125 - val_loss: 0.5616\n",
      "Epoch 6/20\n",
      "\u001b[1m23371/23371\u001b[0m \u001b[32m━━━━━━━━━━━━━━━━━━━━\u001b[0m\u001b[37m\u001b[0m \u001b[1m10s\u001b[0m 436us/step - accuracy: 0.7111 - loss: 0.5631 - val_accuracy: 0.7120 - val_loss: 0.5624\n",
      "Epoch 7/20\n",
      "\u001b[1m23371/23371\u001b[0m \u001b[32m━━━━━━━━━━━━━━━━━━━━\u001b[0m\u001b[37m\u001b[0m \u001b[1m11s\u001b[0m 453us/step - accuracy: 0.7126 - loss: 0.5622 - val_accuracy: 0.7133 - val_loss: 0.5608\n",
      "Epoch 8/20\n",
      "\u001b[1m23371/23371\u001b[0m \u001b[32m━━━━━━━━━━━━━━━━━━━━\u001b[0m\u001b[37m\u001b[0m \u001b[1m11s\u001b[0m 458us/step - accuracy: 0.7144 - loss: 0.5601 - val_accuracy: 0.7136 - val_loss: 0.5599\n",
      "Epoch 9/20\n",
      "\u001b[1m23371/23371\u001b[0m \u001b[32m━━━━━━━━━━━━━━━━━━━━\u001b[0m\u001b[37m\u001b[0m \u001b[1m10s\u001b[0m 437us/step - accuracy: 0.7132 - loss: 0.5613 - val_accuracy: 0.7148 - val_loss: 0.5598\n",
      "Epoch 10/20\n",
      "\u001b[1m23371/23371\u001b[0m \u001b[32m━━━━━━━━━━━━━━━━━━━━\u001b[0m\u001b[37m\u001b[0m \u001b[1m11s\u001b[0m 466us/step - accuracy: 0.7140 - loss: 0.5602 - val_accuracy: 0.7158 - val_loss: 0.5587\n",
      "Epoch 11/20\n",
      "\u001b[1m23371/23371\u001b[0m \u001b[32m━━━━━━━━━━━━━━━━━━━━\u001b[0m\u001b[37m\u001b[0m \u001b[1m11s\u001b[0m 450us/step - accuracy: 0.7133 - loss: 0.5614 - val_accuracy: 0.7144 - val_loss: 0.5600\n",
      "Epoch 12/20\n",
      "\u001b[1m23371/23371\u001b[0m \u001b[32m━━━━━━━━━━━━━━━━━━━━\u001b[0m\u001b[37m\u001b[0m \u001b[1m10s\u001b[0m 448us/step - accuracy: 0.7142 - loss: 0.5607 - val_accuracy: 0.7139 - val_loss: 0.5604\n",
      "Epoch 13/20\n",
      "\u001b[1m23371/23371\u001b[0m \u001b[32m━━━━━━━━━━━━━━━━━━━━\u001b[0m\u001b[37m\u001b[0m \u001b[1m10s\u001b[0m 436us/step - accuracy: 0.7136 - loss: 0.5607 - val_accuracy: 0.7148 - val_loss: 0.5600\n",
      "Epoch 14/20\n",
      "\u001b[1m23371/23371\u001b[0m \u001b[32m━━━━━━━━━━━━━━━━━━━━\u001b[0m\u001b[37m\u001b[0m \u001b[1m10s\u001b[0m 437us/step - accuracy: 0.7147 - loss: 0.5597 - val_accuracy: 0.7137 - val_loss: 0.5602\n",
      "Epoch 15/20\n",
      "\u001b[1m23371/23371\u001b[0m \u001b[32m━━━━━━━━━━━━━━━━━━━━\u001b[0m\u001b[37m\u001b[0m \u001b[1m10s\u001b[0m 435us/step - accuracy: 0.7151 - loss: 0.5596 - val_accuracy: 0.7144 - val_loss: 0.5598\n",
      "Epoch 16/20\n",
      "\u001b[1m23371/23371\u001b[0m \u001b[32m━━━━━━━━━━━━━━━━━━━━\u001b[0m\u001b[37m\u001b[0m \u001b[1m11s\u001b[0m 466us/step - accuracy: 0.7160 - loss: 0.5587 - val_accuracy: 0.7154 - val_loss: 0.5591\n",
      "Epoch 17/20\n",
      "\u001b[1m23371/23371\u001b[0m \u001b[32m━━━━━━━━━━━━━━━━━━━━\u001b[0m\u001b[37m\u001b[0m \u001b[1m10s\u001b[0m 441us/step - accuracy: 0.7144 - loss: 0.5600 - val_accuracy: 0.7156 - val_loss: 0.5583\n",
      "Epoch 18/20\n",
      "\u001b[1m23371/23371\u001b[0m \u001b[32m━━━━━━━━━━━━━━━━━━━━\u001b[0m\u001b[37m\u001b[0m \u001b[1m10s\u001b[0m 438us/step - accuracy: 0.7148 - loss: 0.5598 - val_accuracy: 0.7159 - val_loss: 0.5584\n",
      "Epoch 19/20\n",
      "\u001b[1m23371/23371\u001b[0m \u001b[32m━━━━━━━━━━━━━━━━━━━━\u001b[0m\u001b[37m\u001b[0m \u001b[1m11s\u001b[0m 474us/step - accuracy: 0.7153 - loss: 0.5591 - val_accuracy: 0.7158 - val_loss: 0.5582\n",
      "Epoch 20/20\n",
      "\u001b[1m23371/23371\u001b[0m \u001b[32m━━━━━━━━━━━━━━━━━━━━\u001b[0m\u001b[37m\u001b[0m \u001b[1m11s\u001b[0m 449us/step - accuracy: 0.7157 - loss: 0.5588 - val_accuracy: 0.7167 - val_loss: 0.5570\n"
     ]
    },
    {
     "data": {
      "text/plain": [
       "<keras.src.callbacks.history.History at 0x5ff3b4a30>"
      ]
     },
     "execution_count": 20,
     "metadata": {},
     "output_type": "execute_result"
    }
   ],
   "source": [
    "# Обучение модели\n",
    "model.fit(X_train, y_train, epochs=20, batch_size=32, validation_split=0.2, verbose=1)"
   ]
  },
  {
   "cell_type": "code",
   "execution_count": 21,
   "metadata": {},
   "outputs": [
    {
     "name": "stdout",
     "output_type": "stream",
     "text": [
      "\u001b[1m7304/7304\u001b[0m \u001b[32m━━━━━━━━━━━━━━━━━━━━\u001b[0m\u001b[37m\u001b[0m \u001b[1m2s\u001b[0m 253us/step\n",
      "\u001b[1m7304/7304\u001b[0m \u001b[32m━━━━━━━━━━━━━━━━━━━━\u001b[0m\u001b[37m\u001b[0m \u001b[1m2s\u001b[0m 254us/step\n"
     ]
    }
   ],
   "source": [
    "# Прогнозирование и оценка модели\n",
    "y_pred = (model.predict(X_test) > 0.5).astype(\"int32\")\n",
    "y_prob = model.predict(X_test)"
   ]
  },
  {
   "cell_type": "code",
   "execution_count": 22,
   "metadata": {},
   "outputs": [
    {
     "name": "stdout",
     "output_type": "stream",
     "text": [
      "Accuracy: 0.7174\n",
      "Precision: 0.6821\n",
      "Recall: 0.7719\n",
      "AUC: 0.7795\n"
     ]
    }
   ],
   "source": [
    "# Вывод метрик\n",
    "accuracy = accuracy_score(y_test, y_pred)\n",
    "precision = precision_score(y_test, y_pred)\n",
    "recall = recall_score(y_test, y_pred)\n",
    "auc = roc_auc_score(y_test, y_prob)\n",
    "\n",
    "print(f'Accuracy: {accuracy:.4f}')\n",
    "print(f'Precision: {precision:.4f}')\n",
    "print(f'Recall: {recall:.4f}')\n",
    "print(f'AUC: {auc:.4f}')"
   ]
  },
  {
   "cell_type": "code",
   "execution_count": null,
   "metadata": {},
   "outputs": [],
   "source": []
  },
  {
   "cell_type": "code",
   "execution_count": null,
   "metadata": {},
   "outputs": [],
   "source": []
  },
  {
   "cell_type": "code",
   "execution_count": null,
   "metadata": {},
   "outputs": [],
   "source": []
  },
  {
   "cell_type": "code",
   "execution_count": 46,
   "metadata": {},
   "outputs": [],
   "source": [
    "import numpy as np\n",
    "import pandas as pd\n",
    "from sklearn.model_selection import train_test_split\n",
    "from sklearn.preprocessing import StandardScaler\n",
    "from sklearn.metrics import accuracy_score, precision_score, recall_score, roc_auc_score\n",
    "from tensorflow.keras.models import Sequential\n",
    "from tensorflow.keras.layers import Dense, Dropout, BatchNormalization\n",
    "from tensorflow.keras.optimizers import Adam\n",
    "from tensorflow.keras.regularizers import l2\n",
    "from tensorflow.keras.metrics import AUC\n",
    "import keras_tuner as kt"
   ]
  },
  {
   "cell_type": "code",
   "execution_count": 47,
   "metadata": {},
   "outputs": [],
   "source": [
    "# Подготовка данных\n",
    "scaler = StandardScaler()\n",
    "X_scaled = scaler.fit_transform(X)"
   ]
  },
  {
   "cell_type": "code",
   "execution_count": 48,
   "metadata": {},
   "outputs": [],
   "source": [
    "# Разделение данных на тренировочные и тестовые\n",
    "X_train, X_test, y_train, y_test = train_test_split(X_scaled, y, test_size=0.2, random_state=42)"
   ]
  },
  {
   "cell_type": "code",
   "execution_count": 49,
   "metadata": {},
   "outputs": [],
   "source": [
    "# Определение функции для построения модели\n",
    "def build_model(hp):\n",
    "    model = Sequential()\n",
    "    model.add(Dense(\n",
    "        units=hp.Int('units_1', min_value=32, max_value=256, step=32),\n",
    "        activation='relu',\n",
    "        kernel_regularizer=l2(hp.Float('l2_reg_1', min_value=0.0001, max_value=0.01, sampling='LOG'))\n",
    "    ))\n",
    "    model.add(BatchNormalization())\n",
    "    model.add(Dropout(hp.Float('dropout_1', min_value=0.1, max_value=0.5, step=0.1)))\n",
    "    \n",
    "    model.add(Dense(\n",
    "        units=hp.Int('units_2', min_value=32, max_value=128, step=32),\n",
    "        activation='relu',\n",
    "        kernel_regularizer=l2(hp.Float('l2_reg_2', min_value=0.0001, max_value=0.01, sampling='LOG'))\n",
    "    ))\n",
    "    model.add(BatchNormalization())\n",
    "    model.add(Dropout(hp.Float('dropout_2', min_value=0.1, max_value=0.5, step=0.1)))\n",
    "    \n",
    "    model.add(Dense(1, activation='sigmoid'))\n",
    "    \n",
    "    model.compile(optimizer=Adam(learning_rate=hp.Float('learning_rate', min_value=0.0001, max_value=0.01, sampling='LOG')),\n",
    "                  loss='binary_crossentropy',\n",
    "                  metrics=['accuracy', AUC(name='auc')])\n",
    "    \n",
    "    return model"
   ]
  },
  {
   "cell_type": "code",
   "execution_count": 50,
   "metadata": {},
   "outputs": [],
   "source": [
    "# Инициализация тюнера\n",
    "tuner = kt.Hyperband(\n",
    "    build_model,\n",
    "    objective='val_auc',\n",
    "    max_epochs=30,\n",
    "    factor=3,\n",
    "    directory='tuner_dir',\n",
    "    project_name='hyperparameter_tuning'\n",
    ")"
   ]
  },
  {
   "cell_type": "code",
   "execution_count": 51,
   "metadata": {},
   "outputs": [],
   "source": [
    "# Ранняя остановка для предотвращения переобучения\n",
    "early_stopping = EarlyStopping(monitor='val_auc', patience=10, mode='max', restore_best_weights=True)"
   ]
  },
  {
   "cell_type": "code",
   "execution_count": 52,
   "metadata": {},
   "outputs": [
    {
     "name": "stdout",
     "output_type": "stream",
     "text": [
      "Trial 90 Complete [00h 03m 20s]\n",
      "val_auc: 0.7590652704238892\n",
      "\n",
      "Best val_auc So Far: 0.7736082077026367\n",
      "Total elapsed time: 02h 28m 37s\n"
     ]
    }
   ],
   "source": [
    "# Поиск гиперпараметров\n",
    "tuner.search(X_train, y_train, epochs=50, validation_split=0.2, callbacks=[early_stopping], verbose=1)"
   ]
  },
  {
   "cell_type": "code",
   "execution_count": 53,
   "metadata": {},
   "outputs": [
    {
     "name": "stdout",
     "output_type": "stream",
     "text": [
      "\n",
      "Лучшие гиперпараметры:\n",
      "- units_1: 96\n",
      "- units_2: 64\n",
      "- l2_reg_1: 0.0001611601449550487\n",
      "- l2_reg_2: 0.0004377992596146039\n",
      "- dropout_1: 0.2\n",
      "- dropout_2: 0.5\n",
      "- learning_rate: 0.00010469611294992556\n",
      "\n"
     ]
    }
   ],
   "source": [
    "# Вывод лучших гиперпараметров\n",
    "best_hps = tuner.get_best_hyperparameters(num_trials=1)[0]\n",
    "print(f\"\"\"\n",
    "Лучшие гиперпараметры:\n",
    "- units_1: {best_hps.get('units_1')}\n",
    "- units_2: {best_hps.get('units_2')}\n",
    "- l2_reg_1: {best_hps.get('l2_reg_1')}\n",
    "- l2_reg_2: {best_hps.get('l2_reg_2')}\n",
    "- dropout_1: {best_hps.get('dropout_1')}\n",
    "- dropout_2: {best_hps.get('dropout_2')}\n",
    "- learning_rate: {best_hps.get('learning_rate')}\n",
    "\"\"\")"
   ]
  },
  {
   "cell_type": "code",
   "execution_count": 54,
   "metadata": {},
   "outputs": [
    {
     "name": "stdout",
     "output_type": "stream",
     "text": [
      "Epoch 1/50\n",
      "\u001b[1m23371/23371\u001b[0m \u001b[32m━━━━━━━━━━━━━━━━━━━━\u001b[0m\u001b[37m\u001b[0m \u001b[1m17s\u001b[0m 685us/step - accuracy: 0.6580 - auc: 0.7112 - loss: 0.6852 - val_accuracy: 0.7027 - val_auc: 0.7643 - val_loss: 0.5842\n",
      "Epoch 2/50\n",
      "\u001b[1m23371/23371\u001b[0m \u001b[32m━━━━━━━━━━━━━━━━━━━━\u001b[0m\u001b[37m\u001b[0m \u001b[1m16s\u001b[0m 669us/step - accuracy: 0.6973 - auc: 0.7554 - loss: 0.5906 - val_accuracy: 0.7048 - val_auc: 0.7662 - val_loss: 0.5748\n",
      "Epoch 3/50\n",
      "\u001b[1m23371/23371\u001b[0m \u001b[32m━━━━━━━━━━━━━━━━━━━━\u001b[0m\u001b[37m\u001b[0m \u001b[1m15s\u001b[0m 662us/step - accuracy: 0.6979 - auc: 0.7554 - loss: 0.5848 - val_accuracy: 0.7054 - val_auc: 0.7668 - val_loss: 0.5715\n",
      "Epoch 4/50\n",
      "\u001b[1m23371/23371\u001b[0m \u001b[32m━━━━━━━━━━━━━━━━━━━━\u001b[0m\u001b[37m\u001b[0m \u001b[1m15s\u001b[0m 652us/step - accuracy: 0.7005 - auc: 0.7587 - loss: 0.5801 - val_accuracy: 0.7064 - val_auc: 0.7684 - val_loss: 0.5703\n",
      "Epoch 5/50\n",
      "\u001b[1m23371/23371\u001b[0m \u001b[32m━━━━━━━━━━━━━━━━━━━━\u001b[0m\u001b[37m\u001b[0m \u001b[1m15s\u001b[0m 659us/step - accuracy: 0.7012 - auc: 0.7592 - loss: 0.5789 - val_accuracy: 0.7085 - val_auc: 0.7695 - val_loss: 0.5689\n",
      "Epoch 6/50\n",
      "\u001b[1m23371/23371\u001b[0m \u001b[32m━━━━━━━━━━━━━━━━━━━━\u001b[0m\u001b[37m\u001b[0m \u001b[1m15s\u001b[0m 659us/step - accuracy: 0.7008 - auc: 0.7590 - loss: 0.5791 - val_accuracy: 0.7056 - val_auc: 0.7627 - val_loss: 0.5718\n",
      "Epoch 7/50\n",
      "\u001b[1m23371/23371\u001b[0m \u001b[32m━━━━━━━━━━━━━━━━━━━━\u001b[0m\u001b[37m\u001b[0m \u001b[1m15s\u001b[0m 659us/step - accuracy: 0.7018 - auc: 0.7597 - loss: 0.5780 - val_accuracy: 0.7081 - val_auc: 0.7680 - val_loss: 0.5685\n",
      "Epoch 8/50\n",
      "\u001b[1m23371/23371\u001b[0m \u001b[32m━━━━━━━━━━━━━━━━━━━━\u001b[0m\u001b[37m\u001b[0m \u001b[1m15s\u001b[0m 660us/step - accuracy: 0.7018 - auc: 0.7598 - loss: 0.5779 - val_accuracy: 0.7085 - val_auc: 0.7700 - val_loss: 0.5665\n",
      "Epoch 9/50\n",
      "\u001b[1m23371/23371\u001b[0m \u001b[32m━━━━━━━━━━━━━━━━━━━━\u001b[0m\u001b[37m\u001b[0m \u001b[1m16s\u001b[0m 665us/step - accuracy: 0.7026 - auc: 0.7598 - loss: 0.5774 - val_accuracy: 0.7103 - val_auc: 0.7706 - val_loss: 0.5661\n",
      "Epoch 10/50\n",
      "\u001b[1m23371/23371\u001b[0m \u001b[32m━━━━━━━━━━━━━━━━━━━━\u001b[0m\u001b[37m\u001b[0m \u001b[1m16s\u001b[0m 662us/step - accuracy: 0.7033 - auc: 0.7607 - loss: 0.5772 - val_accuracy: 0.7087 - val_auc: 0.7701 - val_loss: 0.5664\n",
      "Epoch 11/50\n",
      "\u001b[1m23371/23371\u001b[0m \u001b[32m━━━━━━━━━━━━━━━━━━━━\u001b[0m\u001b[37m\u001b[0m \u001b[1m15s\u001b[0m 661us/step - accuracy: 0.7035 - auc: 0.7616 - loss: 0.5761 - val_accuracy: 0.7099 - val_auc: 0.7702 - val_loss: 0.5666\n",
      "Epoch 12/50\n",
      "\u001b[1m23371/23371\u001b[0m \u001b[32m━━━━━━━━━━━━━━━━━━━━\u001b[0m\u001b[37m\u001b[0m \u001b[1m15s\u001b[0m 656us/step - accuracy: 0.7026 - auc: 0.7615 - loss: 0.5761 - val_accuracy: 0.7105 - val_auc: 0.7710 - val_loss: 0.5663\n",
      "Epoch 13/50\n",
      "\u001b[1m23371/23371\u001b[0m \u001b[32m━━━━━━━━━━━━━━━━━━━━\u001b[0m\u001b[37m\u001b[0m \u001b[1m15s\u001b[0m 657us/step - accuracy: 0.7041 - auc: 0.7613 - loss: 0.5759 - val_accuracy: 0.7106 - val_auc: 0.7713 - val_loss: 0.5656\n",
      "Epoch 14/50\n",
      "\u001b[1m23371/23371\u001b[0m \u001b[32m━━━━━━━━━━━━━━━━━━━━\u001b[0m\u001b[37m\u001b[0m \u001b[1m15s\u001b[0m 656us/step - accuracy: 0.7033 - auc: 0.7613 - loss: 0.5760 - val_accuracy: 0.7112 - val_auc: 0.7714 - val_loss: 0.5651\n",
      "Epoch 15/50\n",
      "\u001b[1m23371/23371\u001b[0m \u001b[32m━━━━━━━━━━━━━━━━━━━━\u001b[0m\u001b[37m\u001b[0m \u001b[1m15s\u001b[0m 656us/step - accuracy: 0.7029 - auc: 0.7601 - loss: 0.5771 - val_accuracy: 0.7092 - val_auc: 0.7702 - val_loss: 0.5667\n",
      "Epoch 16/50\n",
      "\u001b[1m23371/23371\u001b[0m \u001b[32m━━━━━━━━━━━━━━━━━━━━\u001b[0m\u001b[37m\u001b[0m \u001b[1m15s\u001b[0m 657us/step - accuracy: 0.7048 - auc: 0.7630 - loss: 0.5748 - val_accuracy: 0.7115 - val_auc: 0.7721 - val_loss: 0.5645\n",
      "Epoch 17/50\n",
      "\u001b[1m23371/23371\u001b[0m \u001b[32m━━━━━━━━━━━━━━━━━━━━\u001b[0m\u001b[37m\u001b[0m \u001b[1m16s\u001b[0m 662us/step - accuracy: 0.7048 - auc: 0.7620 - loss: 0.5756 - val_accuracy: 0.7107 - val_auc: 0.7717 - val_loss: 0.5649\n",
      "Epoch 18/50\n",
      "\u001b[1m23371/23371\u001b[0m \u001b[32m━━━━━━━━━━━━━━━━━━━━\u001b[0m\u001b[37m\u001b[0m \u001b[1m15s\u001b[0m 656us/step - accuracy: 0.7042 - auc: 0.7614 - loss: 0.5762 - val_accuracy: 0.7112 - val_auc: 0.7709 - val_loss: 0.5664\n",
      "Epoch 19/50\n",
      "\u001b[1m23371/23371\u001b[0m \u001b[32m━━━━━━━━━━━━━━━━━━━━\u001b[0m\u001b[37m\u001b[0m \u001b[1m15s\u001b[0m 656us/step - accuracy: 0.7051 - auc: 0.7623 - loss: 0.5753 - val_accuracy: 0.7116 - val_auc: 0.7714 - val_loss: 0.5658\n",
      "Epoch 20/50\n",
      "\u001b[1m23371/23371\u001b[0m \u001b[32m━━━━━━━━━━━━━━━━━━━━\u001b[0m\u001b[37m\u001b[0m \u001b[1m15s\u001b[0m 658us/step - accuracy: 0.7053 - auc: 0.7624 - loss: 0.5758 - val_accuracy: 0.7123 - val_auc: 0.7724 - val_loss: 0.5647\n",
      "Epoch 21/50\n",
      "\u001b[1m23371/23371\u001b[0m \u001b[32m━━━━━━━━━━━━━━━━━━━━\u001b[0m\u001b[37m\u001b[0m \u001b[1m15s\u001b[0m 661us/step - accuracy: 0.7046 - auc: 0.7635 - loss: 0.5744 - val_accuracy: 0.7123 - val_auc: 0.7727 - val_loss: 0.5639\n",
      "Epoch 22/50\n",
      "\u001b[1m23371/23371\u001b[0m \u001b[32m━━━━━━━━━━━━━━━━━━━━\u001b[0m\u001b[37m\u001b[0m \u001b[1m15s\u001b[0m 655us/step - accuracy: 0.7044 - auc: 0.7625 - loss: 0.5751 - val_accuracy: 0.7118 - val_auc: 0.7726 - val_loss: 0.5642\n",
      "Epoch 23/50\n",
      "\u001b[1m23371/23371\u001b[0m \u001b[32m━━━━━━━━━━━━━━━━━━━━\u001b[0m\u001b[37m\u001b[0m \u001b[1m15s\u001b[0m 659us/step - accuracy: 0.7042 - auc: 0.7613 - loss: 0.5760 - val_accuracy: 0.7124 - val_auc: 0.7725 - val_loss: 0.5643\n",
      "Epoch 24/50\n",
      "\u001b[1m23371/23371\u001b[0m \u001b[32m━━━━━━━━━━━━━━━━━━━━\u001b[0m\u001b[37m\u001b[0m \u001b[1m15s\u001b[0m 659us/step - accuracy: 0.7044 - auc: 0.7622 - loss: 0.5752 - val_accuracy: 0.7124 - val_auc: 0.7726 - val_loss: 0.5641\n",
      "Epoch 25/50\n",
      "\u001b[1m23371/23371\u001b[0m \u001b[32m━━━━━━━━━━━━━━━━━━━━\u001b[0m\u001b[37m\u001b[0m \u001b[1m15s\u001b[0m 660us/step - accuracy: 0.7058 - auc: 0.7633 - loss: 0.5747 - val_accuracy: 0.7123 - val_auc: 0.7724 - val_loss: 0.5642\n",
      "Epoch 26/50\n",
      "\u001b[1m23371/23371\u001b[0m \u001b[32m━━━━━━━━━━━━━━━━━━━━\u001b[0m\u001b[37m\u001b[0m \u001b[1m15s\u001b[0m 658us/step - accuracy: 0.7054 - auc: 0.7626 - loss: 0.5746 - val_accuracy: 0.7129 - val_auc: 0.7731 - val_loss: 0.5634\n",
      "Epoch 27/50\n",
      "\u001b[1m23371/23371\u001b[0m \u001b[32m━━━━━━━━━━━━━━━━━━━━\u001b[0m\u001b[37m\u001b[0m \u001b[1m15s\u001b[0m 659us/step - accuracy: 0.7060 - auc: 0.7645 - loss: 0.5735 - val_accuracy: 0.7127 - val_auc: 0.7728 - val_loss: 0.5640\n",
      "Epoch 28/50\n",
      "\u001b[1m23371/23371\u001b[0m \u001b[32m━━━━━━━━━━━━━━━━━━━━\u001b[0m\u001b[37m\u001b[0m \u001b[1m15s\u001b[0m 659us/step - accuracy: 0.7044 - auc: 0.7618 - loss: 0.5756 - val_accuracy: 0.7136 - val_auc: 0.7735 - val_loss: 0.5638\n",
      "Epoch 29/50\n",
      "\u001b[1m23371/23371\u001b[0m \u001b[32m━━━━━━━━━━━━━━━━━━━━\u001b[0m\u001b[37m\u001b[0m \u001b[1m15s\u001b[0m 657us/step - accuracy: 0.7053 - auc: 0.7626 - loss: 0.5753 - val_accuracy: 0.7134 - val_auc: 0.7728 - val_loss: 0.5639\n",
      "Epoch 30/50\n",
      "\u001b[1m23371/23371\u001b[0m \u001b[32m━━━━━━━━━━━━━━━━━━━━\u001b[0m\u001b[37m\u001b[0m \u001b[1m15s\u001b[0m 662us/step - accuracy: 0.7051 - auc: 0.7622 - loss: 0.5752 - val_accuracy: 0.7135 - val_auc: 0.7735 - val_loss: 0.5632\n",
      "Epoch 31/50\n",
      "\u001b[1m23371/23371\u001b[0m \u001b[32m━━━━━━━━━━━━━━━━━━━━\u001b[0m\u001b[37m\u001b[0m \u001b[1m16s\u001b[0m 664us/step - accuracy: 0.7052 - auc: 0.7629 - loss: 0.5749 - val_accuracy: 0.7135 - val_auc: 0.7734 - val_loss: 0.5638\n",
      "Epoch 32/50\n",
      "\u001b[1m23371/23371\u001b[0m \u001b[32m━━━━━━━━━━━━━━━━━━━━\u001b[0m\u001b[37m\u001b[0m \u001b[1m15s\u001b[0m 657us/step - accuracy: 0.7048 - auc: 0.7622 - loss: 0.5755 - val_accuracy: 0.7139 - val_auc: 0.7744 - val_loss: 0.5632\n",
      "Epoch 33/50\n",
      "\u001b[1m23371/23371\u001b[0m \u001b[32m━━━━━━━━━━━━━━━━━━━━\u001b[0m\u001b[37m\u001b[0m \u001b[1m15s\u001b[0m 656us/step - accuracy: 0.7050 - auc: 0.7619 - loss: 0.5751 - val_accuracy: 0.7125 - val_auc: 0.7717 - val_loss: 0.5644\n",
      "Epoch 34/50\n",
      "\u001b[1m23371/23371\u001b[0m \u001b[32m━━━━━━━━━━━━━━━━━━━━\u001b[0m\u001b[37m\u001b[0m \u001b[1m15s\u001b[0m 661us/step - accuracy: 0.7046 - auc: 0.7621 - loss: 0.5754 - val_accuracy: 0.7117 - val_auc: 0.7716 - val_loss: 0.5653\n",
      "Epoch 35/50\n",
      "\u001b[1m23371/23371\u001b[0m \u001b[32m━━━━━━━━━━━━━━━━━━━━\u001b[0m\u001b[37m\u001b[0m \u001b[1m15s\u001b[0m 657us/step - accuracy: 0.7036 - auc: 0.7613 - loss: 0.5763 - val_accuracy: 0.7075 - val_auc: 0.7694 - val_loss: 0.5677\n",
      "Epoch 36/50\n",
      "\u001b[1m23371/23371\u001b[0m \u001b[32m━━━━━━━━━━━━━━━━━━━━\u001b[0m\u001b[37m\u001b[0m \u001b[1m15s\u001b[0m 659us/step - accuracy: 0.7050 - auc: 0.7626 - loss: 0.5754 - val_accuracy: 0.7120 - val_auc: 0.7732 - val_loss: 0.5638\n",
      "Epoch 37/50\n",
      "\u001b[1m23371/23371\u001b[0m \u001b[32m━━━━━━━━━━━━━━━━━━━━\u001b[0m\u001b[37m\u001b[0m \u001b[1m15s\u001b[0m 659us/step - accuracy: 0.7056 - auc: 0.7629 - loss: 0.5747 - val_accuracy: 0.7133 - val_auc: 0.7738 - val_loss: 0.5635\n",
      "Epoch 38/50\n",
      "\u001b[1m23371/23371\u001b[0m \u001b[32m━━━━━━━━━━━━━━━━━━━━\u001b[0m\u001b[37m\u001b[0m \u001b[1m15s\u001b[0m 661us/step - accuracy: 0.7055 - auc: 0.7638 - loss: 0.5738 - val_accuracy: 0.7120 - val_auc: 0.7722 - val_loss: 0.5647\n",
      "Epoch 39/50\n",
      "\u001b[1m23371/23371\u001b[0m \u001b[32m━━━━━━━━━━━━━━━━━━━━\u001b[0m\u001b[37m\u001b[0m \u001b[1m15s\u001b[0m 656us/step - accuracy: 0.7052 - auc: 0.7630 - loss: 0.5746 - val_accuracy: 0.7137 - val_auc: 0.7743 - val_loss: 0.5634\n",
      "Epoch 40/50\n",
      "\u001b[1m23371/23371\u001b[0m \u001b[32m━━━━━━━━━━━━━━━━━━━━\u001b[0m\u001b[37m\u001b[0m \u001b[1m15s\u001b[0m 658us/step - accuracy: 0.7064 - auc: 0.7642 - loss: 0.5739 - val_accuracy: 0.7120 - val_auc: 0.7733 - val_loss: 0.5631\n",
      "Epoch 41/50\n",
      "\u001b[1m23371/23371\u001b[0m \u001b[32m━━━━━━━━━━━━━━━━━━━━\u001b[0m\u001b[37m\u001b[0m \u001b[1m15s\u001b[0m 656us/step - accuracy: 0.7058 - auc: 0.7633 - loss: 0.5748 - val_accuracy: 0.7131 - val_auc: 0.7738 - val_loss: 0.5634\n",
      "Epoch 42/50\n",
      "\u001b[1m23371/23371\u001b[0m \u001b[32m━━━━━━━━━━━━━━━━━━━━\u001b[0m\u001b[37m\u001b[0m \u001b[1m15s\u001b[0m 660us/step - accuracy: 0.7058 - auc: 0.7635 - loss: 0.5746 - val_accuracy: 0.7126 - val_auc: 0.7737 - val_loss: 0.5633\n"
     ]
    },
    {
     "data": {
      "text/plain": [
       "<keras.src.callbacks.history.History at 0x6ad916fa0>"
      ]
     },
     "execution_count": 54,
     "metadata": {},
     "output_type": "execute_result"
    }
   ],
   "source": [
    "# Обучение модели с лучшими гиперпараметрами\n",
    "best_model = tuner.hypermodel.build(best_hps)\n",
    "best_model.fit(X_train, y_train, epochs=50, validation_split=0.2, callbacks=[early_stopping], verbose=1)"
   ]
  },
  {
   "cell_type": "code",
   "execution_count": 55,
   "metadata": {},
   "outputs": [
    {
     "name": "stdout",
     "output_type": "stream",
     "text": [
      "\u001b[1m7304/7304\u001b[0m \u001b[32m━━━━━━━━━━━━━━━━━━━━\u001b[0m\u001b[37m\u001b[0m \u001b[1m2s\u001b[0m 298us/step\n",
      "\u001b[1m7304/7304\u001b[0m \u001b[32m━━━━━━━━━━━━━━━━━━━━\u001b[0m\u001b[37m\u001b[0m \u001b[1m2s\u001b[0m 288us/step\n"
     ]
    }
   ],
   "source": [
    "# Прогнозирование и оценка модели\n",
    "y_pred = (best_model.predict(X_test) > 0.5).astype(\"int32\")\n",
    "y_prob = best_model.predict(X_test)"
   ]
  },
  {
   "cell_type": "code",
   "execution_count": 56,
   "metadata": {},
   "outputs": [
    {
     "name": "stdout",
     "output_type": "stream",
     "text": [
      "Accuracy: 0.7146\n",
      "Precision: 0.6778\n",
      "Recall: 0.7741\n",
      "AUC: 0.7759\n"
     ]
    }
   ],
   "source": [
    "# Вывод метрик\n",
    "accuracy = accuracy_score(y_test, y_pred)\n",
    "precision = precision_score(y_test, y_pred)\n",
    "recall = recall_score(y_test, y_pred)\n",
    "auc = roc_auc_score(y_test, y_prob)\n",
    "\n",
    "print(f'Accuracy: {accuracy:.4f}')\n",
    "print(f'Precision: {precision:.4f}')\n",
    "print(f'Recall: {recall:.4f}')\n",
    "print(f'AUC: {auc:.4f}')"
   ]
  },
  {
   "cell_type": "code",
   "execution_count": null,
   "metadata": {},
   "outputs": [],
   "source": []
  },
  {
   "cell_type": "code",
   "execution_count": null,
   "metadata": {},
   "outputs": [],
   "source": []
  },
  {
   "cell_type": "code",
   "execution_count": 9,
   "metadata": {},
   "outputs": [],
   "source": [
    "# Создание признаков и целевой переменной\n",
    "X = pd.DataFrame(features)\n",
    "y = df_merged['target']\n",
    "X_train, X_test, y_train, y_test = train_test_split(X, y, test_size=0.2, random_state=42)"
   ]
  },
  {
   "cell_type": "code",
   "execution_count": 10,
   "metadata": {},
   "outputs": [
    {
     "data": {
      "text/html": [
       "<style>#sk-container-id-1 {\n",
       "  /* Definition of color scheme common for light and dark mode */\n",
       "  --sklearn-color-text: black;\n",
       "  --sklearn-color-line: gray;\n",
       "  /* Definition of color scheme for unfitted estimators */\n",
       "  --sklearn-color-unfitted-level-0: #fff5e6;\n",
       "  --sklearn-color-unfitted-level-1: #f6e4d2;\n",
       "  --sklearn-color-unfitted-level-2: #ffe0b3;\n",
       "  --sklearn-color-unfitted-level-3: chocolate;\n",
       "  /* Definition of color scheme for fitted estimators */\n",
       "  --sklearn-color-fitted-level-0: #f0f8ff;\n",
       "  --sklearn-color-fitted-level-1: #d4ebff;\n",
       "  --sklearn-color-fitted-level-2: #b3dbfd;\n",
       "  --sklearn-color-fitted-level-3: cornflowerblue;\n",
       "\n",
       "  /* Specific color for light theme */\n",
       "  --sklearn-color-text-on-default-background: var(--sg-text-color, var(--theme-code-foreground, var(--jp-content-font-color1, black)));\n",
       "  --sklearn-color-background: var(--sg-background-color, var(--theme-background, var(--jp-layout-color0, white)));\n",
       "  --sklearn-color-border-box: var(--sg-text-color, var(--theme-code-foreground, var(--jp-content-font-color1, black)));\n",
       "  --sklearn-color-icon: #696969;\n",
       "\n",
       "  @media (prefers-color-scheme: dark) {\n",
       "    /* Redefinition of color scheme for dark theme */\n",
       "    --sklearn-color-text-on-default-background: var(--sg-text-color, var(--theme-code-foreground, var(--jp-content-font-color1, white)));\n",
       "    --sklearn-color-background: var(--sg-background-color, var(--theme-background, var(--jp-layout-color0, #111)));\n",
       "    --sklearn-color-border-box: var(--sg-text-color, var(--theme-code-foreground, var(--jp-content-font-color1, white)));\n",
       "    --sklearn-color-icon: #878787;\n",
       "  }\n",
       "}\n",
       "\n",
       "#sk-container-id-1 {\n",
       "  color: var(--sklearn-color-text);\n",
       "}\n",
       "\n",
       "#sk-container-id-1 pre {\n",
       "  padding: 0;\n",
       "}\n",
       "\n",
       "#sk-container-id-1 input.sk-hidden--visually {\n",
       "  border: 0;\n",
       "  clip: rect(1px 1px 1px 1px);\n",
       "  clip: rect(1px, 1px, 1px, 1px);\n",
       "  height: 1px;\n",
       "  margin: -1px;\n",
       "  overflow: hidden;\n",
       "  padding: 0;\n",
       "  position: absolute;\n",
       "  width: 1px;\n",
       "}\n",
       "\n",
       "#sk-container-id-1 div.sk-dashed-wrapped {\n",
       "  border: 1px dashed var(--sklearn-color-line);\n",
       "  margin: 0 0.4em 0.5em 0.4em;\n",
       "  box-sizing: border-box;\n",
       "  padding-bottom: 0.4em;\n",
       "  background-color: var(--sklearn-color-background);\n",
       "}\n",
       "\n",
       "#sk-container-id-1 div.sk-container {\n",
       "  /* jupyter's `normalize.less` sets `[hidden] { display: none; }`\n",
       "     but bootstrap.min.css set `[hidden] { display: none !important; }`\n",
       "     so we also need the `!important` here to be able to override the\n",
       "     default hidden behavior on the sphinx rendered scikit-learn.org.\n",
       "     See: https://github.com/scikit-learn/scikit-learn/issues/21755 */\n",
       "  display: inline-block !important;\n",
       "  position: relative;\n",
       "}\n",
       "\n",
       "#sk-container-id-1 div.sk-text-repr-fallback {\n",
       "  display: none;\n",
       "}\n",
       "\n",
       "div.sk-parallel-item,\n",
       "div.sk-serial,\n",
       "div.sk-item {\n",
       "  /* draw centered vertical line to link estimators */\n",
       "  background-image: linear-gradient(var(--sklearn-color-text-on-default-background), var(--sklearn-color-text-on-default-background));\n",
       "  background-size: 2px 100%;\n",
       "  background-repeat: no-repeat;\n",
       "  background-position: center center;\n",
       "}\n",
       "\n",
       "/* Parallel-specific style estimator block */\n",
       "\n",
       "#sk-container-id-1 div.sk-parallel-item::after {\n",
       "  content: \"\";\n",
       "  width: 100%;\n",
       "  border-bottom: 2px solid var(--sklearn-color-text-on-default-background);\n",
       "  flex-grow: 1;\n",
       "}\n",
       "\n",
       "#sk-container-id-1 div.sk-parallel {\n",
       "  display: flex;\n",
       "  align-items: stretch;\n",
       "  justify-content: center;\n",
       "  background-color: var(--sklearn-color-background);\n",
       "  position: relative;\n",
       "}\n",
       "\n",
       "#sk-container-id-1 div.sk-parallel-item {\n",
       "  display: flex;\n",
       "  flex-direction: column;\n",
       "}\n",
       "\n",
       "#sk-container-id-1 div.sk-parallel-item:first-child::after {\n",
       "  align-self: flex-end;\n",
       "  width: 50%;\n",
       "}\n",
       "\n",
       "#sk-container-id-1 div.sk-parallel-item:last-child::after {\n",
       "  align-self: flex-start;\n",
       "  width: 50%;\n",
       "}\n",
       "\n",
       "#sk-container-id-1 div.sk-parallel-item:only-child::after {\n",
       "  width: 0;\n",
       "}\n",
       "\n",
       "/* Serial-specific style estimator block */\n",
       "\n",
       "#sk-container-id-1 div.sk-serial {\n",
       "  display: flex;\n",
       "  flex-direction: column;\n",
       "  align-items: center;\n",
       "  background-color: var(--sklearn-color-background);\n",
       "  padding-right: 1em;\n",
       "  padding-left: 1em;\n",
       "}\n",
       "\n",
       "\n",
       "/* Toggleable style: style used for estimator/Pipeline/ColumnTransformer box that is\n",
       "clickable and can be expanded/collapsed.\n",
       "- Pipeline and ColumnTransformer use this feature and define the default style\n",
       "- Estimators will overwrite some part of the style using the `sk-estimator` class\n",
       "*/\n",
       "\n",
       "/* Pipeline and ColumnTransformer style (default) */\n",
       "\n",
       "#sk-container-id-1 div.sk-toggleable {\n",
       "  /* Default theme specific background. It is overwritten whether we have a\n",
       "  specific estimator or a Pipeline/ColumnTransformer */\n",
       "  background-color: var(--sklearn-color-background);\n",
       "}\n",
       "\n",
       "/* Toggleable label */\n",
       "#sk-container-id-1 label.sk-toggleable__label {\n",
       "  cursor: pointer;\n",
       "  display: block;\n",
       "  width: 100%;\n",
       "  margin-bottom: 0;\n",
       "  padding: 0.5em;\n",
       "  box-sizing: border-box;\n",
       "  text-align: center;\n",
       "}\n",
       "\n",
       "#sk-container-id-1 label.sk-toggleable__label-arrow:before {\n",
       "  /* Arrow on the left of the label */\n",
       "  content: \"▸\";\n",
       "  float: left;\n",
       "  margin-right: 0.25em;\n",
       "  color: var(--sklearn-color-icon);\n",
       "}\n",
       "\n",
       "#sk-container-id-1 label.sk-toggleable__label-arrow:hover:before {\n",
       "  color: var(--sklearn-color-text);\n",
       "}\n",
       "\n",
       "/* Toggleable content - dropdown */\n",
       "\n",
       "#sk-container-id-1 div.sk-toggleable__content {\n",
       "  max-height: 0;\n",
       "  max-width: 0;\n",
       "  overflow: hidden;\n",
       "  text-align: left;\n",
       "  /* unfitted */\n",
       "  background-color: var(--sklearn-color-unfitted-level-0);\n",
       "}\n",
       "\n",
       "#sk-container-id-1 div.sk-toggleable__content.fitted {\n",
       "  /* fitted */\n",
       "  background-color: var(--sklearn-color-fitted-level-0);\n",
       "}\n",
       "\n",
       "#sk-container-id-1 div.sk-toggleable__content pre {\n",
       "  margin: 0.2em;\n",
       "  border-radius: 0.25em;\n",
       "  color: var(--sklearn-color-text);\n",
       "  /* unfitted */\n",
       "  background-color: var(--sklearn-color-unfitted-level-0);\n",
       "}\n",
       "\n",
       "#sk-container-id-1 div.sk-toggleable__content.fitted pre {\n",
       "  /* unfitted */\n",
       "  background-color: var(--sklearn-color-fitted-level-0);\n",
       "}\n",
       "\n",
       "#sk-container-id-1 input.sk-toggleable__control:checked~div.sk-toggleable__content {\n",
       "  /* Expand drop-down */\n",
       "  max-height: 200px;\n",
       "  max-width: 100%;\n",
       "  overflow: auto;\n",
       "}\n",
       "\n",
       "#sk-container-id-1 input.sk-toggleable__control:checked~label.sk-toggleable__label-arrow:before {\n",
       "  content: \"▾\";\n",
       "}\n",
       "\n",
       "/* Pipeline/ColumnTransformer-specific style */\n",
       "\n",
       "#sk-container-id-1 div.sk-label input.sk-toggleable__control:checked~label.sk-toggleable__label {\n",
       "  color: var(--sklearn-color-text);\n",
       "  background-color: var(--sklearn-color-unfitted-level-2);\n",
       "}\n",
       "\n",
       "#sk-container-id-1 div.sk-label.fitted input.sk-toggleable__control:checked~label.sk-toggleable__label {\n",
       "  background-color: var(--sklearn-color-fitted-level-2);\n",
       "}\n",
       "\n",
       "/* Estimator-specific style */\n",
       "\n",
       "/* Colorize estimator box */\n",
       "#sk-container-id-1 div.sk-estimator input.sk-toggleable__control:checked~label.sk-toggleable__label {\n",
       "  /* unfitted */\n",
       "  background-color: var(--sklearn-color-unfitted-level-2);\n",
       "}\n",
       "\n",
       "#sk-container-id-1 div.sk-estimator.fitted input.sk-toggleable__control:checked~label.sk-toggleable__label {\n",
       "  /* fitted */\n",
       "  background-color: var(--sklearn-color-fitted-level-2);\n",
       "}\n",
       "\n",
       "#sk-container-id-1 div.sk-label label.sk-toggleable__label,\n",
       "#sk-container-id-1 div.sk-label label {\n",
       "  /* The background is the default theme color */\n",
       "  color: var(--sklearn-color-text-on-default-background);\n",
       "}\n",
       "\n",
       "/* On hover, darken the color of the background */\n",
       "#sk-container-id-1 div.sk-label:hover label.sk-toggleable__label {\n",
       "  color: var(--sklearn-color-text);\n",
       "  background-color: var(--sklearn-color-unfitted-level-2);\n",
       "}\n",
       "\n",
       "/* Label box, darken color on hover, fitted */\n",
       "#sk-container-id-1 div.sk-label.fitted:hover label.sk-toggleable__label.fitted {\n",
       "  color: var(--sklearn-color-text);\n",
       "  background-color: var(--sklearn-color-fitted-level-2);\n",
       "}\n",
       "\n",
       "/* Estimator label */\n",
       "\n",
       "#sk-container-id-1 div.sk-label label {\n",
       "  font-family: monospace;\n",
       "  font-weight: bold;\n",
       "  display: inline-block;\n",
       "  line-height: 1.2em;\n",
       "}\n",
       "\n",
       "#sk-container-id-1 div.sk-label-container {\n",
       "  text-align: center;\n",
       "}\n",
       "\n",
       "/* Estimator-specific */\n",
       "#sk-container-id-1 div.sk-estimator {\n",
       "  font-family: monospace;\n",
       "  border: 1px dotted var(--sklearn-color-border-box);\n",
       "  border-radius: 0.25em;\n",
       "  box-sizing: border-box;\n",
       "  margin-bottom: 0.5em;\n",
       "  /* unfitted */\n",
       "  background-color: var(--sklearn-color-unfitted-level-0);\n",
       "}\n",
       "\n",
       "#sk-container-id-1 div.sk-estimator.fitted {\n",
       "  /* fitted */\n",
       "  background-color: var(--sklearn-color-fitted-level-0);\n",
       "}\n",
       "\n",
       "/* on hover */\n",
       "#sk-container-id-1 div.sk-estimator:hover {\n",
       "  /* unfitted */\n",
       "  background-color: var(--sklearn-color-unfitted-level-2);\n",
       "}\n",
       "\n",
       "#sk-container-id-1 div.sk-estimator.fitted:hover {\n",
       "  /* fitted */\n",
       "  background-color: var(--sklearn-color-fitted-level-2);\n",
       "}\n",
       "\n",
       "/* Specification for estimator info (e.g. \"i\" and \"?\") */\n",
       "\n",
       "/* Common style for \"i\" and \"?\" */\n",
       "\n",
       ".sk-estimator-doc-link,\n",
       "a:link.sk-estimator-doc-link,\n",
       "a:visited.sk-estimator-doc-link {\n",
       "  float: right;\n",
       "  font-size: smaller;\n",
       "  line-height: 1em;\n",
       "  font-family: monospace;\n",
       "  background-color: var(--sklearn-color-background);\n",
       "  border-radius: 1em;\n",
       "  height: 1em;\n",
       "  width: 1em;\n",
       "  text-decoration: none !important;\n",
       "  margin-left: 1ex;\n",
       "  /* unfitted */\n",
       "  border: var(--sklearn-color-unfitted-level-1) 1pt solid;\n",
       "  color: var(--sklearn-color-unfitted-level-1);\n",
       "}\n",
       "\n",
       ".sk-estimator-doc-link.fitted,\n",
       "a:link.sk-estimator-doc-link.fitted,\n",
       "a:visited.sk-estimator-doc-link.fitted {\n",
       "  /* fitted */\n",
       "  border: var(--sklearn-color-fitted-level-1) 1pt solid;\n",
       "  color: var(--sklearn-color-fitted-level-1);\n",
       "}\n",
       "\n",
       "/* On hover */\n",
       "div.sk-estimator:hover .sk-estimator-doc-link:hover,\n",
       ".sk-estimator-doc-link:hover,\n",
       "div.sk-label-container:hover .sk-estimator-doc-link:hover,\n",
       ".sk-estimator-doc-link:hover {\n",
       "  /* unfitted */\n",
       "  background-color: var(--sklearn-color-unfitted-level-3);\n",
       "  color: var(--sklearn-color-background);\n",
       "  text-decoration: none;\n",
       "}\n",
       "\n",
       "div.sk-estimator.fitted:hover .sk-estimator-doc-link.fitted:hover,\n",
       ".sk-estimator-doc-link.fitted:hover,\n",
       "div.sk-label-container:hover .sk-estimator-doc-link.fitted:hover,\n",
       ".sk-estimator-doc-link.fitted:hover {\n",
       "  /* fitted */\n",
       "  background-color: var(--sklearn-color-fitted-level-3);\n",
       "  color: var(--sklearn-color-background);\n",
       "  text-decoration: none;\n",
       "}\n",
       "\n",
       "/* Span, style for the box shown on hovering the info icon */\n",
       ".sk-estimator-doc-link span {\n",
       "  display: none;\n",
       "  z-index: 9999;\n",
       "  position: relative;\n",
       "  font-weight: normal;\n",
       "  right: .2ex;\n",
       "  padding: .5ex;\n",
       "  margin: .5ex;\n",
       "  width: min-content;\n",
       "  min-width: 20ex;\n",
       "  max-width: 50ex;\n",
       "  color: var(--sklearn-color-text);\n",
       "  box-shadow: 2pt 2pt 4pt #999;\n",
       "  /* unfitted */\n",
       "  background: var(--sklearn-color-unfitted-level-0);\n",
       "  border: .5pt solid var(--sklearn-color-unfitted-level-3);\n",
       "}\n",
       "\n",
       ".sk-estimator-doc-link.fitted span {\n",
       "  /* fitted */\n",
       "  background: var(--sklearn-color-fitted-level-0);\n",
       "  border: var(--sklearn-color-fitted-level-3);\n",
       "}\n",
       "\n",
       ".sk-estimator-doc-link:hover span {\n",
       "  display: block;\n",
       "}\n",
       "\n",
       "/* \"?\"-specific style due to the `<a>` HTML tag */\n",
       "\n",
       "#sk-container-id-1 a.estimator_doc_link {\n",
       "  float: right;\n",
       "  font-size: 1rem;\n",
       "  line-height: 1em;\n",
       "  font-family: monospace;\n",
       "  background-color: var(--sklearn-color-background);\n",
       "  border-radius: 1rem;\n",
       "  height: 1rem;\n",
       "  width: 1rem;\n",
       "  text-decoration: none;\n",
       "  /* unfitted */\n",
       "  color: var(--sklearn-color-unfitted-level-1);\n",
       "  border: var(--sklearn-color-unfitted-level-1) 1pt solid;\n",
       "}\n",
       "\n",
       "#sk-container-id-1 a.estimator_doc_link.fitted {\n",
       "  /* fitted */\n",
       "  border: var(--sklearn-color-fitted-level-1) 1pt solid;\n",
       "  color: var(--sklearn-color-fitted-level-1);\n",
       "}\n",
       "\n",
       "/* On hover */\n",
       "#sk-container-id-1 a.estimator_doc_link:hover {\n",
       "  /* unfitted */\n",
       "  background-color: var(--sklearn-color-unfitted-level-3);\n",
       "  color: var(--sklearn-color-background);\n",
       "  text-decoration: none;\n",
       "}\n",
       "\n",
       "#sk-container-id-1 a.estimator_doc_link.fitted:hover {\n",
       "  /* fitted */\n",
       "  background-color: var(--sklearn-color-fitted-level-3);\n",
       "}\n",
       "</style><div id=\"sk-container-id-1\" class=\"sk-top-container\"><div class=\"sk-text-repr-fallback\"><pre>RandomForestClassifier(random_state=42)</pre><b>In a Jupyter environment, please rerun this cell to show the HTML representation or trust the notebook. <br />On GitHub, the HTML representation is unable to render, please try loading this page with nbviewer.org.</b></div><div class=\"sk-container\" hidden><div class=\"sk-item\"><div class=\"sk-estimator fitted sk-toggleable\"><input class=\"sk-toggleable__control sk-hidden--visually\" id=\"sk-estimator-id-1\" type=\"checkbox\" checked><label for=\"sk-estimator-id-1\" class=\"sk-toggleable__label fitted sk-toggleable__label-arrow fitted\">&nbsp;&nbsp;RandomForestClassifier<a class=\"sk-estimator-doc-link fitted\" rel=\"noreferrer\" target=\"_blank\" href=\"https://scikit-learn.org/1.5/modules/generated/sklearn.ensemble.RandomForestClassifier.html\">?<span>Documentation for RandomForestClassifier</span></a><span class=\"sk-estimator-doc-link fitted\">i<span>Fitted</span></span></label><div class=\"sk-toggleable__content fitted\"><pre>RandomForestClassifier(random_state=42)</pre></div> </div></div></div></div>"
      ],
      "text/plain": [
       "RandomForestClassifier(random_state=42)"
      ]
     },
     "execution_count": 10,
     "metadata": {},
     "output_type": "execute_result"
    }
   ],
   "source": [
    "from sklearn.ensemble import RandomForestClassifier\n",
    "# Используем LightGBM без подбора гиперпараметров\n",
    "model = RandomForestClassifier(n_estimators=100, random_state=42)\n",
    "model.fit(X_train, y_train)"
   ]
  },
  {
   "cell_type": "code",
   "execution_count": 11,
   "metadata": {},
   "outputs": [],
   "source": [
    "# Прогнозирование и оценка модели\n",
    "y_pred = model.predict(X_test)\n",
    "y_prob = model.predict_proba(X_test)[:, 1]"
   ]
  },
  {
   "cell_type": "code",
   "execution_count": 12,
   "metadata": {},
   "outputs": [
    {
     "name": "stdout",
     "output_type": "stream",
     "text": [
      "Accuracy: 0.7269\n",
      "Precision: 0.6991\n",
      "Recall: 0.7582\n",
      "AUC: 0.7927\n"
     ]
    }
   ],
   "source": [
    "# Вывод метрик\n",
    "accuracy = accuracy_score(y_test, y_pred)\n",
    "precision = precision_score(y_test, y_pred)\n",
    "recall = recall_score(y_test, y_pred)\n",
    "auc = roc_auc_score(y_test, y_prob)\n",
    "\n",
    "print(f'Accuracy: {accuracy:.4f}')\n",
    "print(f'Precision: {precision:.4f}')\n",
    "print(f'Recall: {recall:.4f}')\n",
    "print(f'AUC: {auc:.4f}')"
   ]
  }
 ],
 "metadata": {
  "kernelspec": {
   "display_name": ".venv",
   "language": "python",
   "name": "python3"
  },
  "language_info": {
   "codemirror_mode": {
    "name": "ipython",
    "version": 3
   },
   "file_extension": ".py",
   "mimetype": "text/x-python",
   "name": "python",
   "nbconvert_exporter": "python",
   "pygments_lexer": "ipython3",
   "version": "3.9.6"
  }
 },
 "nbformat": 4,
 "nbformat_minor": 2
}
