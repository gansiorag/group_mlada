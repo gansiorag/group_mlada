{
 "cells": [
  {
   "cell_type": "code",
   "execution_count": null,
   "metadata": {},
   "outputs": [],
   "source": [
    "import numpy as np\n",
    "import pandas as pd\n",
    "from scipy.spatial.distance import cosine, euclidean\n",
    "from sklearn.model_selection import train_test_split\n",
    "from sklearn.linear_model import LogisticRegression\n",
    "from sklearn.metrics import accuracy_score, precision_score, recall_score, roc_auc_score"
   ]
  },
  {
   "cell_type": "code",
   "execution_count": null,
   "metadata": {},
   "outputs": [],
   "source": [
    "resnet = 'competition/resnet.parquet'\n",
    "df_resnet = pd.read_parquet(resnet)"
   ]
  },
  {
   "cell_type": "code",
   "execution_count": null,
   "metadata": {},
   "outputs": [],
   "source": [
    "train = 'competition/train.parquet'\n",
    "df_train = pd.read_parquet(train)"
   ]
  },
  {
   "cell_type": "code",
   "execution_count": null,
   "metadata": {},
   "outputs": [],
   "source": [
    "# Функция для объединения нескольких массивов в один и проверки формы\n",
    "def concatenate_embeddings(embedding):\n",
    "    if isinstance(embedding, list):\n",
    "        concatenated = np.concatenate(embedding)\n",
    "    else:\n",
    "        concatenated = np.array(embedding)\n",
    "    \n",
    "    if concatenated.ndim > 1:  # Преобразуем в одномерный массив\n",
    "        concatenated = concatenated.flatten()\n",
    "    \n",
    "    return concatenated"
   ]
  },
  {
   "cell_type": "code",
   "execution_count": null,
   "metadata": {},
   "outputs": [],
   "source": [
    "df_resnet['main_pic_embeddings_resnet_v1'] = df_resnet['main_pic_embeddings_resnet_v1'].apply(concatenate_embeddings)"
   ]
  },
  {
   "cell_type": "code",
   "execution_count": null,
   "metadata": {},
   "outputs": [],
   "source": [
    "# Объединение данных\n",
    "df_merged = df_train.merge(df_resnet, left_on='variantid1', right_on='variantid', how='left')\n",
    "df_merged = df_merged.merge(df_resnet, left_on='variantid2', right_on='variantid', how='left', suffixes=('_1', '_2'))"
   ]
  },
  {
   "cell_type": "code",
   "execution_count": null,
   "metadata": {},
   "outputs": [],
   "source": [
    "cosine_similarities = []\n",
    "euclidean_distances = []\n",
    "\n",
    "for idx, row in df_merged.iterrows():\n",
    "    emb1_set = row['main_pic_embeddings_resnet_v1_1']\n",
    "    emb2_set = row['main_pic_embeddings_resnet_v1_2']\n",
    "\n",
    "    similarities_cos = []\n",
    "    distances_euc = []\n",
    "    for emb1, emb2 in zip(emb1_set, emb2_set):\n",
    "        similarity_cos = 1 - cosine(emb1, emb2)  # 1 - косинусное расстояние дает косинусную схожесть\n",
    "        distance_euc = euclidean(emb1, emb2)\n",
    "        similarities_cos.append(similarity_cos)\n",
    "        distances_euc.append(distance_euc)\n",
    "    \n",
    "    # Среднее значение косинусной схожести и эвклидова расстояния\n",
    "    cosine_similarities.append(np.mean(similarities_cos))\n",
    "    euclidean_distances.append(np.mean(distances_euc))\n",
    "\n",
    "df_merged['cosine_similarity'] = cosine_similarities\n",
    "df_merged['euclidean_distance'] = euclidean_distances"
   ]
  },
  {
   "cell_type": "code",
   "execution_count": null,
   "metadata": {},
   "outputs": [],
   "source": [
    "# Создание признаков и целевой переменной\n",
    "X = df_merged[['cosine_similarity', 'euclidean_distance']]\n",
    "y = df_merged['target']"
   ]
  },
  {
   "cell_type": "code",
   "execution_count": null,
   "metadata": {},
   "outputs": [],
   "source": [
    "X_train, X_test, y_train, y_test = train_test_split(X, y, test_size=0.2, random_state=42)"
   ]
  },
  {
   "cell_type": "code",
   "execution_count": null,
   "metadata": {},
   "outputs": [],
   "source": [
    "# Построение модели\n",
    "model = LogisticRegression()\n",
    "model.fit(X_train, y_train)"
   ]
  },
  {
   "cell_type": "code",
   "execution_count": null,
   "metadata": {},
   "outputs": [],
   "source": [
    "# Прогнозирование и оценка модели\n",
    "y_pred = model.predict(X_test)\n",
    "y_prob = model.predict_proba(X_test)[:, 1]  # Вероятности для AUC"
   ]
  },
  {
   "cell_type": "code",
   "execution_count": null,
   "metadata": {},
   "outputs": [],
   "source": [
    "# Вывод метрик\n",
    "accuracy = accuracy_score(y_test, y_pred)\n",
    "precision = precision_score(y_test, y_pred)\n",
    "recall = recall_score(y_test, y_pred)\n",
    "auc = roc_auc_score(y_test, y_prob)\n",
    "\n",
    "print(f'Accuracy: {accuracy:.4f}')\n",
    "print(f'Precision: {precision:.4f}')\n",
    "print(f'Recall: {recall:.4f}')\n",
    "print(f'AUC: {auc:.4f}')"
   ]
  }
 ],
 "metadata": {
  "language_info": {
   "name": "python"
  }
 },
 "nbformat": 4,
 "nbformat_minor": 2
}
