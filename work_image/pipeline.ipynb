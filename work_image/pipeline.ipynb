{
 "cells": [
  {
   "cell_type": "code",
   "execution_count": 62,
   "metadata": {},
   "outputs": [],
   "source": [
    "import torch\n",
    "import torch.nn as nn\n",
    "from torchvision import models, transforms, datasets\n",
    "from PIL import Image, ImageEnhance, ImageOps\n",
    "import ssl\n",
    "import os\n",
    "import pandas as pd\n",
    "from scipy.spatial.distance import cosine\n",
    "from torch.utils.data import DataLoader, random_split\n",
    "import random\n",
    "from collections import Counter"
   ]
  },
  {
   "cell_type": "code",
   "execution_count": 16,
   "metadata": {},
   "outputs": [],
   "source": [
    "ssl._create_default_https_context = ssl._create_stdlib_context"
   ]
  },
  {
   "cell_type": "markdown",
   "metadata": {},
   "source": [
    "### Модель для определение схожести пар объектов"
   ]
  },
  {
   "cell_type": "code",
   "execution_count": 117,
   "metadata": {},
   "outputs": [],
   "source": [
    "# Загрузка предобученной модели ResNet18\n",
    "model = models.resnet18(pretrained=True)\n",
    "model = nn.Sequential(*list(model.children())[:-1])  # Удаление последнего слоя классификации\n",
    "model.eval()\n",
    "\n",
    "# Преобразования для изображений\n",
    "preprocess = transforms.Compose([\n",
    "    transforms.Resize(256),\n",
    "    transforms.CenterCrop(224),\n",
    "    transforms.ToTensor(),\n",
    "    transforms.Normalize(mean=[0.485, 0.456, 0.406], std=[0.229, 0.224, 0.225]),\n",
    "])"
   ]
  },
  {
   "cell_type": "code",
   "execution_count": 97,
   "metadata": {},
   "outputs": [],
   "source": [
    "def extract_features(image_path, model):\n",
    "    image = Image.open(image_path).convert('RGB')\n",
    "    image = preprocess(image).unsqueeze(0)\n",
    "    with torch.no_grad():\n",
    "        features = model(image).squeeze().numpy()\n",
    "    return features"
   ]
  },
  {
   "cell_type": "code",
   "execution_count": 98,
   "metadata": {},
   "outputs": [],
   "source": [
    "def are_images_similar(image_path1, image_path2, model, threshold=0.5):\n",
    "    features1 = extract_features(image_path1, model)\n",
    "    features2 = extract_features(image_path2, model)\n",
    "    similarity = 1 - cosine(features1, features2)\n",
    "    return similarity > threshold, similarity"
   ]
  },
  {
   "cell_type": "markdown",
   "metadata": {},
   "source": [
    "### Модель для классификации изображений"
   ]
  },
  {
   "cell_type": "code",
   "execution_count": 118,
   "metadata": {},
   "outputs": [],
   "source": [
    "# Определяем трансформации для предобработки данных\n",
    "# transform = transforms.Compose([\n",
    "#     transforms.Resize((128, 128)),\n",
    "#     transforms.ToTensor(),\n",
    "#     transforms.Normalize(mean=[0.485, 0.456, 0.406], std=[0.229, 0.224, 0.225])\n",
    "# ])\n",
    "transform = transforms.Compose([\n",
    "    transforms.Resize((128, 128)),\n",
    "    transforms.ToTensor(),\n",
    "    transforms.Normalize(mean=[0.485, 0.456, 0.406], std=[0.229, 0.224, 0.225])\n",
    "])\n",
    "\n",
    "# Задаем путь к папке с данными\n",
    "data_dir = '/Users/annapetrov/Desktop/ozon_хакатон/dataset_new'\n",
    "\n",
    "# Загружаем данные\n",
    "full_data = datasets.ImageFolder(root=data_dir, transform=transform)\n",
    "\n",
    "# Разделяем данные на обучающие и валидационные\n",
    "train_size = int(0.8 * len(full_data))\n",
    "valid_size = len(full_data) - train_size\n",
    "train_data, valid_data = random_split(full_data, [train_size, valid_size])\n",
    "\n",
    "train_loader = DataLoader(train_data, batch_size=32, shuffle=True, num_workers=4)\n",
    "valid_loader = DataLoader(valid_data, batch_size=32, shuffle=False, num_workers=4)\n",
    "\n",
    "# Количество классов\n",
    "num_classes = len(full_data.classes)"
   ]
  },
  {
   "cell_type": "code",
   "execution_count": 100,
   "metadata": {},
   "outputs": [
    {
     "data": {
      "text/plain": [
       "['кроссовки',\n",
       " 'ноутбук',\n",
       " 'планшет',\n",
       " 'смартфон',\n",
       " 'стол',\n",
       " 'стул',\n",
       " 'телевизор',\n",
       " 'туфли']"
      ]
     },
     "execution_count": 100,
     "metadata": {},
     "output_type": "execute_result"
    }
   ],
   "source": [
    "full_data.classes"
   ]
  },
  {
   "cell_type": "code",
   "execution_count": 101,
   "metadata": {},
   "outputs": [],
   "source": [
    "class SimpleCNN(nn.Module):\n",
    "    def __init__(self, num_classes):\n",
    "        super(SimpleCNN, self).__init__()\n",
    "        self.features = nn.Sequential(\n",
    "            nn.Conv2d(3, 32, kernel_size=3, padding=1),\n",
    "            nn.ReLU(),\n",
    "            nn.MaxPool2d(kernel_size=2, stride=2),\n",
    "            \n",
    "            nn.Conv2d(32, 64, kernel_size=3, padding=1),\n",
    "            nn.ReLU(),\n",
    "            nn.MaxPool2d(kernel_size=2, stride=2),\n",
    "            \n",
    "            nn.Conv2d(64, 128, kernel_size=3, padding=1),\n",
    "            nn.ReLU(),\n",
    "            nn.MaxPool2d(kernel_size=2, stride=2),\n",
    "        )\n",
    "        self.classifier = nn.Sequential(\n",
    "            nn.Linear(128 * 16 * 16, 512),\n",
    "            nn.ReLU(),\n",
    "            nn.Dropout(0.5),\n",
    "            nn.Linear(512, num_classes)\n",
    "        )\n",
    "    \n",
    "    def forward(self, x):\n",
    "        x = self.features(x)\n",
    "        x = x.view(x.size(0), -1)\n",
    "        x = self.classifier(x)\n",
    "        return x\n",
    "\n",
    "model = SimpleCNN(num_classes)"
   ]
  },
  {
   "cell_type": "code",
   "execution_count": 102,
   "metadata": {},
   "outputs": [
    {
     "name": "stderr",
     "output_type": "stream",
     "text": [
      "/var/folders/p0/0pq571r52xb2y2591gck9lww0000gn/T/ipykernel_7739/3154832153.py:1: FutureWarning: You are using `torch.load` with `weights_only=False` (the current default value), which uses the default pickle module implicitly. It is possible to construct malicious pickle data which will execute arbitrary code during unpickling (See https://github.com/pytorch/pytorch/blob/main/SECURITY.md#untrusted-models for more details). In a future release, the default value for `weights_only` will be flipped to `True`. This limits the functions that could be executed during unpickling. Arbitrary objects will no longer be allowed to be loaded via this mode unless they are explicitly allowlisted by the user via `torch.serialization.add_safe_globals`. We recommend you start setting `weights_only=True` for any use case where you don't have full control of the loaded file. Please open an issue on GitHub for any issues related to this experimental feature.\n",
      "  model_torch = torch.load('models/model_torch_save.pth')\n"
     ]
    }
   ],
   "source": [
    "model_torch = torch.load('models/model_torch_save.pth')"
   ]
  },
  {
   "cell_type": "code",
   "execution_count": 158,
   "metadata": {},
   "outputs": [],
   "source": [
    "def classify_image(model, image_path):\n",
    "    device = torch.device(\"cuda\" if torch.cuda.is_available() else \"cpu\")\n",
    "    model.to(device)\n",
    "    model.eval()\n",
    "    \n",
    "    # Трансформируем изображение\n",
    "    image = Image.open(image_path).convert('RGB')\n",
    "    image = transform(image).unsqueeze(0).to(device)\n",
    "    \n",
    "    with torch.no_grad():\n",
    "        outputs = model(image)\n",
    "        _, preds = torch.max(outputs, 1)\n",
    "        class_id = preds.item()\n",
    "        \n",
    "    if class_id < len(full_data.classes):\n",
    "        return full_data.classes[class_id]\n",
    "    else:\n",
    "        print(f\"Warning: Class index {class_id} out of range for image {image_path}\")\n",
    "        return None"
   ]
  },
  {
   "cell_type": "markdown",
   "metadata": {},
   "source": [
    "### Добавление до 10 изобаржений в объектах"
   ]
  },
  {
   "cell_type": "code",
   "execution_count": 104,
   "metadata": {},
   "outputs": [],
   "source": [
    "dataset_dir = '/Users/annapetrov/Desktop/ozon_хакатон/dataset_objects_folders'"
   ]
  },
  {
   "cell_type": "code",
   "execution_count": 37,
   "metadata": {},
   "outputs": [],
   "source": [
    "# Функция для трансформации изображения\n",
    "def transform_image(image_path):\n",
    "    image = Image.open(image_path)\n",
    "    \n",
    "    # Применение случайной трансформации\n",
    "    transform_type = random.choice(['rotate', 'flip', 'color', 'contrast', 'invert'])\n",
    "    \n",
    "    if transform_type == 'rotate':\n",
    "        angle = random.randint(0, 360)\n",
    "        image = image.rotate(angle)\n",
    "    elif transform_type == 'flip':\n",
    "        image = ImageOps.mirror(image)\n",
    "    elif transform_type == 'color':\n",
    "        enhancer = ImageEnhance.Color(image)\n",
    "        factor = random.uniform(0.5, 1.5)\n",
    "        image = enhancer.enhance(factor)\n",
    "    elif transform_type == 'contrast':\n",
    "        enhancer = ImageEnhance.Contrast(image)\n",
    "        factor = random.uniform(0.5, 1.5)\n",
    "        image = enhancer.enhance(factor)\n",
    "    elif transform_type == 'invert':\n",
    "        image = ImageOps.invert(image.convert(\"RGB\"))\n",
    "\n",
    "    return image"
   ]
  },
  {
   "cell_type": "code",
   "execution_count": 40,
   "metadata": {},
   "outputs": [],
   "source": [
    "# Проход по всем подпапкам\n",
    "for category in os.listdir(dataset_dir):\n",
    "    category_path = os.path.join(dataset_dir, category)\n",
    "    \n",
    "    if os.path.isdir(category_path):\n",
    "        for item in os.listdir(category_path):\n",
    "            item_path = os.path.join(category_path, item)\n",
    "            \n",
    "            if os.path.isdir(item_path):\n",
    "                images = [f for f in os.listdir(item_path) if f.endswith(('.png', '.jpg', '.jpeg'))]\n",
    "                \n",
    "                num_images = len(images)\n",
    "                \n",
    "                if num_images < 10:\n",
    "                    # Если изображений меньше 10, делаем дубликаты с трансформацией\n",
    "                    for i in range(10 - num_images):\n",
    "                        img_to_duplicate = random.choice(images)\n",
    "                        img_path = os.path.join(item_path, img_to_duplicate)\n",
    "                        \n",
    "                        new_image = transform_image(img_path)\n",
    "                        new_image_name = f\"img_dup_{i+1}.jpg\"\n",
    "                        new_image.save(os.path.join(item_path, new_image_name))\n",
    "                \n",
    "                elif num_images > 10:\n",
    "                    # Если изображений больше 10, удаляем лишние\n",
    "                    for img_to_remove in random.sample(images, num_images - 10):\n",
    "                        os.remove(os.path.join(item_path, img_to_remove))"
   ]
  },
  {
   "cell_type": "code",
   "execution_count": null,
   "metadata": {},
   "outputs": [],
   "source": []
  },
  {
   "cell_type": "markdown",
   "metadata": {},
   "source": [
    "### Проверяем схожесть объектов"
   ]
  },
  {
   "cell_type": "code",
   "execution_count": 120,
   "metadata": {},
   "outputs": [],
   "source": [
    "root_folder = \"/Users/annapetrov/Desktop/ozon_хакатон/dataset_objects_folders\"\n",
    "folder1 = os.path.join(root_folder, \"планшет\")\n",
    "folder2 = os.path.join(root_folder, \"ноутбук\")\n",
    "\n",
    "objects1 = [os.path.join(folder1, obj) for obj in os.listdir(folder1) \n",
    "            if os.path.isdir(os.path.join(folder1, obj))]\n",
    "objects2 = [os.path.join(folder2, obj) for obj in os.listdir(folder2) \n",
    "            if os.path.isdir(os.path.join(folder2, obj))]"
   ]
  },
  {
   "cell_type": "code",
   "execution_count": 143,
   "metadata": {},
   "outputs": [],
   "source": [
    "obj1 = objects1[3]\n",
    "obj2 = objects2[5]"
   ]
  },
  {
   "cell_type": "code",
   "execution_count": 144,
   "metadata": {},
   "outputs": [
    {
     "data": {
      "text/plain": [
       "('/Users/annapetrov/Desktop/ozon_хакатон/dataset_objects_folders/планшет/775720580',\n",
       " '/Users/annapetrov/Desktop/ozon_хакатон/dataset_objects_folders/ноутбук/814389213')"
      ]
     },
     "execution_count": 144,
     "metadata": {},
     "output_type": "execute_result"
    }
   ],
   "source": [
    "obj1, obj2"
   ]
  },
  {
   "cell_type": "code",
   "execution_count": 145,
   "metadata": {},
   "outputs": [],
   "source": [
    "images1 = [os.path.join(obj1, img) for img in os.listdir(obj1) if img.endswith(('.jpg', '.png', '.jpeg'))]\n",
    "images2 = [os.path.join(obj2, img) for img in os.listdir(obj2) if img.endswith(('.jpg', '.png', '.jpeg'))]"
   ]
  },
  {
   "cell_type": "code",
   "execution_count": 146,
   "metadata": {},
   "outputs": [],
   "source": [
    "total_comparisons = 0\n",
    "similar_count = 0\n",
    "data = []"
   ]
  },
  {
   "cell_type": "code",
   "execution_count": 147,
   "metadata": {},
   "outputs": [],
   "source": [
    "# Сравнение каждой картинки из одного объекта с каждой картинкой другого объекта\n",
    "for img1 in images1:\n",
    "    for img2 in images2:\n",
    "        total_comparisons += 1\n",
    "        similar, similarity_score = are_images_similar(img1, img2, model)\n",
    "        if similar:\n",
    "            similar_count += 1\n",
    "        data.append({\n",
    "            \"Object1\": os.path.basename(obj1),\n",
    "            \"Object2\": os.path.basename(obj2),\n",
    "            \"Image1\": img1,\n",
    "            \"Image2\": img2,\n",
    "            \"Similar\": similar,\n",
    "            \"Similarity_Score\": similarity_score\n",
    "        })"
   ]
  },
  {
   "cell_type": "code",
   "execution_count": 148,
   "metadata": {},
   "outputs": [
    {
     "name": "stdout",
     "output_type": "stream",
     "text": [
      "/Users/annapetrov/Desktop/ozon_хакатон/dataset_objects_folders/планшет/775720580\n",
      "/Users/annapetrov/Desktop/ozon_хакатон/dataset_objects_folders/ноутбук/814389213\n",
      "схожи (100.00% совпадений).\n",
      "\n",
      "\n"
     ]
    }
   ],
   "source": [
    "# Подсчитываем процент схожих изображений\n",
    "if total_comparisons > 0:\n",
    "    similarity_percentage = similar_count / total_comparisons\n",
    "\n",
    "    # Проверяем, превышает ли процент схожести пороговое значение\n",
    "    if similarity_percentage >= 0.6:\n",
    "        print(f\"{obj1}\\n{obj2}\\nсхожи ({similarity_percentage*100:.2f}% совпадений).\\n\\n\")\n",
    "    else:\n",
    "        print(f\"{obj1}\\n{obj2}\\nНЕ схожи ({similarity_percentage*100:.2f}% совпадений).\\n\\n\")"
   ]
  },
  {
   "cell_type": "code",
   "execution_count": 149,
   "metadata": {},
   "outputs": [],
   "source": [
    "df_result = pd.DataFrame(data)"
   ]
  },
  {
   "cell_type": "code",
   "execution_count": 150,
   "metadata": {},
   "outputs": [
    {
     "data": {
      "text/html": [
       "<div>\n",
       "<style scoped>\n",
       "    .dataframe tbody tr th:only-of-type {\n",
       "        vertical-align: middle;\n",
       "    }\n",
       "\n",
       "    .dataframe tbody tr th {\n",
       "        vertical-align: top;\n",
       "    }\n",
       "\n",
       "    .dataframe thead th {\n",
       "        text-align: right;\n",
       "    }\n",
       "</style>\n",
       "<table border=\"1\" class=\"dataframe\">\n",
       "  <thead>\n",
       "    <tr style=\"text-align: right;\">\n",
       "      <th></th>\n",
       "      <th>Object1</th>\n",
       "      <th>Object2</th>\n",
       "      <th>Image1</th>\n",
       "      <th>Image2</th>\n",
       "      <th>Similar</th>\n",
       "      <th>Similarity_Score</th>\n",
       "    </tr>\n",
       "  </thead>\n",
       "  <tbody>\n",
       "    <tr>\n",
       "      <th>0</th>\n",
       "      <td>775720580</td>\n",
       "      <td>814389213</td>\n",
       "      <td>/Users/annapetrov/Desktop/ozon_хакатон/dataset...</td>\n",
       "      <td>/Users/annapetrov/Desktop/ozon_хакатон/dataset...</td>\n",
       "      <td>True</td>\n",
       "      <td>0.640726</td>\n",
       "    </tr>\n",
       "    <tr>\n",
       "      <th>1</th>\n",
       "      <td>775720580</td>\n",
       "      <td>814389213</td>\n",
       "      <td>/Users/annapetrov/Desktop/ozon_хакатон/dataset...</td>\n",
       "      <td>/Users/annapetrov/Desktop/ozon_хакатон/dataset...</td>\n",
       "      <td>True</td>\n",
       "      <td>0.687709</td>\n",
       "    </tr>\n",
       "    <tr>\n",
       "      <th>2</th>\n",
       "      <td>775720580</td>\n",
       "      <td>814389213</td>\n",
       "      <td>/Users/annapetrov/Desktop/ozon_хакатон/dataset...</td>\n",
       "      <td>/Users/annapetrov/Desktop/ozon_хакатон/dataset...</td>\n",
       "      <td>True</td>\n",
       "      <td>0.693105</td>\n",
       "    </tr>\n",
       "    <tr>\n",
       "      <th>3</th>\n",
       "      <td>775720580</td>\n",
       "      <td>814389213</td>\n",
       "      <td>/Users/annapetrov/Desktop/ozon_хакатон/dataset...</td>\n",
       "      <td>/Users/annapetrov/Desktop/ozon_хакатон/dataset...</td>\n",
       "      <td>True</td>\n",
       "      <td>0.636644</td>\n",
       "    </tr>\n",
       "    <tr>\n",
       "      <th>4</th>\n",
       "      <td>775720580</td>\n",
       "      <td>814389213</td>\n",
       "      <td>/Users/annapetrov/Desktop/ozon_хакатон/dataset...</td>\n",
       "      <td>/Users/annapetrov/Desktop/ozon_хакатон/dataset...</td>\n",
       "      <td>True</td>\n",
       "      <td>0.688356</td>\n",
       "    </tr>\n",
       "    <tr>\n",
       "      <th>...</th>\n",
       "      <td>...</td>\n",
       "      <td>...</td>\n",
       "      <td>...</td>\n",
       "      <td>...</td>\n",
       "      <td>...</td>\n",
       "      <td>...</td>\n",
       "    </tr>\n",
       "    <tr>\n",
       "      <th>95</th>\n",
       "      <td>775720580</td>\n",
       "      <td>814389213</td>\n",
       "      <td>/Users/annapetrov/Desktop/ozon_хакатон/dataset...</td>\n",
       "      <td>/Users/annapetrov/Desktop/ozon_хакатон/dataset...</td>\n",
       "      <td>True</td>\n",
       "      <td>0.613469</td>\n",
       "    </tr>\n",
       "    <tr>\n",
       "      <th>96</th>\n",
       "      <td>775720580</td>\n",
       "      <td>814389213</td>\n",
       "      <td>/Users/annapetrov/Desktop/ozon_хакатон/dataset...</td>\n",
       "      <td>/Users/annapetrov/Desktop/ozon_хакатон/dataset...</td>\n",
       "      <td>True</td>\n",
       "      <td>0.714053</td>\n",
       "    </tr>\n",
       "    <tr>\n",
       "      <th>97</th>\n",
       "      <td>775720580</td>\n",
       "      <td>814389213</td>\n",
       "      <td>/Users/annapetrov/Desktop/ozon_хакатон/dataset...</td>\n",
       "      <td>/Users/annapetrov/Desktop/ozon_хакатон/dataset...</td>\n",
       "      <td>True</td>\n",
       "      <td>0.698274</td>\n",
       "    </tr>\n",
       "    <tr>\n",
       "      <th>98</th>\n",
       "      <td>775720580</td>\n",
       "      <td>814389213</td>\n",
       "      <td>/Users/annapetrov/Desktop/ozon_хакатон/dataset...</td>\n",
       "      <td>/Users/annapetrov/Desktop/ozon_хакатон/dataset...</td>\n",
       "      <td>True</td>\n",
       "      <td>0.669770</td>\n",
       "    </tr>\n",
       "    <tr>\n",
       "      <th>99</th>\n",
       "      <td>775720580</td>\n",
       "      <td>814389213</td>\n",
       "      <td>/Users/annapetrov/Desktop/ozon_хакатон/dataset...</td>\n",
       "      <td>/Users/annapetrov/Desktop/ozon_хакатон/dataset...</td>\n",
       "      <td>True</td>\n",
       "      <td>0.605078</td>\n",
       "    </tr>\n",
       "  </tbody>\n",
       "</table>\n",
       "<p>100 rows × 6 columns</p>\n",
       "</div>"
      ],
      "text/plain": [
       "      Object1    Object2                                             Image1  \\\n",
       "0   775720580  814389213  /Users/annapetrov/Desktop/ozon_хакатон/dataset...   \n",
       "1   775720580  814389213  /Users/annapetrov/Desktop/ozon_хакатон/dataset...   \n",
       "2   775720580  814389213  /Users/annapetrov/Desktop/ozon_хакатон/dataset...   \n",
       "3   775720580  814389213  /Users/annapetrov/Desktop/ozon_хакатон/dataset...   \n",
       "4   775720580  814389213  /Users/annapetrov/Desktop/ozon_хакатон/dataset...   \n",
       "..        ...        ...                                                ...   \n",
       "95  775720580  814389213  /Users/annapetrov/Desktop/ozon_хакатон/dataset...   \n",
       "96  775720580  814389213  /Users/annapetrov/Desktop/ozon_хакатон/dataset...   \n",
       "97  775720580  814389213  /Users/annapetrov/Desktop/ozon_хакатон/dataset...   \n",
       "98  775720580  814389213  /Users/annapetrov/Desktop/ozon_хакатон/dataset...   \n",
       "99  775720580  814389213  /Users/annapetrov/Desktop/ozon_хакатон/dataset...   \n",
       "\n",
       "                                               Image2  Similar  \\\n",
       "0   /Users/annapetrov/Desktop/ozon_хакатон/dataset...     True   \n",
       "1   /Users/annapetrov/Desktop/ozon_хакатон/dataset...     True   \n",
       "2   /Users/annapetrov/Desktop/ozon_хакатон/dataset...     True   \n",
       "3   /Users/annapetrov/Desktop/ozon_хакатон/dataset...     True   \n",
       "4   /Users/annapetrov/Desktop/ozon_хакатон/dataset...     True   \n",
       "..                                                ...      ...   \n",
       "95  /Users/annapetrov/Desktop/ozon_хакатон/dataset...     True   \n",
       "96  /Users/annapetrov/Desktop/ozon_хакатон/dataset...     True   \n",
       "97  /Users/annapetrov/Desktop/ozon_хакатон/dataset...     True   \n",
       "98  /Users/annapetrov/Desktop/ozon_хакатон/dataset...     True   \n",
       "99  /Users/annapetrov/Desktop/ozon_хакатон/dataset...     True   \n",
       "\n",
       "    Similarity_Score  \n",
       "0           0.640726  \n",
       "1           0.687709  \n",
       "2           0.693105  \n",
       "3           0.636644  \n",
       "4           0.688356  \n",
       "..               ...  \n",
       "95          0.613469  \n",
       "96          0.714053  \n",
       "97          0.698274  \n",
       "98          0.669770  \n",
       "99          0.605078  \n",
       "\n",
       "[100 rows x 6 columns]"
      ]
     },
     "execution_count": 150,
     "metadata": {},
     "output_type": "execute_result"
    }
   ],
   "source": [
    "df_result"
   ]
  },
  {
   "cell_type": "markdown",
   "metadata": {},
   "source": [
    "### Классифицируем каждое изображение и выделяем главную метку для каждого объекта"
   ]
  },
  {
   "cell_type": "code",
   "execution_count": 151,
   "metadata": {},
   "outputs": [],
   "source": [
    "# Функция для определения главной метки объекта\n",
    "def determine_main_label(labels):\n",
    "    # Подсчет частоты каждой метки\n",
    "    label_counts = Counter(labels)\n",
    "    # Выбор метки с наибольшей частотой\n",
    "    main_label = label_counts.most_common(1)[0][0]\n",
    "    return main_label"
   ]
  },
  {
   "cell_type": "code",
   "execution_count": 152,
   "metadata": {},
   "outputs": [],
   "source": [
    "for img1 in images1:\n",
    "    labels_1 = []\n",
    "    label = classify_image(model_torch, img1)\n",
    "    labels_1.append(label)\n",
    "\n",
    "for img2 in images2:\n",
    "    labels_2 = []\n",
    "    label = classify_image(model_torch, img2)\n",
    "    labels_2.append(label)"
   ]
  },
  {
   "cell_type": "code",
   "execution_count": 153,
   "metadata": {},
   "outputs": [
    {
     "name": "stdout",
     "output_type": "stream",
     "text": [
      "Object1: планшет/775720580 - Main Label: планшет\n",
      "Object2: ноутбук/814389213 - Main Label: ноутбук\n"
     ]
    }
   ],
   "source": [
    "main_label_1 = determine_main_label(labels_1)\n",
    "main_label_2 = determine_main_label(labels_2)\n",
    "\n",
    "print(f\"Object1: {obj1.split('/')[-2]}/{obj1.split('/')[-1]} - Main Label: {main_label_1}\")\n",
    "print(f\"Object2: {obj2.split('/')[-2]}/{obj2.split('/')[-1]} - Main Label: {main_label_2}\")"
   ]
  },
  {
   "cell_type": "markdown",
   "metadata": {},
   "source": [
    "### Test all objects"
   ]
  },
  {
   "cell_type": "code",
   "execution_count": null,
   "metadata": {},
   "outputs": [],
   "source": [
    "root_folder = \"/Users/annapetrov/Desktop/ozon_хакатон/dataset_objects_folders\"\n",
    "folder1 = os.path.join(root_folder, \"планшет\")\n",
    "folder2 = os.path.join(root_folder, \"ноутбук\")\n",
    "\n",
    "objects1 = [os.path.join(folder1, obj) for obj in os.listdir(folder1) \n",
    "            if os.path.isdir(os.path.join(folder1, obj))]\n",
    "objects2 = [os.path.join(folder2, obj) for obj in os.listdir(folder2) \n",
    "            if os.path.isdir(os.path.join(folder2, obj))]"
   ]
  },
  {
   "cell_type": "code",
   "execution_count": 159,
   "metadata": {},
   "outputs": [
    {
     "name": "stdout",
     "output_type": "stream",
     "text": [
      "Warning: Class index 9 out of range for image /Users/annapetrov/Desktop/ozon_хакатон/dataset_objects_folders/ноутбук/870321139/img_dup_2.jpg\n",
      "Warning: Class index 9 out of range for image /Users/annapetrov/Desktop/ozon_хакатон/dataset_objects_folders/ноутбук/870321139/img_dup_2.jpg\n",
      "Warning: Class index 9 out of range for image /Users/annapetrov/Desktop/ozon_хакатон/dataset_objects_folders/планшет/288655045/image_4.jpg\n",
      "Warning: Class index 9 out of range for image /Users/annapetrov/Desktop/ozon_хакатон/dataset_objects_folders/планшет/288655045/image_4.jpg\n",
      "Warning: Class index 9 out of range for image /Users/annapetrov/Desktop/ozon_хакатон/dataset_objects_folders/планшет/288655045/image_4.jpg\n",
      "Warning: Class index 9 out of range for image /Users/annapetrov/Desktop/ozon_хакатон/dataset_objects_folders/планшет/288655045/image_4.jpg\n",
      "Warning: Class index 9 out of range for image /Users/annapetrov/Desktop/ozon_хакатон/dataset_objects_folders/планшет/288655045/image_4.jpg\n",
      "Warning: Class index 9 out of range for image /Users/annapetrov/Desktop/ozon_хакатон/dataset_objects_folders/ноутбук/870321139/img_dup_2.jpg\n",
      "Warning: Class index 9 out of range for image /Users/annapetrov/Desktop/ozon_хакатон/dataset_objects_folders/планшет/288655045/image_4.jpg\n",
      "Warning: Class index 9 out of range for image /Users/annapetrov/Desktop/ozon_хакатон/dataset_objects_folders/планшет/288655045/image_4.jpg\n",
      "Warning: Class index 9 out of range for image /Users/annapetrov/Desktop/ozon_хакатон/dataset_objects_folders/планшет/288655045/image_4.jpg\n",
      "Warning: Class index 9 out of range for image /Users/annapetrov/Desktop/ozon_хакатон/dataset_objects_folders/планшет/288655045/image_4.jpg\n",
      "Warning: Class index 9 out of range for image /Users/annapetrov/Desktop/ozon_хакатон/dataset_objects_folders/планшет/288655045/image_4.jpg\n",
      "Warning: Class index 9 out of range for image /Users/annapetrov/Desktop/ozon_хакатон/dataset_objects_folders/ноутбук/870321139/img_dup_2.jpg\n",
      "Warning: Class index 9 out of range for image /Users/annapetrov/Desktop/ozon_хакатон/dataset_objects_folders/ноутбук/870321139/img_dup_2.jpg\n",
      "Warning: Class index 9 out of range for image /Users/annapetrov/Desktop/ozon_хакатон/dataset_objects_folders/ноутбук/870321139/img_dup_2.jpg\n",
      "Warning: Class index 9 out of range for image /Users/annapetrov/Desktop/ozon_хакатон/dataset_objects_folders/ноутбук/870321139/img_dup_2.jpg\n",
      "Warning: Class index 9 out of range for image /Users/annapetrov/Desktop/ozon_хакатон/dataset_objects_folders/ноутбук/870321139/img_dup_2.jpg\n",
      "Warning: Class index 9 out of range for image /Users/annapetrov/Desktop/ozon_хакатон/dataset_objects_folders/ноутбук/870321139/img_dup_2.jpg\n",
      "Warning: Class index 9 out of range for image /Users/annapetrov/Desktop/ozon_хакатон/dataset_objects_folders/ноутбук/870321139/img_dup_2.jpg\n"
     ]
    }
   ],
   "source": [
    "all_count = 0\n",
    "correct_count = 0\n",
    "\n",
    "for obj1 in objects1:\n",
    "    for obj2 in objects2:\n",
    "        all_count+=1\n",
    "\n",
    "        images1 = [os.path.join(obj1, img) for img in os.listdir(obj1) if img.endswith(('.jpg', '.png', '.jpeg'))]\n",
    "        images2 = [os.path.join(obj2, img) for img in os.listdir(obj2) if img.endswith(('.jpg', '.png', '.jpeg'))]\n",
    "\n",
    "        total_comparisons = 0\n",
    "        similar_count = 0\n",
    "        data = []\n",
    "        similar_bool = None\n",
    "\n",
    "        for img1 in images1:\n",
    "            for img2 in images2:\n",
    "                total_comparisons += 1\n",
    "                similar, similarity_score = are_images_similar(img1, img2, model)\n",
    "                if similar:\n",
    "                    similar_count += 1\n",
    "\n",
    "        if total_comparisons > 0:\n",
    "            similarity_percentage = similar_count / total_comparisons\n",
    "\n",
    "            # Проверяем, превышает ли процент схожести пороговое значение\n",
    "            if similarity_percentage >= 0.6:\n",
    "                similar_bool = True\n",
    "            else:\n",
    "                similar_bool = False\n",
    "\n",
    "        for img1 in images1:\n",
    "            labels_1 = []\n",
    "            label = classify_image(model_torch, img1)\n",
    "            labels_1.append(label)\n",
    "\n",
    "        for img2 in images2:\n",
    "            labels_2 = []\n",
    "            label = classify_image(model_torch, img2)\n",
    "            labels_2.append(label)\n",
    "\n",
    "        main_label_1 = determine_main_label(labels_1)\n",
    "        main_label_2 = determine_main_label(labels_2)\n",
    "\n",
    "        if similar_bool == True and main_label_1 == main_label_2:\n",
    "            print(\"СХОЖИ\")\n",
    "            print(obj1, obj2)\n",
    "            print()\n",
    "            if obj1.split('/')[-2] == obj2.split('/')[-2]:\n",
    "                correct_count+=1\n",
    "            "
   ]
  },
  {
   "cell_type": "code",
   "execution_count": 160,
   "metadata": {},
   "outputs": [
    {
     "data": {
      "text/plain": [
       "(100, 0)"
      ]
     },
     "execution_count": 160,
     "metadata": {},
     "output_type": "execute_result"
    }
   ],
   "source": [
    "all_count, correct_count"
   ]
  },
  {
   "cell_type": "markdown",
   "metadata": {},
   "source": [
    "### Test 2"
   ]
  },
  {
   "cell_type": "code",
   "execution_count": 161,
   "metadata": {},
   "outputs": [],
   "source": [
    "root_folder = \"/Users/annapetrov/Desktop/ozon_хакатон/dataset_objects_folders\"\n",
    "folder1 = os.path.join(root_folder, \"ноутбук\")\n",
    "folder2 = os.path.join(root_folder, \"ноутбук\")\n",
    "\n",
    "objects1 = [os.path.join(folder1, obj) for obj in os.listdir(folder1) \n",
    "            if os.path.isdir(os.path.join(folder1, obj))]\n",
    "objects2 = [os.path.join(folder2, obj) for obj in os.listdir(folder2) \n",
    "            if os.path.isdir(os.path.join(folder2, obj))]"
   ]
  },
  {
   "cell_type": "code",
   "execution_count": 162,
   "metadata": {},
   "outputs": [
    {
     "name": "stdout",
     "output_type": "stream",
     "text": [
      "СХОЖИ\n",
      "/Users/annapetrov/Desktop/ozon_хакатон/dataset_objects_folders/ноутбук/876925642 /Users/annapetrov/Desktop/ozon_хакатон/dataset_objects_folders/ноутбук/876925642\n",
      "\n",
      "СХОЖИ\n",
      "/Users/annapetrov/Desktop/ozon_хакатон/dataset_objects_folders/ноутбук/876925642 /Users/annapetrov/Desktop/ozon_хакатон/dataset_objects_folders/ноутбук/769963030\n",
      "\n",
      "СХОЖИ\n",
      "/Users/annapetrov/Desktop/ozon_хакатон/dataset_objects_folders/ноутбук/876925642 /Users/annapetrov/Desktop/ozon_хакатон/dataset_objects_folders/ноутбук/1081452165\n",
      "\n",
      "СХОЖИ\n",
      "/Users/annapetrov/Desktop/ozon_хакатон/dataset_objects_folders/ноутбук/876925642 /Users/annapetrov/Desktop/ozon_хакатон/dataset_objects_folders/ноутбук/881783789\n",
      "\n",
      "Warning: Class index 9 out of range for image /Users/annapetrov/Desktop/ozon_хакатон/dataset_objects_folders/ноутбук/870321139/img_dup_2.jpg\n",
      "СХОЖИ\n",
      "/Users/annapetrov/Desktop/ozon_хакатон/dataset_objects_folders/ноутбук/876925642 /Users/annapetrov/Desktop/ozon_хакатон/dataset_objects_folders/ноутбук/870321139\n",
      "\n",
      "СХОЖИ\n",
      "/Users/annapetrov/Desktop/ozon_хакатон/dataset_objects_folders/ноутбук/876925642 /Users/annapetrov/Desktop/ozon_хакатон/dataset_objects_folders/ноутбук/814389213\n",
      "\n",
      "СХОЖИ\n",
      "/Users/annapetrov/Desktop/ozon_хакатон/dataset_objects_folders/ноутбук/876925642 /Users/annapetrov/Desktop/ozon_хакатон/dataset_objects_folders/ноутбук/953363827\n",
      "\n",
      "СХОЖИ\n",
      "/Users/annapetrov/Desktop/ozon_хакатон/dataset_objects_folders/ноутбук/876925642 /Users/annapetrov/Desktop/ozon_хакатон/dataset_objects_folders/ноутбук/911122549\n",
      "\n",
      "СХОЖИ\n",
      "/Users/annapetrov/Desktop/ozon_хакатон/dataset_objects_folders/ноутбук/876925642 /Users/annapetrov/Desktop/ozon_хакатон/dataset_objects_folders/ноутбук/1034919134\n",
      "\n",
      "СХОЖИ\n",
      "/Users/annapetrov/Desktop/ozon_хакатон/dataset_objects_folders/ноутбук/876925642 /Users/annapetrov/Desktop/ozon_хакатон/dataset_objects_folders/ноутбук/910145589\n",
      "\n",
      "СХОЖИ\n",
      "/Users/annapetrov/Desktop/ozon_хакатон/dataset_objects_folders/ноутбук/769963030 /Users/annapetrov/Desktop/ozon_хакатон/dataset_objects_folders/ноутбук/876925642\n",
      "\n",
      "СХОЖИ\n",
      "/Users/annapetrov/Desktop/ozon_хакатон/dataset_objects_folders/ноутбук/769963030 /Users/annapetrov/Desktop/ozon_хакатон/dataset_objects_folders/ноутбук/769963030\n",
      "\n",
      "СХОЖИ\n",
      "/Users/annapetrov/Desktop/ozon_хакатон/dataset_objects_folders/ноутбук/769963030 /Users/annapetrov/Desktop/ozon_хакатон/dataset_objects_folders/ноутбук/1081452165\n",
      "\n",
      "СХОЖИ\n",
      "/Users/annapetrov/Desktop/ozon_хакатон/dataset_objects_folders/ноутбук/769963030 /Users/annapetrov/Desktop/ozon_хакатон/dataset_objects_folders/ноутбук/881783789\n",
      "\n",
      "Warning: Class index 9 out of range for image /Users/annapetrov/Desktop/ozon_хакатон/dataset_objects_folders/ноутбук/870321139/img_dup_2.jpg\n",
      "СХОЖИ\n",
      "/Users/annapetrov/Desktop/ozon_хакатон/dataset_objects_folders/ноутбук/769963030 /Users/annapetrov/Desktop/ozon_хакатон/dataset_objects_folders/ноутбук/870321139\n",
      "\n",
      "СХОЖИ\n",
      "/Users/annapetrov/Desktop/ozon_хакатон/dataset_objects_folders/ноутбук/769963030 /Users/annapetrov/Desktop/ozon_хакатон/dataset_objects_folders/ноутбук/814389213\n",
      "\n",
      "СХОЖИ\n",
      "/Users/annapetrov/Desktop/ozon_хакатон/dataset_objects_folders/ноутбук/769963030 /Users/annapetrov/Desktop/ozon_хакатон/dataset_objects_folders/ноутбук/953363827\n",
      "\n",
      "СХОЖИ\n",
      "/Users/annapetrov/Desktop/ozon_хакатон/dataset_objects_folders/ноутбук/769963030 /Users/annapetrov/Desktop/ozon_хакатон/dataset_objects_folders/ноутбук/911122549\n",
      "\n",
      "СХОЖИ\n",
      "/Users/annapetrov/Desktop/ozon_хакатон/dataset_objects_folders/ноутбук/769963030 /Users/annapetrov/Desktop/ozon_хакатон/dataset_objects_folders/ноутбук/1034919134\n",
      "\n",
      "СХОЖИ\n",
      "/Users/annapetrov/Desktop/ozon_хакатон/dataset_objects_folders/ноутбук/769963030 /Users/annapetrov/Desktop/ozon_хакатон/dataset_objects_folders/ноутбук/910145589\n",
      "\n",
      "СХОЖИ\n",
      "/Users/annapetrov/Desktop/ozon_хакатон/dataset_objects_folders/ноутбук/1081452165 /Users/annapetrov/Desktop/ozon_хакатон/dataset_objects_folders/ноутбук/876925642\n",
      "\n",
      "СХОЖИ\n",
      "/Users/annapetrov/Desktop/ozon_хакатон/dataset_objects_folders/ноутбук/1081452165 /Users/annapetrov/Desktop/ozon_хакатон/dataset_objects_folders/ноутбук/769963030\n",
      "\n",
      "СХОЖИ\n",
      "/Users/annapetrov/Desktop/ozon_хакатон/dataset_objects_folders/ноутбук/1081452165 /Users/annapetrov/Desktop/ozon_хакатон/dataset_objects_folders/ноутбук/1081452165\n",
      "\n",
      "СХОЖИ\n",
      "/Users/annapetrov/Desktop/ozon_хакатон/dataset_objects_folders/ноутбук/1081452165 /Users/annapetrov/Desktop/ozon_хакатон/dataset_objects_folders/ноутбук/881783789\n",
      "\n",
      "Warning: Class index 9 out of range for image /Users/annapetrov/Desktop/ozon_хакатон/dataset_objects_folders/ноутбук/870321139/img_dup_2.jpg\n",
      "СХОЖИ\n",
      "/Users/annapetrov/Desktop/ozon_хакатон/dataset_objects_folders/ноутбук/1081452165 /Users/annapetrov/Desktop/ozon_хакатон/dataset_objects_folders/ноутбук/814389213\n",
      "\n",
      "СХОЖИ\n",
      "/Users/annapetrov/Desktop/ozon_хакатон/dataset_objects_folders/ноутбук/1081452165 /Users/annapetrov/Desktop/ozon_хакатон/dataset_objects_folders/ноутбук/953363827\n",
      "\n",
      "СХОЖИ\n",
      "/Users/annapetrov/Desktop/ozon_хакатон/dataset_objects_folders/ноутбук/1081452165 /Users/annapetrov/Desktop/ozon_хакатон/dataset_objects_folders/ноутбук/911122549\n",
      "\n",
      "СХОЖИ\n",
      "/Users/annapetrov/Desktop/ozon_хакатон/dataset_objects_folders/ноутбук/1081452165 /Users/annapetrov/Desktop/ozon_хакатон/dataset_objects_folders/ноутбук/1034919134\n",
      "\n",
      "СХОЖИ\n",
      "/Users/annapetrov/Desktop/ozon_хакатон/dataset_objects_folders/ноутбук/1081452165 /Users/annapetrov/Desktop/ozon_хакатон/dataset_objects_folders/ноутбук/910145589\n",
      "\n",
      "СХОЖИ\n",
      "/Users/annapetrov/Desktop/ozon_хакатон/dataset_objects_folders/ноутбук/881783789 /Users/annapetrov/Desktop/ozon_хакатон/dataset_objects_folders/ноутбук/876925642\n",
      "\n",
      "СХОЖИ\n",
      "/Users/annapetrov/Desktop/ozon_хакатон/dataset_objects_folders/ноутбук/881783789 /Users/annapetrov/Desktop/ozon_хакатон/dataset_objects_folders/ноутбук/769963030\n",
      "\n",
      "СХОЖИ\n",
      "/Users/annapetrov/Desktop/ozon_хакатон/dataset_objects_folders/ноутбук/881783789 /Users/annapetrov/Desktop/ozon_хакатон/dataset_objects_folders/ноутбук/1081452165\n",
      "\n",
      "СХОЖИ\n",
      "/Users/annapetrov/Desktop/ozon_хакатон/dataset_objects_folders/ноутбук/881783789 /Users/annapetrov/Desktop/ozon_хакатон/dataset_objects_folders/ноутбук/881783789\n",
      "\n",
      "Warning: Class index 9 out of range for image /Users/annapetrov/Desktop/ozon_хакатон/dataset_objects_folders/ноутбук/870321139/img_dup_2.jpg\n",
      "СХОЖИ\n",
      "/Users/annapetrov/Desktop/ozon_хакатон/dataset_objects_folders/ноутбук/881783789 /Users/annapetrov/Desktop/ozon_хакатон/dataset_objects_folders/ноутбук/870321139\n",
      "\n",
      "СХОЖИ\n",
      "/Users/annapetrov/Desktop/ozon_хакатон/dataset_objects_folders/ноутбук/881783789 /Users/annapetrov/Desktop/ozon_хакатон/dataset_objects_folders/ноутбук/814389213\n",
      "\n",
      "СХОЖИ\n",
      "/Users/annapetrov/Desktop/ozon_хакатон/dataset_objects_folders/ноутбук/881783789 /Users/annapetrov/Desktop/ozon_хакатон/dataset_objects_folders/ноутбук/953363827\n",
      "\n",
      "СХОЖИ\n",
      "/Users/annapetrov/Desktop/ozon_хакатон/dataset_objects_folders/ноутбук/881783789 /Users/annapetrov/Desktop/ozon_хакатон/dataset_objects_folders/ноутбук/911122549\n",
      "\n",
      "СХОЖИ\n",
      "/Users/annapetrov/Desktop/ozon_хакатон/dataset_objects_folders/ноутбук/881783789 /Users/annapetrov/Desktop/ozon_хакатон/dataset_objects_folders/ноутбук/1034919134\n",
      "\n",
      "СХОЖИ\n",
      "/Users/annapetrov/Desktop/ozon_хакатон/dataset_objects_folders/ноутбук/881783789 /Users/annapetrov/Desktop/ozon_хакатон/dataset_objects_folders/ноутбук/910145589\n",
      "\n",
      "Warning: Class index 9 out of range for image /Users/annapetrov/Desktop/ozon_хакатон/dataset_objects_folders/ноутбук/870321139/img_dup_2.jpg\n",
      "СХОЖИ\n",
      "/Users/annapetrov/Desktop/ozon_хакатон/dataset_objects_folders/ноутбук/870321139 /Users/annapetrov/Desktop/ozon_хакатон/dataset_objects_folders/ноутбук/876925642\n",
      "\n",
      "Warning: Class index 9 out of range for image /Users/annapetrov/Desktop/ozon_хакатон/dataset_objects_folders/ноутбук/870321139/img_dup_2.jpg\n",
      "СХОЖИ\n",
      "/Users/annapetrov/Desktop/ozon_хакатон/dataset_objects_folders/ноутбук/870321139 /Users/annapetrov/Desktop/ozon_хакатон/dataset_objects_folders/ноутбук/769963030\n",
      "\n",
      "Warning: Class index 9 out of range for image /Users/annapetrov/Desktop/ozon_хакатон/dataset_objects_folders/ноутбук/870321139/img_dup_2.jpg\n",
      "Warning: Class index 9 out of range for image /Users/annapetrov/Desktop/ozon_хакатон/dataset_objects_folders/ноутбук/870321139/img_dup_2.jpg\n",
      "СХОЖИ\n",
      "/Users/annapetrov/Desktop/ozon_хакатон/dataset_objects_folders/ноутбук/870321139 /Users/annapetrov/Desktop/ozon_хакатон/dataset_objects_folders/ноутбук/881783789\n",
      "\n",
      "Warning: Class index 9 out of range for image /Users/annapetrov/Desktop/ozon_хакатон/dataset_objects_folders/ноутбук/870321139/img_dup_2.jpg\n",
      "Warning: Class index 9 out of range for image /Users/annapetrov/Desktop/ozon_хакатон/dataset_objects_folders/ноутбук/870321139/img_dup_2.jpg\n",
      "СХОЖИ\n",
      "/Users/annapetrov/Desktop/ozon_хакатон/dataset_objects_folders/ноутбук/870321139 /Users/annapetrov/Desktop/ozon_хакатон/dataset_objects_folders/ноутбук/870321139\n",
      "\n",
      "Warning: Class index 9 out of range for image /Users/annapetrov/Desktop/ozon_хакатон/dataset_objects_folders/ноутбук/870321139/img_dup_2.jpg\n",
      "СХОЖИ\n",
      "/Users/annapetrov/Desktop/ozon_хакатон/dataset_objects_folders/ноутбук/870321139 /Users/annapetrov/Desktop/ozon_хакатон/dataset_objects_folders/ноутбук/814389213\n",
      "\n",
      "Warning: Class index 9 out of range for image /Users/annapetrov/Desktop/ozon_хакатон/dataset_objects_folders/ноутбук/870321139/img_dup_2.jpg\n",
      "СХОЖИ\n",
      "/Users/annapetrov/Desktop/ozon_хакатон/dataset_objects_folders/ноутбук/870321139 /Users/annapetrov/Desktop/ozon_хакатон/dataset_objects_folders/ноутбук/953363827\n",
      "\n",
      "Warning: Class index 9 out of range for image /Users/annapetrov/Desktop/ozon_хакатон/dataset_objects_folders/ноутбук/870321139/img_dup_2.jpg\n",
      "СХОЖИ\n",
      "/Users/annapetrov/Desktop/ozon_хакатон/dataset_objects_folders/ноутбук/870321139 /Users/annapetrov/Desktop/ozon_хакатон/dataset_objects_folders/ноутбук/911122549\n",
      "\n",
      "Warning: Class index 9 out of range for image /Users/annapetrov/Desktop/ozon_хакатон/dataset_objects_folders/ноутбук/870321139/img_dup_2.jpg\n",
      "СХОЖИ\n",
      "/Users/annapetrov/Desktop/ozon_хакатон/dataset_objects_folders/ноутбук/870321139 /Users/annapetrov/Desktop/ozon_хакатон/dataset_objects_folders/ноутбук/1034919134\n",
      "\n",
      "Warning: Class index 9 out of range for image /Users/annapetrov/Desktop/ozon_хакатон/dataset_objects_folders/ноутбук/870321139/img_dup_2.jpg\n",
      "СХОЖИ\n",
      "/Users/annapetrov/Desktop/ozon_хакатон/dataset_objects_folders/ноутбук/870321139 /Users/annapetrov/Desktop/ozon_хакатон/dataset_objects_folders/ноутбук/910145589\n",
      "\n",
      "СХОЖИ\n",
      "/Users/annapetrov/Desktop/ozon_хакатон/dataset_objects_folders/ноутбук/814389213 /Users/annapetrov/Desktop/ozon_хакатон/dataset_objects_folders/ноутбук/876925642\n",
      "\n",
      "СХОЖИ\n",
      "/Users/annapetrov/Desktop/ozon_хакатон/dataset_objects_folders/ноутбук/814389213 /Users/annapetrov/Desktop/ozon_хакатон/dataset_objects_folders/ноутбук/769963030\n",
      "\n",
      "СХОЖИ\n",
      "/Users/annapetrov/Desktop/ozon_хакатон/dataset_objects_folders/ноутбук/814389213 /Users/annapetrov/Desktop/ozon_хакатон/dataset_objects_folders/ноутбук/1081452165\n",
      "\n",
      "СХОЖИ\n",
      "/Users/annapetrov/Desktop/ozon_хакатон/dataset_objects_folders/ноутбук/814389213 /Users/annapetrov/Desktop/ozon_хакатон/dataset_objects_folders/ноутбук/881783789\n",
      "\n",
      "Warning: Class index 9 out of range for image /Users/annapetrov/Desktop/ozon_хакатон/dataset_objects_folders/ноутбук/870321139/img_dup_2.jpg\n",
      "СХОЖИ\n",
      "/Users/annapetrov/Desktop/ozon_хакатон/dataset_objects_folders/ноутбук/814389213 /Users/annapetrov/Desktop/ozon_хакатон/dataset_objects_folders/ноутбук/870321139\n",
      "\n",
      "СХОЖИ\n",
      "/Users/annapetrov/Desktop/ozon_хакатон/dataset_objects_folders/ноутбук/814389213 /Users/annapetrov/Desktop/ozon_хакатон/dataset_objects_folders/ноутбук/814389213\n",
      "\n",
      "СХОЖИ\n",
      "/Users/annapetrov/Desktop/ozon_хакатон/dataset_objects_folders/ноутбук/814389213 /Users/annapetrov/Desktop/ozon_хакатон/dataset_objects_folders/ноутбук/953363827\n",
      "\n",
      "СХОЖИ\n",
      "/Users/annapetrov/Desktop/ozon_хакатон/dataset_objects_folders/ноутбук/814389213 /Users/annapetrov/Desktop/ozon_хакатон/dataset_objects_folders/ноутбук/911122549\n",
      "\n",
      "СХОЖИ\n",
      "/Users/annapetrov/Desktop/ozon_хакатон/dataset_objects_folders/ноутбук/814389213 /Users/annapetrov/Desktop/ozon_хакатон/dataset_objects_folders/ноутбук/1034919134\n",
      "\n",
      "СХОЖИ\n",
      "/Users/annapetrov/Desktop/ozon_хакатон/dataset_objects_folders/ноутбук/814389213 /Users/annapetrov/Desktop/ozon_хакатон/dataset_objects_folders/ноутбук/910145589\n",
      "\n",
      "СХОЖИ\n",
      "/Users/annapetrov/Desktop/ozon_хакатон/dataset_objects_folders/ноутбук/953363827 /Users/annapetrov/Desktop/ozon_хакатон/dataset_objects_folders/ноутбук/876925642\n",
      "\n",
      "СХОЖИ\n",
      "/Users/annapetrov/Desktop/ozon_хакатон/dataset_objects_folders/ноутбук/953363827 /Users/annapetrov/Desktop/ozon_хакатон/dataset_objects_folders/ноутбук/769963030\n",
      "\n",
      "СХОЖИ\n",
      "/Users/annapetrov/Desktop/ozon_хакатон/dataset_objects_folders/ноутбук/953363827 /Users/annapetrov/Desktop/ozon_хакатон/dataset_objects_folders/ноутбук/1081452165\n",
      "\n",
      "СХОЖИ\n",
      "/Users/annapetrov/Desktop/ozon_хакатон/dataset_objects_folders/ноутбук/953363827 /Users/annapetrov/Desktop/ozon_хакатон/dataset_objects_folders/ноутбук/881783789\n",
      "\n",
      "Warning: Class index 9 out of range for image /Users/annapetrov/Desktop/ozon_хакатон/dataset_objects_folders/ноутбук/870321139/img_dup_2.jpg\n",
      "СХОЖИ\n",
      "/Users/annapetrov/Desktop/ozon_хакатон/dataset_objects_folders/ноутбук/953363827 /Users/annapetrov/Desktop/ozon_хакатон/dataset_objects_folders/ноутбук/870321139\n",
      "\n",
      "СХОЖИ\n",
      "/Users/annapetrov/Desktop/ozon_хакатон/dataset_objects_folders/ноутбук/953363827 /Users/annapetrov/Desktop/ozon_хакатон/dataset_objects_folders/ноутбук/814389213\n",
      "\n",
      "СХОЖИ\n",
      "/Users/annapetrov/Desktop/ozon_хакатон/dataset_objects_folders/ноутбук/953363827 /Users/annapetrov/Desktop/ozon_хакатон/dataset_objects_folders/ноутбук/953363827\n",
      "\n",
      "СХОЖИ\n",
      "/Users/annapetrov/Desktop/ozon_хакатон/dataset_objects_folders/ноутбук/953363827 /Users/annapetrov/Desktop/ozon_хакатон/dataset_objects_folders/ноутбук/911122549\n",
      "\n",
      "СХОЖИ\n",
      "/Users/annapetrov/Desktop/ozon_хакатон/dataset_objects_folders/ноутбук/953363827 /Users/annapetrov/Desktop/ozon_хакатон/dataset_objects_folders/ноутбук/1034919134\n",
      "\n",
      "СХОЖИ\n",
      "/Users/annapetrov/Desktop/ozon_хакатон/dataset_objects_folders/ноутбук/953363827 /Users/annapetrov/Desktop/ozon_хакатон/dataset_objects_folders/ноутбук/910145589\n",
      "\n",
      "СХОЖИ\n",
      "/Users/annapetrov/Desktop/ozon_хакатон/dataset_objects_folders/ноутбук/911122549 /Users/annapetrov/Desktop/ozon_хакатон/dataset_objects_folders/ноутбук/876925642\n",
      "\n",
      "СХОЖИ\n",
      "/Users/annapetrov/Desktop/ozon_хакатон/dataset_objects_folders/ноутбук/911122549 /Users/annapetrov/Desktop/ozon_хакатон/dataset_objects_folders/ноутбук/769963030\n",
      "\n",
      "СХОЖИ\n",
      "/Users/annapetrov/Desktop/ozon_хакатон/dataset_objects_folders/ноутбук/911122549 /Users/annapetrov/Desktop/ozon_хакатон/dataset_objects_folders/ноутбук/1081452165\n",
      "\n",
      "СХОЖИ\n",
      "/Users/annapetrov/Desktop/ozon_хакатон/dataset_objects_folders/ноутбук/911122549 /Users/annapetrov/Desktop/ozon_хакатон/dataset_objects_folders/ноутбук/881783789\n",
      "\n",
      "Warning: Class index 9 out of range for image /Users/annapetrov/Desktop/ozon_хакатон/dataset_objects_folders/ноутбук/870321139/img_dup_2.jpg\n",
      "СХОЖИ\n",
      "/Users/annapetrov/Desktop/ozon_хакатон/dataset_objects_folders/ноутбук/911122549 /Users/annapetrov/Desktop/ozon_хакатон/dataset_objects_folders/ноутбук/870321139\n",
      "\n",
      "СХОЖИ\n",
      "/Users/annapetrov/Desktop/ozon_хакатон/dataset_objects_folders/ноутбук/911122549 /Users/annapetrov/Desktop/ozon_хакатон/dataset_objects_folders/ноутбук/814389213\n",
      "\n",
      "СХОЖИ\n",
      "/Users/annapetrov/Desktop/ozon_хакатон/dataset_objects_folders/ноутбук/911122549 /Users/annapetrov/Desktop/ozon_хакатон/dataset_objects_folders/ноутбук/953363827\n",
      "\n",
      "СХОЖИ\n",
      "/Users/annapetrov/Desktop/ozon_хакатон/dataset_objects_folders/ноутбук/911122549 /Users/annapetrov/Desktop/ozon_хакатон/dataset_objects_folders/ноутбук/911122549\n",
      "\n",
      "СХОЖИ\n",
      "/Users/annapetrov/Desktop/ozon_хакатон/dataset_objects_folders/ноутбук/911122549 /Users/annapetrov/Desktop/ozon_хакатон/dataset_objects_folders/ноутбук/1034919134\n",
      "\n",
      "СХОЖИ\n",
      "/Users/annapetrov/Desktop/ozon_хакатон/dataset_objects_folders/ноутбук/911122549 /Users/annapetrov/Desktop/ozon_хакатон/dataset_objects_folders/ноутбук/910145589\n",
      "\n",
      "СХОЖИ\n",
      "/Users/annapetrov/Desktop/ozon_хакатон/dataset_objects_folders/ноутбук/1034919134 /Users/annapetrov/Desktop/ozon_хакатон/dataset_objects_folders/ноутбук/876925642\n",
      "\n",
      "СХОЖИ\n",
      "/Users/annapetrov/Desktop/ozon_хакатон/dataset_objects_folders/ноутбук/1034919134 /Users/annapetrov/Desktop/ozon_хакатон/dataset_objects_folders/ноутбук/769963030\n",
      "\n",
      "СХОЖИ\n",
      "/Users/annapetrov/Desktop/ozon_хакатон/dataset_objects_folders/ноутбук/1034919134 /Users/annapetrov/Desktop/ozon_хакатон/dataset_objects_folders/ноутбук/1081452165\n",
      "\n",
      "СХОЖИ\n",
      "/Users/annapetrov/Desktop/ozon_хакатон/dataset_objects_folders/ноутбук/1034919134 /Users/annapetrov/Desktop/ozon_хакатон/dataset_objects_folders/ноутбук/881783789\n",
      "\n",
      "Warning: Class index 9 out of range for image /Users/annapetrov/Desktop/ozon_хакатон/dataset_objects_folders/ноутбук/870321139/img_dup_2.jpg\n",
      "СХОЖИ\n",
      "/Users/annapetrov/Desktop/ozon_хакатон/dataset_objects_folders/ноутбук/1034919134 /Users/annapetrov/Desktop/ozon_хакатон/dataset_objects_folders/ноутбук/870321139\n",
      "\n",
      "СХОЖИ\n",
      "/Users/annapetrov/Desktop/ozon_хакатон/dataset_objects_folders/ноутбук/1034919134 /Users/annapetrov/Desktop/ozon_хакатон/dataset_objects_folders/ноутбук/814389213\n",
      "\n",
      "СХОЖИ\n",
      "/Users/annapetrov/Desktop/ozon_хакатон/dataset_objects_folders/ноутбук/1034919134 /Users/annapetrov/Desktop/ozon_хакатон/dataset_objects_folders/ноутбук/953363827\n",
      "\n",
      "СХОЖИ\n",
      "/Users/annapetrov/Desktop/ozon_хакатон/dataset_objects_folders/ноутбук/1034919134 /Users/annapetrov/Desktop/ozon_хакатон/dataset_objects_folders/ноутбук/911122549\n",
      "\n",
      "СХОЖИ\n",
      "/Users/annapetrov/Desktop/ozon_хакатон/dataset_objects_folders/ноутбук/1034919134 /Users/annapetrov/Desktop/ozon_хакатон/dataset_objects_folders/ноутбук/1034919134\n",
      "\n",
      "СХОЖИ\n",
      "/Users/annapetrov/Desktop/ozon_хакатон/dataset_objects_folders/ноутбук/1034919134 /Users/annapetrov/Desktop/ozon_хакатон/dataset_objects_folders/ноутбук/910145589\n",
      "\n",
      "СХОЖИ\n",
      "/Users/annapetrov/Desktop/ozon_хакатон/dataset_objects_folders/ноутбук/910145589 /Users/annapetrov/Desktop/ozon_хакатон/dataset_objects_folders/ноутбук/876925642\n",
      "\n",
      "СХОЖИ\n",
      "/Users/annapetrov/Desktop/ozon_хакатон/dataset_objects_folders/ноутбук/910145589 /Users/annapetrov/Desktop/ozon_хакатон/dataset_objects_folders/ноутбук/769963030\n",
      "\n",
      "СХОЖИ\n",
      "/Users/annapetrov/Desktop/ozon_хакатон/dataset_objects_folders/ноутбук/910145589 /Users/annapetrov/Desktop/ozon_хакатон/dataset_objects_folders/ноутбук/1081452165\n",
      "\n",
      "СХОЖИ\n",
      "/Users/annapetrov/Desktop/ozon_хакатон/dataset_objects_folders/ноутбук/910145589 /Users/annapetrov/Desktop/ozon_хакатон/dataset_objects_folders/ноутбук/881783789\n",
      "\n",
      "Warning: Class index 9 out of range for image /Users/annapetrov/Desktop/ozon_хакатон/dataset_objects_folders/ноутбук/870321139/img_dup_2.jpg\n",
      "СХОЖИ\n",
      "/Users/annapetrov/Desktop/ozon_хакатон/dataset_objects_folders/ноутбук/910145589 /Users/annapetrov/Desktop/ozon_хакатон/dataset_objects_folders/ноутбук/870321139\n",
      "\n",
      "СХОЖИ\n",
      "/Users/annapetrov/Desktop/ozon_хакатон/dataset_objects_folders/ноутбук/910145589 /Users/annapetrov/Desktop/ozon_хакатон/dataset_objects_folders/ноутбук/814389213\n",
      "\n",
      "СХОЖИ\n",
      "/Users/annapetrov/Desktop/ozon_хакатон/dataset_objects_folders/ноутбук/910145589 /Users/annapetrov/Desktop/ozon_хакатон/dataset_objects_folders/ноутбук/953363827\n",
      "\n",
      "СХОЖИ\n",
      "/Users/annapetrov/Desktop/ozon_хакатон/dataset_objects_folders/ноутбук/910145589 /Users/annapetrov/Desktop/ozon_хакатон/dataset_objects_folders/ноутбук/911122549\n",
      "\n",
      "СХОЖИ\n",
      "/Users/annapetrov/Desktop/ozon_хакатон/dataset_objects_folders/ноутбук/910145589 /Users/annapetrov/Desktop/ozon_хакатон/dataset_objects_folders/ноутбук/1034919134\n",
      "\n",
      "СХОЖИ\n",
      "/Users/annapetrov/Desktop/ozon_хакатон/dataset_objects_folders/ноутбук/910145589 /Users/annapetrov/Desktop/ozon_хакатон/dataset_objects_folders/ноутбук/910145589\n",
      "\n"
     ]
    }
   ],
   "source": [
    "all_count = 0\n",
    "correct_count = 0\n",
    "\n",
    "for obj1 in objects1:\n",
    "    for obj2 in objects2:\n",
    "        all_count+=1\n",
    "\n",
    "        images1 = [os.path.join(obj1, img) for img in os.listdir(obj1) if img.endswith(('.jpg', '.png', '.jpeg'))]\n",
    "        images2 = [os.path.join(obj2, img) for img in os.listdir(obj2) if img.endswith(('.jpg', '.png', '.jpeg'))]\n",
    "\n",
    "        total_comparisons = 0\n",
    "        similar_count = 0\n",
    "        data = []\n",
    "        similar_bool = None\n",
    "\n",
    "        for img1 in images1:\n",
    "            for img2 in images2:\n",
    "                total_comparisons += 1\n",
    "                similar, similarity_score = are_images_similar(img1, img2, model)\n",
    "                if similar:\n",
    "                    similar_count += 1\n",
    "\n",
    "        if total_comparisons > 0:\n",
    "            similarity_percentage = similar_count / total_comparisons\n",
    "\n",
    "            # Проверяем, превышает ли процент схожести пороговое значение\n",
    "            if similarity_percentage >= 0.6:\n",
    "                similar_bool = True\n",
    "            else:\n",
    "                similar_bool = False\n",
    "\n",
    "        for img1 in images1:\n",
    "            labels_1 = []\n",
    "            label = classify_image(model_torch, img1)\n",
    "            labels_1.append(label)\n",
    "\n",
    "        for img2 in images2:\n",
    "            labels_2 = []\n",
    "            label = classify_image(model_torch, img2)\n",
    "            labels_2.append(label)\n",
    "\n",
    "        main_label_1 = determine_main_label(labels_1)\n",
    "        main_label_2 = determine_main_label(labels_2)\n",
    "\n",
    "        if similar_bool == True and main_label_1 == main_label_2:\n",
    "            print(\"СХОЖИ\")\n",
    "            print(obj1, obj2)\n",
    "            print()\n",
    "            if obj1.split('/')[-2] == obj2.split('/')[-2]:\n",
    "                correct_count+=1\n",
    "            "
   ]
  },
  {
   "cell_type": "code",
   "execution_count": 163,
   "metadata": {},
   "outputs": [
    {
     "data": {
      "text/plain": [
       "(100, 98)"
      ]
     },
     "execution_count": 163,
     "metadata": {},
     "output_type": "execute_result"
    }
   ],
   "source": [
    "all_count, correct_count"
   ]
  },
  {
   "cell_type": "markdown",
   "metadata": {},
   "source": [
    "### Test"
   ]
  },
  {
   "cell_type": "code",
   "execution_count": 61,
   "metadata": {},
   "outputs": [],
   "source": [
    "img1_path = os.path.join('dataset_objects_folders/кроссовки/173547555/image_1.jpg', img1)\n",
    "img2_path = os.path.join('dataset_objects_folders/ноутбук/814389213/image_0.jpg', img2)\n",
    "similar, similarity_score = are_images_similar(img1_path, img2_path, model)\n",
    "clissify1 = classify_image(model_torch, img1_path)\n",
    "classify2 = classify_image(model_torch, img2_path)"
   ]
  },
  {
   "cell_type": "code",
   "execution_count": 71,
   "metadata": {},
   "outputs": [
    {
     "data": {
      "text/plain": [
       "'/Users/annapetrov/Desktop/ozon_хакатон/dataset_objects_folders/кроссовки/175976781/image_6.jpg'"
      ]
     },
     "execution_count": 71,
     "metadata": {},
     "output_type": "execute_result"
    }
   ],
   "source": [
    "img1_path"
   ]
  },
  {
   "cell_type": "code",
   "execution_count": 67,
   "metadata": {},
   "outputs": [
    {
     "data": {
      "text/plain": [
       "'кроссовки'"
      ]
     },
     "execution_count": 67,
     "metadata": {},
     "output_type": "execute_result"
    }
   ],
   "source": [
    "clissify1"
   ]
  },
  {
   "cell_type": "code",
   "execution_count": 68,
   "metadata": {},
   "outputs": [
    {
     "data": {
      "text/plain": [
       "'ноутбук'"
      ]
     },
     "execution_count": 68,
     "metadata": {},
     "output_type": "execute_result"
    }
   ],
   "source": [
    "classify2"
   ]
  }
 ],
 "metadata": {
  "kernelspec": {
   "display_name": ".venv",
   "language": "python",
   "name": "python3"
  },
  "language_info": {
   "codemirror_mode": {
    "name": "ipython",
    "version": 3
   },
   "file_extension": ".py",
   "mimetype": "text/x-python",
   "name": "python",
   "nbconvert_exporter": "python",
   "pygments_lexer": "ipython3",
   "version": "3.9.6"
  }
 },
 "nbformat": 4,
 "nbformat_minor": 2
}
