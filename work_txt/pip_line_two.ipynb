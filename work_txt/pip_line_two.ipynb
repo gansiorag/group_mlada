{
 "cells": [
  {
   "cell_type": "markdown",
   "metadata": {},
   "source": [
    "### Рспознавание похожих предметов"
   ]
  },
  {
   "cell_type": "code",
   "execution_count": 1,
   "metadata": {},
   "outputs": [
    {
     "name": "stderr",
     "output_type": "stream",
     "text": [
      "/home/al/.local/lib/python3.10/site-packages/pyspark/pandas/__init__.py:50: UserWarning: 'PYARROW_IGNORE_TIMEZONE' environment variable was not set. It is required to set this environment variable to '1' in both driver and executor sides if you use pyarrow>=2.0.0. pandas-on-Spark will set it for you but it does not work if there is a Spark context already launched.\n",
      "  warnings.warn(\n"
     ]
    }
   ],
   "source": [
    "import os\n",
    "from glob import glob\n",
    "from pymystem3 import Mystem\n",
    "import sqlite3\n",
    "import pandas as pd\n",
    "from pyspark.sql import SQLContext, SparkSession\n",
    "from pyspark import pandas as ps"
   ]
  },
  {
   "cell_type": "code",
   "execution_count": 2,
   "metadata": {},
   "outputs": [],
   "source": [
    "from sklearn.feature_extraction.text import TfidfTransformer\n",
    "from sklearn.feature_extraction.text import CountVectorizer\n",
    "from sklearn.pipeline import Pipeline\n",
    "from sklearn.model_selection import train_test_split\n",
    "from sklearn.naive_bayes import MultinomialNB"
   ]
  },
  {
   "cell_type": "code",
   "execution_count": 3,
   "metadata": {},
   "outputs": [],
   "source": [
    "m = Mystem()\n",
    "PATH_DD = '/home/al/Projects_My/hakaton_ozon_org/'\n",
    "#PATH_DD = '/home/gansiorag/MyParth/ProjectMy/hakaton_ozon_org/'"
   ]
  },
  {
   "cell_type": "code",
   "execution_count": 4,
   "metadata": {},
   "outputs": [
    {
     "name": "stdout",
     "output_type": "stream",
     "text": [
      "[('products',)]\n"
     ]
    }
   ],
   "source": [
    "db_path = PATH_DD + 'dataset/ozon.db'\n",
    "query = \"\"\"SELECT name \n",
    "FROM sqlite_schema\n",
    "WHERE type ='table' AND \n",
    "    name NOT LIKE 'sqlite_%';\"\"\"\n",
    "\n",
    "conn = sqlite3.connect(db_path)\n",
    "cur = conn.cursor()\n",
    "cur.execute(query)\n",
    "print(cur.fetchall())\n"
   ]
  },
  {
   "cell_type": "code",
   "execution_count": 5,
   "metadata": {},
   "outputs": [
    {
     "name": "stdout",
     "output_type": "stream",
     "text": [
      "search_nm\n",
      "item_num\n",
      "link\n",
      "short_characteristic\n",
      "full_desc\n",
      "img_desc\n",
      "img_path_desc\n",
      "characteristic\n",
      "components\n",
      "conn_dev\n",
      "img_path\n"
     ]
    }
   ],
   "source": [
    "query = \"\"\"SELECT name FROM PRAGMA_TABLE_INFO('products');\"\"\"\n",
    "cur.execute(query)\n",
    "for pp in cur.fetchall():\n",
    "    print(pp[0])"
   ]
  },
  {
   "cell_type": "code",
   "execution_count": 6,
   "metadata": {},
   "outputs": [],
   "source": [
    "query = \"\"\"SELECT search_nm, item_num, link, short_characteristic,full_desc,\n",
    "img_desc,\n",
    "img_path_desc,\n",
    "characteristic,\n",
    "components,\n",
    "conn_dev,\n",
    "img_path \n",
    "FROM products;\"\"\"\n",
    "a_pandas_df = pd.read_sql_query(query, conn)"
   ]
  },
  {
   "cell_type": "code",
   "execution_count": 7,
   "metadata": {},
   "outputs": [
    {
     "name": "stdout",
     "output_type": "stream",
     "text": [
      "<class 'pandas.core.frame.DataFrame'>\n",
      "RangeIndex: 4398 entries, 0 to 4397\n",
      "Data columns (total 11 columns):\n",
      " #   Column                Non-Null Count  Dtype \n",
      "---  ------                --------------  ----- \n",
      " 0   search_nm             4398 non-null   object\n",
      " 1   item_num              4398 non-null   object\n",
      " 2   link                  4398 non-null   object\n",
      " 3   short_characteristic  4398 non-null   object\n",
      " 4   full_desc             4398 non-null   object\n",
      " 5   img_desc              4398 non-null   object\n",
      " 6   img_path_desc         4398 non-null   object\n",
      " 7   characteristic        4398 non-null   object\n",
      " 8   components            4398 non-null   object\n",
      " 9   conn_dev              4398 non-null   object\n",
      " 10  img_path              4398 non-null   object\n",
      "dtypes: object(11)\n",
      "memory usage: 378.1+ KB\n"
     ]
    }
   ],
   "source": [
    "a_pandas_df.info()"
   ]
  },
  {
   "cell_type": "code",
   "execution_count": 8,
   "metadata": {},
   "outputs": [
    {
     "name": "stderr",
     "output_type": "stream",
     "text": [
      "24/08/06 15:57:24 WARN Utils: Your hostname, al-Dell resolves to a loopback address: 127.0.1.1; using 192.168.0.106 instead (on interface wlp0s20f3)\n",
      "24/08/06 15:57:24 WARN Utils: Set SPARK_LOCAL_IP if you need to bind to another address\n",
      "Setting default log level to \"WARN\".\n",
      "To adjust logging level use sc.setLogLevel(newLevel). For SparkR, use setLogLevel(newLevel).\n",
      "24/08/06 15:57:25 WARN NativeCodeLoader: Unable to load native-hadoop library for your platform... using builtin-java classes where applicable\n"
     ]
    },
    {
     "name": "stdout",
     "output_type": "stream",
     "text": [
      "Spark info :\n"
     ]
    },
    {
     "data": {
      "text/html": [
       "\n",
       "            <div>\n",
       "                <p><b>SparkSession - in-memory</b></p>\n",
       "                \n",
       "        <div>\n",
       "            <p><b>SparkContext</b></p>\n",
       "\n",
       "            <p><a href=\"http://192.168.0.106:4040\">Spark UI</a></p>\n",
       "\n",
       "            <dl>\n",
       "              <dt>Version</dt>\n",
       "                <dd><code>v3.4.0</code></dd>\n",
       "              <dt>Master</dt>\n",
       "                <dd><code>local[*]</code></dd>\n",
       "              <dt>AppName</dt>\n",
       "                <dd><code>all_dataset</code></dd>\n",
       "            </dl>\n",
       "        </div>\n",
       "        \n",
       "            </div>\n",
       "        "
      ],
      "text/plain": [
       "<pyspark.sql.session.SparkSession at 0x7d2d8ebc5390>"
      ]
     },
     "execution_count": 8,
     "metadata": {},
     "output_type": "execute_result"
    }
   ],
   "source": [
    "spark = SparkSession.builder.appName('all_dataset').getOrCreate()\n",
    "print('Spark info :')\n",
    "spark\n"
   ]
  },
  {
   "cell_type": "code",
   "execution_count": 9,
   "metadata": {},
   "outputs": [
    {
     "name": "stderr",
     "output_type": "stream",
     "text": [
      "/home/al/.local/lib/python3.10/site-packages/pyspark/pandas/utils.py:975: PandasAPIOnSparkAdviceWarning: If `index_col` is not specified for `to_spark`, the existing index is lost when converting to Spark DataFrame.\n",
      "  warnings.warn(message, PandasAPIOnSparkAdviceWarning)\n"
     ]
    }
   ],
   "source": [
    "a_spark_df = ps.from_pandas(a_pandas_df)\n",
    "df = a_spark_df.to_spark()"
   ]
  },
  {
   "cell_type": "code",
   "execution_count": 10,
   "metadata": {},
   "outputs": [
    {
     "name": "stderr",
     "output_type": "stream",
     "text": [
      "24/08/06 15:57:41 WARN TaskSetManager: Stage 0 contains a task of very large size (1677 KiB). The maximum recommended task size is 1000 KiB.\n",
      "[Stage 0:>                                                          (0 + 1) / 1]\r"
     ]
    },
    {
     "name": "stdout",
     "output_type": "stream",
     "text": [
      "+---------+----------+--------------------+--------------------+--------------------+--------+--------------------+--------------------+--------------------+--------+--------------------+\n",
      "|search_nm|  item_num|                link|short_characteristic|           full_desc|img_desc|       img_path_desc|      characteristic|          components|conn_dev|            img_path|\n",
      "+---------+----------+--------------------+--------------------+--------------------+--------+--------------------+--------------------+--------------------+--------+--------------------+\n",
      "| смартфон|1409765841|https://www.ozon....|О товаре Перейти ...|Описание Смартфон...|        |dataset/смартфон/...|Характеристики До...|Смартфон, кабель ...|        |dataset/смартфон/...|\n",
      "| смартфон|1624251355|https://www.ozon....|О товаре Перейти ...|Комплектация Комп...|        |                    |Характеристики До...|Комплект поставки...|        |dataset/смартфон/...|\n",
      "| смартфон|1337138963|https://www.ozon....|О товаре Перейти ...|Описание Показать...|        |dataset/смартфон/...|Характеристики До...|Смартфон, адаптер...|        |dataset/смартфон/...|\n",
      "| смартфон|1436803150|https://www.ozon....|О товаре Перейти ...|Описание Общие ха...|        |                    |Характеристики До...|Документация, зар...|        |dataset/смартфон/...|\n",
      "| смартфон|1617318120|https://www.ozon....|О товаре Перейти ...|Описание Показать...|        |dataset/смартфон/...|Характеристики До...|1 смартфон,\\n1 Ад...|        |dataset/смартфон/...|\n",
      "+---------+----------+--------------------+--------------------+--------------------+--------+--------------------+--------------------+--------------------+--------+--------------------+\n",
      "only showing top 5 rows\n",
      "\n"
     ]
    },
    {
     "name": "stderr",
     "output_type": "stream",
     "text": [
      "                                                                                \r"
     ]
    }
   ],
   "source": [
    "df.show(5)"
   ]
  },
  {
   "cell_type": "code",
   "execution_count": 11,
   "metadata": {},
   "outputs": [
    {
     "name": "stderr",
     "output_type": "stream",
     "text": [
      "24/08/06 15:57:52 WARN TaskSetManager: Stage 1 contains a task of very large size (1677 KiB). The maximum recommended task size is 1000 KiB.\n"
     ]
    }
   ],
   "source": [
    "example_row_full_desc = df.select(['full_desc', 'link']).collect()\n"
   ]
  },
  {
   "cell_type": "code",
   "execution_count": 12,
   "metadata": {},
   "outputs": [
    {
     "name": "stdout",
     "output_type": "stream",
     "text": [
      "Описание Смартфон Xiaomi Redmi 13C 8/256GB Midnight Black работает на системе Android 13 за счет восьмиядерного процессора. Разрешение экрана составляет 720х1612 пикс. Дисплей оснащен технологией IPS. Оперативная память — 8 Гб, встроенная — 256 Гб. На задней части устройства расположены две основные камеры, позволяющие осуществлять видеосъемку с разрешением 1920х1080 пикс. Устойчивость кадра обеспечивается цифровой стабилизацией. Фронтальная камера — 8 Мп. Для увеличения емкости хранилища данных используется флэш-накопитель microSD с максимальным объемом 512 Гб. Возможно использовать при работе две nano-SIM. Передача данных осуществляется при поддержке стандартов 2G, 3G, 4G LTE, Wi-Fi, NFC, Miracast, Bluetooth 5.0. Доступны функции спутниковой навигации GPS, ГЛОНАСС, встроен FM-тюнер. На задней части панели размещен сканер отпечатка пальца. Корпус устройства сделан из пластика, размещает разъемы 3,5 мм и USB Type-C. В комплект включены блок питания мощностью 10 Вт и провод для зарядки. Цвет модели — черный. Вес — 192 г. https://www.ozon.ru/product/xiaomi-smartfon-redmi-13c-8-256gb-midnight-black-8-256-gb-chernyy-1545388069/?asb=Dsh4tqUJ2L4hPXHTsHz5X9n7m8nfyis%252BAnPqe1C%252F4z8%253D&asb2=Zk5gn0RLCc2QEnDQZDmeQbePEvsyr9z8PZbU7Us8PBmXBXPJ2RbhV0FPeT3yk5B9qaYwuzco1UMu6HvavPqCMQ&avtc=1&avte=2&avts=1721078458&keywords=%D1%81%D0%BC%D0%B0%D1%80%D1%82%D1%84%D0%BE%D0%BD\n",
      "Описание Продуманный дизайн Эффектный дизайн превращает смартфон в стильный аксессуар, который подчеркнет вашу индивидуальность. Пластиковый корпус толщиной 7.99 мм с С-образными гранями смотрится лаконично и просто. Интересное выглядит сочетание матовой и глянцевой текстуры на задней стенке. Телефон весит 190 г, он удобно лежит в руке и не скользит. Мощность и быстродействие 8-ядерный процессор Unisoc Teger T612 быстро обрабатывает цифровые процессы, ускоряя работу смартфона. Благодаря оперативной памяти 4 ГБ устройство отлично справляется с несколькими задачами одновременно. Переключайтесь с одной задачи на другую, не закрывая приложений. Смартфон не зависает и не перегревается в режиме многозадачности. Для пользовательских данных предусмотрена встроенная память 128 ГБ. Объем хранилища позволяет сохранять фото, снимать видео, устанавливать игры и приложения. Комфорт для глаз LCD-экран с диагональю 6.74 дюйма удобен для работы, общения и развлечений. Разрешение 1600x720 пикселей позволяет смотреть видео в хорошем качестве. Отличная цветопередача обеспечивает яркие и насыщенные цвета. Минимум синего излучения гарантирует безопасность для зрения. Хорошее качество фото Запечатлейте мгновения вашей жизни на фотографиях. Смартфон realme Note 50 оснащен основной фотокамерой 13 Мп с удобным интерфейсом для фото и съемки видео в HD-качестве. Можно вручную настраивать параметры для съемки в режиме Pro. Цифровая стабилизация обеспечивает стабильность изображения при видеосъемке. Для селфи и общения по видеосвязи есть фронтальная камера 5 Мп. Разъемы и интерфейсы Смартфон имеет два слота для nano-SIM, один из которых гибридный и предназначен либо для второй SIM-карты, либо для карты памяти. Можно установить SD или microSD, увеличив общую внутреннюю память телефона до 1 ТБ. Есть встроенный модуль Wi-Fi, а также функция точки доступа. С помощью модуля Bluetooth 5.0 доступно подключение беспроводных устройств: наушников, смарт-часов. Разъем 3.5 Jack позволяет подключить стандартные проводные наушники. Для подключения к блоку питания зарядного устройства и синхронизации данных используется порт USB Type-C. Безопасность ваших данных Смартфон realme Note 50 позаботится о сохранности конфиденциальных данных. Сканер отпечатка пальца на боковой грани и функция распознавания лица исключают несанкционированный доступ. Надежность и долгая служба Бюджетный смартфон отличается долговечностью за счет прочного корпуса, оснащенного защитой IP54 от брызг воды и пыли. Покрытие экрана устойчиво к царапинам. В комплект входит защитная пленка для дисплея и силиконовый бампер. Долго работает без подзарядки Емкость батареи составляет 5000 мАч. Этого достаточно для работы до 12 часов в интенсивном режиме: разговор, прослушивание музыки, просмотр видео, игры, серфинг в сети. В режиме ожидания телефон держит заряд несколько дней. Показать полностью https://www.ozon.ru/product/realme-smartfon-note-50-4-128-gb-siniy-1405015480/?asb=XNbwibMUgT9BvtrMltkJbvBJzCei7wYMplMBbfXTmjc%253D&asb2=r6Vuso6VzPQSlRCfSbJ8igcfjUqsX1_0PHf4Eb8dPa1Iyxb-JiJMW8f-UFM41GuKB-O0OIClliyXHP9OzA_b8w&avtc=1&avte=2&avts=1721078437&keywords=%D1%81%D0%BC%D0%B0%D1%80%D1%82%D1%84%D0%BE%D0%BD\n",
      "Описание Мощный Устройство оснащено восьмиядерным процессором MediaTek Helio G37 с тактовой частотой ядра 2.3 ГГц. Объем оперативной памяти составляет 8 ГБ с возможностью расширения до 16 ГБ за счет постоянной памяти, объем которой составляет 128 ГБ. Такие характеристики обеспечивают приятный игровой опыт и позволяют с комфортом работать в режиме многозадачности. Также устройство поддерживает карты памяти формата microSD объемом до 1024 ГБ. Благодаря продвинутому энергосберегающему режиму заряд аккумулятора расходуется на 30 % медленнее. Яркий Дисплей с диагональю 6.6 дюйма и с разрешением HD+ обеспечивает точную цветопередачу и широкие углы обзора. Частота обновления экрана составляет 90 Гц. Четкий Смартфон оснащен основной камерой с разрешением 50 Мп и сенсором глубины. Благодаря улучшенной технологии поглощения света устройство выдает четкие и яркие снимки даже в условиях плохого освещения. Продвинутые алгоритмы обработки обеспечивают эффект естественного боке в портретном режиме. Профессиональный режим позволит пользователю отдельно настроить параметры съемки. На 8 Мп фронтальную камеру получаются яркие селфи. Основные особенности фронтальной камеры — трехуровневая подсветка и эффект кольцевой лампы. Продуманный Сканер отпечатка пальцев расположен на кнопке включения, которая ложится под большой палец. Емкость аккумулятора составляет 5 000 мА*ч, устройство поддерживает быструю зарядку мощностью 18 Вт. Есть модуль NFC для бесконтактной оплаты. Показать полностью https://www.ozon.ru/product/tecno-smartfon-spark-10-8-128-gb-chernyy-1331351525/?asb=s7PSja3ekrGRF5okiJzh9UV624VjAtym0FpEi6zrczg%253D&asb2=rgc4IpNr2bPQ0nlfVskGhADTxoD70PsJomfXmvPKl8EFqxihNE1mYIa2FpijiiVL160LrzVVoJZ5tEq2FZOZWg&avtc=2&avte=1&avts=1721078417&keywords=%D1%81%D0%BC%D0%B0%D1%80%D1%82%D1%84%D0%BE%D0%BD\n",
      "Описание Показать полностью https://www.ozon.ru/product/optex-smartfon-sp7-1-rostest-eac-16-512-gb-chernyy-1605504073/?asb=Cua3QDWnvzBBRBlWYxckIuo4t7O89rVPbbRenBbKCyY%253D&asb2=VMhuZbf-SvJhH8hviG9zk2tj5D_BANeG6ymjjar-bPfR2SgtzSYYhA0aYvT4f8Kt48EftJqi945-CGvZO40Q0A&avtc=1&avte=4&avts=1721078448&keywords=%D1%81%D0%BC%D0%B0%D1%80%D1%82%D1%84%D0%BE%D0%BD\n",
      "Описание Защищенный смартфон HOTWAV Cyber 13 PRO, 12+256 Gb - это мощный противоударный смартфон, который предлагает надежность, производительность и функциональность в одном устройстве. Данная модель оснащена мощным фонариком в 150 Lumen. Смартфон имеет стильный и прочный дизайн, выполненный из высококачественных материалов, что делает его идеальным выбором для активного использования на открытом воздухе или в экстремальных условиях. Оснащенный мощным 8-и ядерным процессором UNISOC Tiger T619 с частотой 2200 МГц и оперативной памятью 12Gb. Смартфон HOTWAV Cyber 13 PRO обеспечивает плавную и быструю работу при выполнении различных задач, включая мультимедийное воспроизведение, игры и многозадачность. HOTWAV Cyber 13 PRO имеет яркий и четкий 6,6 - дюймовый дисплей с высоким разрешением 2408х1080 FHD+, что позволяет наслаждаться яркими и детализированными изображениями. HOTWAV Cyber 13 PRO также оснащен объемом встроенной памяти – 256 Gb, что позволяет хранить большое количество файлов, фотографий и видео. Смартфон также имеет встроенную батарею большой емкости 10.800 mAh, которая обеспечивает длительное время работы без необходимости частой зарядки. И за счет функции быстрой зарядки, ваш смартфон всегда будет готов к действию. Кроме того, функция обратной зарядки позволяет использовать ваш Cyber 13 Pro в качестве переносного зарядного устройства для других устройств. HOTWAV Cyber 13 PRO также обладает высококачественной камерой в 60 Mpix, которая позволяет делать четкие и яркие фотографии и видео. Благодаря поддержке различных сетей и возможности использования двух SIM-карт, смартфон обеспечивает стабильное подключение к интернету и связи в любой точке мира. В целом, HOTWAV Cyber 13 PRO - это надежный и мощный смартфон, который предлагает широкий набор функций и возможностей для удовлетворения потребностей пользователей в работе, развлечениях и связи. Кроме того, операционная система Android 13 обеспечит вам безупречный интерфейс и удобство использования. https://www.ozon.ru/product/hotwav-smartfon-cyber-13-pro-global-12-256-gb-chernyy-matovyy-chernyy-1571707990/?advert=8uw6-4ZQKJbOEZsCBF1iLdhA5sL-fycHRdD6d-rsGey-L8hDQy2EQ9E1mTusYFNcg_dLiGiVZArjqhenN5IT8CP7YR6jyZu1JTmxyHkHfMRaRN9mSrxzKVxjk68zCKiJc8TV2YlzpNEaFGyawCJHTXRq9trO1jjBGM9C3_PzufQsH-NL6zDNU1-ASZN7Vq9JvtX_OTz23YWZxRlAa_Rox_TNxPoFsWLlSJ1CY6KFGDI9xr6f0gXzpbOhxNucXmMgo49mZzBdko8ejQsNP3uBHWZZimLWsTpHjseSZugboG5lz2LnW7i7gdgWr1RSm7Ji1MGIuzBX2g_hxgC1rdo-T7hPr9bfokLRqbM1Jbz-HUoirwCm4DaAYdbM_pU5mSQV2U1TCY4&avtc=1&avte=4&avts=1721078393&keywords=%D1%81%D0%BC%D0%B0%D1%80%D1%82%D1%84%D0%BE%D0%BD\n",
      "Описание Телефон имеет маркировку EAC, такая техника полностью адаптирована для российского рынка, русифицирована и не требует переходника. Официальная российская гарантия 1 год. Смартфон Samsung Galaxy A15 оснащен 6,5-дюймовым Super AMOLED дисплеем с разрешением 2340 x 1080. Экран имеет частоту обновления 90 Гц, что обеспечивает более плавное изображение и улучшенный игровой опыт. Смартфон оснащен мощным процессором MediaTek Helio G99 с частотой 2200 МГц и 8 ядрами, что обеспечивает высокую производительность и быстродействие. Встроенная память составляет 256 ГБ, а оперативная память - 8 ГБ, что позволяет хранить большое количество данных и приложений. Модель работает на базе операционной системы Android 14. Смартфон оснащен тройной основной камерой с главным модулем на 50 Мп, 5 Мп ультраширокоугольным модулем и 2 Мп для макросъемки. Фронтальная камера имеет разрешение 13 Мп. Смартфон поддерживает работу с двумя nano SIM-картами, что позволяет использовать два номера на одном устройстве. Смартфон поддерживает беспроводные интерфейсы NFC, Bluetooth, Wi-Fi, а также навигационные системы GPS, Galileo, ГЛОНАСС, QZSS, BeiDou. Батарея смартфона имеет емкость 5000 мАч. Устройство также имеет NFC-модуль для бесконтактных платежей и сканер отпечатков пальцев на боковой грани для быстрой и безопасной разблокировки. Корпус смартфона выполнен из пластика, а его размеры составляют 160.1 х 76.8 х 8.4 мм, а вес - 200 г. В целом, Samsung Galaxy A15 4G - это надежный и функциональный смартфон, который станет отличным выбором для тех, кто ценит качество и производительность. Комплектация: Смартфон, документация, кабель USB Type-C, скрепка для извлечения слота SIM-карты / карты памяти. https://www.ozon.ru/product/samsung-smartfon-galaxy-a15-rostest-eac-8-256-gb-temno-siniy-1543046428/?asb=HY7EIyuf4TMX7uspsP1TBJ3zLkCoon0w%252FikASDZc6vI%253D&asb2=GHg3q14TD8LQugU0q1DvbGQuw1dx8qnHBtNHcE_rDrCAMTiohVcYAp5rIo3Ez2oKtdr7hNNMV_BFmXj8fXWS2Q&avtc=1&avte=2&avts=1721078453&keywords=%D1%81%D0%BC%D0%B0%D1%80%D1%82%D1%84%D0%BE%D0%BD\n",
      "Описание Восьмиядерный процессор MediaTek Helio G36 Redmi A3 оснащен необходимой мощностью для плавного просмотра контента и различных игр. Энергоемкий аккумулятор 5000 мАч Быстрая зарядка 10 Вт и мощный аккумулятор 5000 мАч - наслаждайтесь длительным временем автономной работы в течение всего дня. 8-ми мегапиксельная система с двумя камерами Частота обновления экрана 90 Гц Широкий обзор с дисплеем 6,78\" Получайте потрясающие визуальные впечатления с кристально чистым 6,78-дюймовым дисплеем. Показать полностью https://www.ozon.ru/product/xiaomi-smartfon-redmi-a3-rostest-eac-3-64-gb-goluboy-1538971460/?asb=JD9%252FrI3x%252Bwudkc2WcqArtH89EaCn8EmPVJoVm2PSYMc%253D&asb2=wx2ihitxFS55Es1uHAIFvuHjoACJF9k4Lj9koAN12rnCKGhYdIYvoAgf-nQr1l7shN4qBWd4EFyhiMY8wsT1-w&avtc=1&avte=2&avts=1721078483&keywords=%D1%81%D0%BC%D0%B0%D1%80%D1%82%D1%84%D0%BE%D0%BD\n",
      "Описание *Торговая марка realme стала победителем ежегодного голосования МАРКА №1 В РОССИИ @2023 в категории «Смартфон». БОЛЕЕ ЧЕТКАЯ КАМЕРА. БОЛЕЕ БЫСТРАЯ ЗАРЯДКА. БОЛЬШЕ ПАМЯТИ. НОВЫЙ ЧЕМПИОН В КЛАССЕ. 128 ГБ ROM + 8 ГБ Ди Больше четкости на снимках Режим 50 Мп значительно улучшает четкость изображения, сохраняя мелкие детали даже при съемке сложных зданий и пейзажей. В режиме «Ночь» В режиме «Ночь»  камера захватывает больше света, сохраняя при этом все детали, поэтому можно рассчитывать на высококлассную съемку в любое время суток. Фильтры для любого настроения Каждый раз получайте идеальную атмосферу. Фильтры делают съемку более универсальной и помогают передавать нужные эмоции вашим фотографиям. Зарядка SUPERVOOC 33 Стильный и блестящий Тонкий корпус. Легко держать в руке. Тонкий и эргономичный корпус 7,99 мм с прямоугольным дизайном боковых граней создает потрясающий дизайн смартфона, который идеально лежит в руке Дисплей 90 Гц 17,13 см (6,74'') Большой дисплей в сочетании со сверхплавной частотой обновления 90 Гц  обеспечивает широкие возможности просмотра, идеально подходящие для захватывающих игр. Примечания: 1. Динамическая оперативная память общим объемом 8 Гб доступна только в версии с 4 Гб оперативной памяти. 2. SUPERVOOC является официальным брендом зарядных устройств realme. Информация о времени зарядки аккумулятора получена в лаборатории realme. Фактические данные могут отличаться из-за различных условий тестирования, потери емкости аккумулятора при длительном использовании и других факторов, и приведены только для справки. 3. 5000 мАч — это типичное значение емкости аккумулятора realme C51. Данные о времени автономной работы основаны на данных лаборатории realme. Результаты могут варьироваться в зависимости от условий тестирования. 4. Данные об «Толщина 7,99 мм» и «Вес 186 гр» получены в лаборатории realme. Фактическая толщина может незначительно отличаться. 5. Данные о частоте обновления дисплея, соотношении экрана к корпусу, яркости и т. д. были получены в лаборатории realme. Данные могут варьироваться в зависимости от тестовой среды, метода расчета и т. д. Пожалуйста, обратитесь к фактическому продукту. 6. Информация об области срабатывания 360° NFC получена в лаборатории realme. Фактические результаты могут отличаться из-за различных условий тестирования или методов расчета. Пожалуйста, обратитесь к фактическому продукту. *Изображения товара приведены только для справки, пожалуйста, ознакомьтесь с фактическим продуктом. Некоторые технические характеристики и описания продукции могут по таким причинам, как смена поставщиков. Данные на странице взяты из разработанных realme технических параметров, данных испытаний в лабораториях и данных испытаний поставщиков. В реальных обстоятельствах данные могут незначительно отличаться в зависимости от версии тестового программного обеспечения, конкретной среды тестирования и конкретной версии. Показать полностью https://www.ozon.ru/product/realme-smartfon-c51-4-64-gb-zelenyy-1290426624/?asb=R1vnHtQZ0sgv9s%252FuJtgsTVtTQ%252BqD4Hef9xeXk4dIFg8%253D&asb2=5xH-ibtY5CZtSEo2a8B0bpjx3d35Obw18HKMDWJDJDfGENNAwWb0sdqw5GkPXu2G-j5zPLYinLdVh1PEJB4W7Q&avtc=2&avte=1&avts=1721078483&keywords=%D1%81%D0%BC%D0%B0%D1%80%D1%82%D1%84%D0%BE%D0%BD\n",
      "Описание Смартфон Xiaomi Redmi 13C 8/256GB Navy Blue работает на системе Android 13 за счет восьмиядерного процессора. Разрешение экрана составляет 720х1612 пикс. Дисплей оснащен технологией IPS. Оперативная память — 8 Гб, встроенная — 256 Гб. На задней части устройства расположены две основные камеры, позволяющие осуществлять видеосъемку с разрешением 1920х1080 пикс. Устойчивость кадра обеспечивается цифровой стабилизацией. Фронтальная камера — 8 Мп. Для увеличения емкости хранилища данных используется флэш-накопитель microSD с максимальным объемом 512 Гб. Возможно использовать при работе две nano-SIM. Передача данных осуществляется при поддержке стандартов 2G, 3G, 4G LTE, Wi-Fi, NFC, Miracast, Bluetooth 5.0. Доступны функции спутниковой навигации GPS, ГЛОНАСС, встроен FM-тюнер. На задней части панели размещен сканер отпечатка пальца. Корпус устройства сделан из пластика, размещает разъемы 3,5 мм и USB Type-C. В комплект включены блок питания мощностью 10 Вт и провод для зарядки. Цвет модели — синий. Вес — 192 г. https://www.ozon.ru/product/xiaomi-smartfon-redmi-13c-8-256gb-navy-blue-8-256-gb-siniy-1545388011/?asb=GcP3peo%252BB%252FLwz7Z%252Fk32pm456aTQ7klZnj0857j9eVf8%253D&asb2=H6e0FXZKaoQwn4VB6AhMLTkIY1WQ3pTkKzwASN74IMUOSsR-hW3BzCIlpyj6hR_7bIbaRLsTGnvT87vW5NmnpQ&avtc=1&avte=2&avts=1721078478&keywords=%D1%81%D0%BC%D0%B0%D1%80%D1%82%D1%84%D0%BE%D0%BD\n",
      "Описание Показать полностью https://www.ozon.ru/product/poco-smartfon-x6-rostest-eac-12-512-gb-chernyy-1421094387/?asb=ostLI2jGvJEDFVBAdiN%252BtqKOL2t4hrEm1cIjkPE8FHQ%253D&asb2=JK6KMWPatmUBSADmv7TGoYHvn_Vr8bW22qJ38pNaHbHdY555IWj8fSkBE5xlSvxB1JM8BnbpoIEfD2qQ1r6v9w&avtc=1&avte=1&avts=1721078463&keywords=%D1%81%D0%BC%D0%B0%D1%80%D1%82%D1%84%D0%BE%D0%BD\n"
     ]
    }
   ],
   "source": [
    "for rr in range(110, 120):\n",
    "    print(example_row_full_desc[rr]['full_desc'], example_row_full_desc[rr]['link'])"
   ]
  },
  {
   "cell_type": "code",
   "execution_count": 13,
   "metadata": {},
   "outputs": [
    {
     "name": "stderr",
     "output_type": "stream",
     "text": [
      "24/08/06 15:58:20 WARN TaskSetManager: Stage 2 contains a task of very large size (1677 KiB). The maximum recommended task size is 1000 KiB.\n"
     ]
    },
    {
     "name": "stdout",
     "output_type": "stream",
     "text": [
      "смартфон\n",
      "планшет\n",
      "ноутбук\n",
      "кроссовки\n",
      "телевизор\n",
      "туфли\n",
      "стул\n",
      "стол\n",
      "платье\n",
      "наушники\n",
      "чехол для телефона\n"
     ]
    }
   ],
   "source": [
    "type_obj = df.select('search_nm').distinct().collect()\n",
    "for i in type_obj:\n",
    "    print(i['search_nm'])"
   ]
  },
  {
   "cell_type": "code",
   "execution_count": 16,
   "metadata": {},
   "outputs": [
    {
     "data": {
      "text/plain": [
       "5499"
      ]
     },
     "execution_count": 16,
     "metadata": {},
     "output_type": "execute_result"
    }
   ],
   "source": [
    "stop_words = []\n",
    "with open('/home/al/Projects_My/hakaton_ozon_org/dataset/stop_word_base.txt', 'r') as f:\n",
    "    for word in f.readlines():\n",
    "        stop_words.append(word.strip())\n",
    "len(stop_words)"
   ]
  },
  {
   "cell_type": "code",
   "execution_count": 14,
   "metadata": {},
   "outputs": [],
   "source": [
    "def func(value):\n",
    "    for i in range(10):\n",
    "        value = value.replace(str(i),'')\n",
    "    value = value.replace('(-)', ' ')\n",
    "    ddel = ['*', ',', '-', '/', '%', ';', ')', '(', '+', '.', '..', ':', '\"',\n",
    " 'c',\n",
    " 'h',\n",
    " '«',\n",
    " '°',\n",
    "  '–',\n",
    " '—',\n",
    " '•']\n",
    "    for i in ddel:\n",
    "        value = value.replace(i, ' ')\n",
    "    return value"
   ]
  },
  {
   "cell_type": "code",
   "execution_count": 16,
   "metadata": {},
   "outputs": [],
   "source": [
    "def get_array_text_with_category(all_text_list: list, m):\n",
    "    \"\"\" Списка слов из списка текстов\n",
    "\n",
    "    Args:\n",
    "        all_text_list (list): Список текстов\n",
    "        m (_type_): _description_\n",
    "    \"\"\"\n",
    "    sum_arr = []\n",
    "    for first_txt in all_text_list:\n",
    "        words_list = func(first_txt.lower()).split()\n",
    "        for word in words_list:\n",
    "            # print(word)\n",
    "            word = word.strip()\n",
    "            if word:\n",
    "                lemmas = m.lemmatize(word)\n",
    "                if lemmas not in stop_words:\n",
    "                    sum_arr.append(lemmas[0])\n",
    "    return sum_arr"
   ]
  },
  {
   "cell_type": "markdown",
   "metadata": {},
   "source": [
    "## Получение списков слов по объектам в каждой категориии и создаие наборов train и test."
   ]
  },
  {
   "cell_type": "code",
   "execution_count": 17,
   "metadata": {},
   "outputs": [],
   "source": [
    "def get_array_cat_words(dict_txt_cat: dict):\n",
    "    \"\"\" Список слов в каждой категории\n",
    "\n",
    "    Args:\n",
    "        dict_txt_cat (dict): Словарь категорий\n",
    "    \"\"\"\n",
    "    dict_cat_words = {}\n",
    "    for key in list(dict_txt_cat.keys()):\n",
    "        print(key)\n",
    "        dict_cat_words[key] = []\n",
    "        ddf = dict_txt_cat[key]\n",
    "        dict_cat_words[key]+= get_array_text_with_category([kk['short_characteristic'] for kk in ddf.select('short_characteristic').collect()], m)\n",
    "        dict_cat_words[key]+= get_array_text_with_category([kk['full_desc'] for kk in ddf.select('full_desc').collect()], m)\n",
    "        dict_cat_words[key]+= get_array_text_with_category([kk['characteristic'] for kk in ddf.select('characteristic').collect()], m)\n",
    "        dict_cat_words[key]+= get_array_text_with_category([kk['components'] for kk in ddf.select('components').collect()], m)\n",
    "        dict_cat_words[key] = set(dict_cat_words[key])\n",
    "    return dict_cat_words\n"
   ]
  },
  {
   "cell_type": "code",
   "execution_count": 18,
   "metadata": {},
   "outputs": [
    {
     "name": "stdout",
     "output_type": "stream",
     "text": [
      "смартфон\n"
     ]
    },
    {
     "name": "stderr",
     "output_type": "stream",
     "text": [
      "24/08/06 10:35:47 WARN TaskSetManager: Stage 5 contains a task of very large size (1677 KiB). The maximum recommended task size is 1000 KiB.\n",
      "24/08/06 10:35:48 WARN TaskSetManager: Stage 6 contains a task of very large size (1677 KiB). The maximum recommended task size is 1000 KiB.\n",
      "24/08/06 10:35:49 WARN TaskSetManager: Stage 7 contains a task of very large size (1677 KiB). The maximum recommended task size is 1000 KiB.\n",
      "24/08/06 10:35:51 WARN TaskSetManager: Stage 8 contains a task of very large size (1677 KiB). The maximum recommended task size is 1000 KiB.\n"
     ]
    },
    {
     "name": "stdout",
     "output_type": "stream",
     "text": [
      "планшет\n"
     ]
    },
    {
     "name": "stderr",
     "output_type": "stream",
     "text": [
      "24/08/06 10:35:51 WARN TaskSetManager: Stage 9 contains a task of very large size (1677 KiB). The maximum recommended task size is 1000 KiB.\n",
      "24/08/06 10:35:52 WARN TaskSetManager: Stage 10 contains a task of very large size (1677 KiB). The maximum recommended task size is 1000 KiB.\n",
      "24/08/06 10:35:53 WARN TaskSetManager: Stage 11 contains a task of very large size (1677 KiB). The maximum recommended task size is 1000 KiB.\n",
      "24/08/06 10:35:55 WARN TaskSetManager: Stage 12 contains a task of very large size (1677 KiB). The maximum recommended task size is 1000 KiB.\n"
     ]
    },
    {
     "name": "stdout",
     "output_type": "stream",
     "text": [
      "ноутбук\n"
     ]
    },
    {
     "name": "stderr",
     "output_type": "stream",
     "text": [
      "24/08/06 10:35:55 WARN TaskSetManager: Stage 13 contains a task of very large size (1677 KiB). The maximum recommended task size is 1000 KiB.\n",
      "24/08/06 10:35:56 WARN TaskSetManager: Stage 14 contains a task of very large size (1677 KiB). The maximum recommended task size is 1000 KiB.\n",
      "24/08/06 10:35:57 WARN TaskSetManager: Stage 15 contains a task of very large size (1677 KiB). The maximum recommended task size is 1000 KiB.\n",
      "24/08/06 10:35:58 WARN TaskSetManager: Stage 16 contains a task of very large size (1677 KiB). The maximum recommended task size is 1000 KiB.\n"
     ]
    },
    {
     "name": "stdout",
     "output_type": "stream",
     "text": [
      "кроссовки\n"
     ]
    },
    {
     "name": "stderr",
     "output_type": "stream",
     "text": [
      "24/08/06 10:35:59 WARN TaskSetManager: Stage 17 contains a task of very large size (1677 KiB). The maximum recommended task size is 1000 KiB.\n",
      "24/08/06 10:36:00 WARN TaskSetManager: Stage 18 contains a task of very large size (1677 KiB). The maximum recommended task size is 1000 KiB.\n",
      "24/08/06 10:36:03 WARN TaskSetManager: Stage 19 contains a task of very large size (1677 KiB). The maximum recommended task size is 1000 KiB.\n",
      "24/08/06 10:36:05 WARN TaskSetManager: Stage 20 contains a task of very large size (1677 KiB). The maximum recommended task size is 1000 KiB.\n"
     ]
    },
    {
     "name": "stdout",
     "output_type": "stream",
     "text": [
      "телевизор\n"
     ]
    },
    {
     "name": "stderr",
     "output_type": "stream",
     "text": [
      "24/08/06 10:36:06 WARN TaskSetManager: Stage 21 contains a task of very large size (1677 KiB). The maximum recommended task size is 1000 KiB.\n",
      "24/08/06 10:36:06 WARN TaskSetManager: Stage 22 contains a task of very large size (1677 KiB). The maximum recommended task size is 1000 KiB.\n",
      "24/08/06 10:36:09 WARN TaskSetManager: Stage 23 contains a task of very large size (1677 KiB). The maximum recommended task size is 1000 KiB.\n",
      "24/08/06 10:36:13 WARN TaskSetManager: Stage 24 contains a task of very large size (1677 KiB). The maximum recommended task size is 1000 KiB.\n"
     ]
    },
    {
     "name": "stdout",
     "output_type": "stream",
     "text": [
      "туфли\n"
     ]
    },
    {
     "name": "stderr",
     "output_type": "stream",
     "text": [
      "24/08/06 10:36:13 WARN TaskSetManager: Stage 25 contains a task of very large size (1677 KiB). The maximum recommended task size is 1000 KiB.\n",
      "24/08/06 10:36:14 WARN TaskSetManager: Stage 26 contains a task of very large size (1677 KiB). The maximum recommended task size is 1000 KiB.\n",
      "24/08/06 10:36:17 WARN TaskSetManager: Stage 27 contains a task of very large size (1677 KiB). The maximum recommended task size is 1000 KiB.\n",
      "24/08/06 10:36:20 WARN TaskSetManager: Stage 28 contains a task of very large size (1677 KiB). The maximum recommended task size is 1000 KiB.\n"
     ]
    },
    {
     "name": "stdout",
     "output_type": "stream",
     "text": [
      "стул\n"
     ]
    },
    {
     "name": "stderr",
     "output_type": "stream",
     "text": [
      "24/08/06 10:36:20 WARN TaskSetManager: Stage 29 contains a task of very large size (1677 KiB). The maximum recommended task size is 1000 KiB.\n",
      "24/08/06 10:36:20 WARN TaskSetManager: Stage 30 contains a task of very large size (1677 KiB). The maximum recommended task size is 1000 KiB.\n",
      "24/08/06 10:36:22 WARN TaskSetManager: Stage 31 contains a task of very large size (1677 KiB). The maximum recommended task size is 1000 KiB.\n",
      "24/08/06 10:36:23 WARN TaskSetManager: Stage 32 contains a task of very large size (1677 KiB). The maximum recommended task size is 1000 KiB.\n"
     ]
    },
    {
     "name": "stdout",
     "output_type": "stream",
     "text": [
      "стол\n"
     ]
    },
    {
     "name": "stderr",
     "output_type": "stream",
     "text": [
      "24/08/06 10:36:23 WARN TaskSetManager: Stage 33 contains a task of very large size (1677 KiB). The maximum recommended task size is 1000 KiB.\n",
      "24/08/06 10:36:24 WARN TaskSetManager: Stage 34 contains a task of very large size (1677 KiB). The maximum recommended task size is 1000 KiB.\n",
      "24/08/06 10:36:29 WARN TaskSetManager: Stage 35 contains a task of very large size (1677 KiB). The maximum recommended task size is 1000 KiB.\n",
      "24/08/06 10:36:31 WARN TaskSetManager: Stage 36 contains a task of very large size (1677 KiB). The maximum recommended task size is 1000 KiB.\n"
     ]
    },
    {
     "name": "stdout",
     "output_type": "stream",
     "text": [
      "платье\n"
     ]
    },
    {
     "name": "stderr",
     "output_type": "stream",
     "text": [
      "24/08/06 10:36:32 WARN TaskSetManager: Stage 37 contains a task of very large size (1677 KiB). The maximum recommended task size is 1000 KiB.\n",
      "24/08/06 10:36:33 WARN TaskSetManager: Stage 38 contains a task of very large size (1677 KiB). The maximum recommended task size is 1000 KiB.\n",
      "24/08/06 10:36:36 WARN TaskSetManager: Stage 39 contains a task of very large size (1677 KiB). The maximum recommended task size is 1000 KiB.\n",
      "24/08/06 10:36:40 WARN TaskSetManager: Stage 40 contains a task of very large size (1677 KiB). The maximum recommended task size is 1000 KiB.\n"
     ]
    },
    {
     "name": "stdout",
     "output_type": "stream",
     "text": [
      "наушники\n"
     ]
    },
    {
     "name": "stderr",
     "output_type": "stream",
     "text": [
      "24/08/06 10:36:40 WARN TaskSetManager: Stage 41 contains a task of very large size (1677 KiB). The maximum recommended task size is 1000 KiB.\n",
      "24/08/06 10:36:41 WARN TaskSetManager: Stage 42 contains a task of very large size (1677 KiB). The maximum recommended task size is 1000 KiB.\n",
      "24/08/06 10:36:45 WARN TaskSetManager: Stage 43 contains a task of very large size (1677 KiB). The maximum recommended task size is 1000 KiB.\n",
      "24/08/06 10:36:49 WARN TaskSetManager: Stage 44 contains a task of very large size (1677 KiB). The maximum recommended task size is 1000 KiB.\n"
     ]
    },
    {
     "name": "stdout",
     "output_type": "stream",
     "text": [
      "чехол для телефона\n"
     ]
    },
    {
     "name": "stderr",
     "output_type": "stream",
     "text": [
      "24/08/06 10:36:50 WARN TaskSetManager: Stage 45 contains a task of very large size (1677 KiB). The maximum recommended task size is 1000 KiB.\n",
      "24/08/06 10:36:51 WARN TaskSetManager: Stage 46 contains a task of very large size (1677 KiB). The maximum recommended task size is 1000 KiB.\n",
      "24/08/06 10:36:54 WARN TaskSetManager: Stage 47 contains a task of very large size (1677 KiB). The maximum recommended task size is 1000 KiB.\n",
      "24/08/06 10:36:56 WARN TaskSetManager: Stage 48 contains a task of very large size (1677 KiB). The maximum recommended task size is 1000 KiB.\n"
     ]
    }
   ],
   "source": [
    "dict_cat_words = get_array_cat_words(dict_txt_cat)"
   ]
  },
  {
   "cell_type": "code",
   "execution_count": 19,
   "metadata": {},
   "outputs": [
    {
     "data": {
      "text/plain": [
       "{'неудобный',\n",
       " 'сражение',\n",
       " 'plantroni',\n",
       " 'p',\n",
       " 'отвлечение',\n",
       " 'товарный',\n",
       " 'вынимание',\n",
       " 'автоматический',\n",
       " 'наконец',\n",
       " 'держать',\n",
       " 'nb',\n",
       " 'эффективный',\n",
       " 'lg',\n",
       " 'роль',\n",
       " 'lo',\n",
       " 'виртуальный',\n",
       " 'прозрачность',\n",
       " 'jснащены',\n",
       " 'позолотить',\n",
       " 'профессиональный',\n",
       " 'ножевой',\n",
       " 'уверенный',\n",
       " 'руль',\n",
       " 'ситуация',\n",
       " 'воз',\n",
       " 'три',\n",
       " 'копия',\n",
       " 'оранжевый',\n",
       " 'сверхбыстрый',\n",
       " 'потребность',\n",
       " 'аудиокодек',\n",
       " 'sven',\n",
       " 'dj',\n",
       " 'эффективность',\n",
       " 'сеанс',\n",
       " 'арсенал',\n",
       " 'мера',\n",
       " 'достигаться',\n",
       " 'нагрузка',\n",
       " 'унция',\n",
       " 'метро',\n",
       " 'задавать',\n",
       " 'современный',\n",
       " 'оголовье',\n",
       " 'переносок',\n",
       " 'басистый',\n",
       " 'фон',\n",
       " 'max',\n",
       " 'эстетика',\n",
       " 'упаковочный',\n",
       " 'продукция',\n",
       " 'выгодный',\n",
       " 'максимум',\n",
       " 'непринужденный',\n",
       " 'передвигаться',\n",
       " 'нож',\n",
       " 'перемотка',\n",
       " 'плотный',\n",
       " 'raa',\n",
       " 'производиль',\n",
       " 'мода',\n",
       " 'подвеска',\n",
       " 'затылочный',\n",
       " 'inpods',\n",
       " 'бережный',\n",
       " 'в',\n",
       " 'игровой',\n",
       " 'настроенный',\n",
       " 'просьба',\n",
       " 'совместимость',\n",
       " 'зона',\n",
       " 'поговорить',\n",
       " 'слышимость',\n",
       " 'сегодня',\n",
       " 'хаки',\n",
       " 'признанный',\n",
       " 'iabbegru',\n",
       " 'отклонение',\n",
       " 'so',\n",
       " 'gogadget',\n",
       " 'проходить',\n",
       " 'многоточечный',\n",
       " 'отвлекаться',\n",
       " 'штанговый',\n",
       " 'печатный',\n",
       " 'насыщение',\n",
       " 'опять',\n",
       " 'флешка',\n",
       " 'капроновый',\n",
       " 'аудиофильский',\n",
       " 'москва',\n",
       " 'ассортимент',\n",
       " 'logite',\n",
       " 'минимальный',\n",
       " 'окружающие',\n",
       " 'доставлять',\n",
       " 'ttps',\n",
       " 'сообщение',\n",
       " 'подставка',\n",
       " 'классный',\n",
       " 'нежелательный',\n",
       " 'потоковый',\n",
       " 'свадьба',\n",
       " 'характеризовать',\n",
       " 'кодировать',\n",
       " 'оптимальный',\n",
       " 'телевизионный',\n",
       " 'fi',\n",
       " 'прибор',\n",
       " 'натирать',\n",
       " 'пока',\n",
       " 'sports',\n",
       " 'изолировать',\n",
       " 'отображение',\n",
       " 'оповещать',\n",
       " 'ты',\n",
       " 'производить',\n",
       " 'назад',\n",
       " 'мощь',\n",
       " 'gaming',\n",
       " 'светодиодный',\n",
       " 'seamless',\n",
       " 'zkissfas',\n",
       " 'повторный',\n",
       " 'запатентовывать',\n",
       " 'избегать',\n",
       " 'ubs',\n",
       " 'freemotion',\n",
       " 'ms',\n",
       " 'дождаться',\n",
       " 'снова',\n",
       " 'однако',\n",
       " 'навстречу',\n",
       " 'главный',\n",
       " 'бежевый',\n",
       " 'обод',\n",
       " 'отдел',\n",
       " 'различать',\n",
       " 'видный',\n",
       " 'дополнять',\n",
       " 'магнитная',\n",
       " 'включать',\n",
       " 'многоканальный',\n",
       " 'пожалуй',\n",
       " 'какой',\n",
       " 'продукт',\n",
       " 'ношение',\n",
       " 'целлюлозный',\n",
       " 'удовлетворять',\n",
       " 'регулироваться',\n",
       " 'ноль',\n",
       " 'улучшать',\n",
       " 'разборчиво',\n",
       " 'девайса',\n",
       " 'тысяча',\n",
       " 'импортный',\n",
       " 'ведь',\n",
       " '🎙',\n",
       " 'бронза',\n",
       " 'dp',\n",
       " 'издержки',\n",
       " 'любимый',\n",
       " 'противник',\n",
       " 'delivery',\n",
       " 'тенденция',\n",
       " 'безграничный',\n",
       " 'сын',\n",
       " 'возрастать',\n",
       " '天',\n",
       " 'уверенность',\n",
       " 'andy',\n",
       " 'доступность',\n",
       " 'лабиринт',\n",
       " 'однажды',\n",
       " 'полиуретановый',\n",
       " 'специалист',\n",
       " 'bg',\n",
       " 'dsp',\n",
       " 'группа',\n",
       " 'смело',\n",
       " 'mp',\n",
       " 'заметный',\n",
       " 'быстрый',\n",
       " 'серый',\n",
       " 'интеллект',\n",
       " 'тканевый',\n",
       " 'tv',\n",
       " 'air',\n",
       " 'неодимов',\n",
       " 'отличный',\n",
       " 'фоновый',\n",
       " 'подкаста',\n",
       " 'сбросить',\n",
       " 'миг',\n",
       " 'никак',\n",
       " 'предполагать',\n",
       " 'шумоподавляющий',\n",
       " 'скоординироваться',\n",
       " 'изгиб',\n",
       " 'заглушка',\n",
       " 'передвижение',\n",
       " 'невесомый',\n",
       " 'аза',\n",
       " 'беспроводной',\n",
       " 'беседа',\n",
       " 'крепко',\n",
       " 'позиционирование',\n",
       " 'удар',\n",
       " 'miniusb',\n",
       " 'как',\n",
       " 'структура',\n",
       " 'веревочка',\n",
       " 'покрытие',\n",
       " 'конечно',\n",
       " 'место',\n",
       " 'девочка',\n",
       " 'лидировать',\n",
       " 'настрой',\n",
       " 'изящество',\n",
       " 'sig',\n",
       " 'онлайн',\n",
       " 'поставка',\n",
       " 'водонепроницаемый',\n",
       " 'маркетплейс',\n",
       " 'груша',\n",
       " 'многократный',\n",
       " 'радиостанция',\n",
       " 'экспериенс',\n",
       " 'счет',\n",
       " 'квартира',\n",
       " 'ted',\n",
       " 'эмоция',\n",
       " 'вызов',\n",
       " 'думать',\n",
       " 'нету',\n",
       " 'теперь',\n",
       " 'человеческий',\n",
       " 'alfsun',\n",
       " 'выражение',\n",
       " 'довольно',\n",
       " 'созвон',\n",
       " 'техника',\n",
       " 'сплав',\n",
       " 'применяться',\n",
       " 'ations',\n",
       " 'учитывать',\n",
       " 'менее',\n",
       " 'правительство',\n",
       " 'приятный',\n",
       " 'недорогой',\n",
       " 'отфильтровывать',\n",
       " 'догадываться',\n",
       " 'износ',\n",
       " 'наушники',\n",
       " 'композиция',\n",
       " 'видеоконференция',\n",
       " 'титановый',\n",
       " 'бегать',\n",
       " 'возврат',\n",
       " 's',\n",
       " 'целость',\n",
       " 'lda',\n",
       " 'сила',\n",
       " 'присмотр',\n",
       " 'шт',\n",
       " 'защитник',\n",
       " 'arry',\n",
       " 'сша',\n",
       " 'yper',\n",
       " 'длительность',\n",
       " 'особенно',\n",
       " 'defender',\n",
       " 'скромный',\n",
       " 'samsung',\n",
       " '𓍢',\n",
       " 'обьемный',\n",
       " 'слово',\n",
       " 'инвестировать',\n",
       " 'автолюбитель',\n",
       " 'пунктирный',\n",
       " 'bla',\n",
       " 'нажатие',\n",
       " 'абс',\n",
       " 'сполна',\n",
       " 'технический',\n",
       " 'главное',\n",
       " 'стропа',\n",
       " 'короб',\n",
       " 'скажем',\n",
       " 'без',\n",
       " 'комфортный',\n",
       " 'прочий',\n",
       " 'отзыв',\n",
       " 'решать',\n",
       " 'известный',\n",
       " 'учеба',\n",
       " 'выделять',\n",
       " 'предупреждение',\n",
       " 'k',\n",
       " 'сочетаться',\n",
       " 'jerry',\n",
       " 'free',\n",
       " 'попытка',\n",
       " 'внутриканальный',\n",
       " 'апрель',\n",
       " 'фильм',\n",
       " 'называть',\n",
       " 'неуловимый',\n",
       " 'над',\n",
       " 'активный',\n",
       " 'изгибать',\n",
       " 'сирена',\n",
       " 'наглядный',\n",
       " 'велкро',\n",
       " 'атмосферный',\n",
       " 'скорый',\n",
       " 'скорость',\n",
       " 'двухдрайверный',\n",
       " 'вуаль',\n",
       " 'радиопомеха',\n",
       " 'затычка',\n",
       " 'рlay',\n",
       " 'хорошо',\n",
       " 'открываться',\n",
       " 'w',\n",
       " 'костный',\n",
       " 'поработать',\n",
       " 'разнообразие',\n",
       " 'одобрять',\n",
       " 'соответственно',\n",
       " 'lp',\n",
       " 'болтаться',\n",
       " 'xs',\n",
       " 'переливаться',\n",
       " 'широкополосный',\n",
       " 'переключение',\n",
       " 'предлагать',\n",
       " 'противоскользящий',\n",
       " 'безмятежный',\n",
       " 'запасной',\n",
       " 'компл',\n",
       " 'линейный',\n",
       " 'выполняться',\n",
       " 'сравнивать',\n",
       " 'смахивание',\n",
       " 'сначала',\n",
       " 'усиленный',\n",
       " 'превышать',\n",
       " 'анализировать',\n",
       " 'талон',\n",
       " 'мs',\n",
       " 'проблема',\n",
       " 'создаваться',\n",
       " 'сохранность',\n",
       " 'выполнять',\n",
       " 'заботиться',\n",
       " 'зритель',\n",
       " 'adow',\n",
       " 'снаружи',\n",
       " 'качественный',\n",
       " 'девайс',\n",
       " '™',\n",
       " 'зарядник',\n",
       " 'осадки',\n",
       " 'возвращать',\n",
       " 'чтобы',\n",
       " 'оригинал',\n",
       " 'укорачивать',\n",
       " 'впечатление',\n",
       " 'достигать',\n",
       " 'кодек',\n",
       " 'отверстие',\n",
       " 'arge',\n",
       " 'nebula',\n",
       " 'mod',\n",
       " 'al',\n",
       " 'урезанный',\n",
       " 'узкий',\n",
       " 'разговор',\n",
       " '[',\n",
       " 'полупрозрачный',\n",
       " 'микширование',\n",
       " 'идея',\n",
       " 'airdots',\n",
       " 'оптимально',\n",
       " 'компьютер',\n",
       " 'указывать',\n",
       " 'экранирование',\n",
       " 'практичность',\n",
       " 'увеличиваться',\n",
       " 'словно',\n",
       " 'амбушюр',\n",
       " 'истинный',\n",
       " 'россия',\n",
       " 'свайп',\n",
       " 'ванна',\n",
       " 'левый',\n",
       " 'к',\n",
       " 'автоответчик',\n",
       " 'нахождение',\n",
       " 'обновление',\n",
       " 'personalaudio',\n",
       " 'наиболее',\n",
       " 'сторонний',\n",
       " 'тренд',\n",
       " 'лаборатория',\n",
       " 'послушать',\n",
       " 'функция',\n",
       " 'under',\n",
       " 'volume',\n",
       " 'минипорт',\n",
       " 'наклон',\n",
       " 'проектирование',\n",
       " 'дешево',\n",
       " 'интеллектуально',\n",
       " 'общаться',\n",
       " 'сигнализация',\n",
       " 'посеребреный',\n",
       " 'близко',\n",
       " 'аудиолага',\n",
       " 'лыжа',\n",
       " 'что',\n",
       " 'электроинструмент',\n",
       " 'щепотка',\n",
       " 'обогащать',\n",
       " 'аналог',\n",
       " 'неделя',\n",
       " 'расширять',\n",
       " 'ровно',\n",
       " 'точность',\n",
       " 'шея',\n",
       " 'вы',\n",
       " 'беда',\n",
       " 'долговечность',\n",
       " 'подстраховывать',\n",
       " 'окантовка',\n",
       " 'bass',\n",
       " 'прекрасно',\n",
       " 'long',\n",
       " 'скачать',\n",
       " 'интуитивный',\n",
       " 'mm',\n",
       " 'рисунок',\n",
       " 'час',\n",
       " 'усмотрение',\n",
       " 'цельный',\n",
       " 'неудобство',\n",
       " 'размещение',\n",
       " 'двухканальный',\n",
       " 'машинка',\n",
       " 'переключатель',\n",
       " 'отдых',\n",
       " 'лента',\n",
       " 'видно',\n",
       " 'современность',\n",
       " 'удовольствие',\n",
       " 'поздно',\n",
       " 'перепад',\n",
       " 'мир',\n",
       " 'кто',\n",
       " '\\\\\\n',\n",
       " 'излишний',\n",
       " 'тв',\n",
       " 'присматриваться',\n",
       " 'пролеживать',\n",
       " 'детализация',\n",
       " 'отзывчивый',\n",
       " 'насыщенный',\n",
       " 'футуристичный',\n",
       " 'edx',\n",
       " 'тип',\n",
       " 'являться',\n",
       " 'переживать',\n",
       " 'воздух',\n",
       " 'воздействие',\n",
       " 'выключатель',\n",
       " '📀',\n",
       " 'изображение',\n",
       " 'внедрять',\n",
       " 'решетка',\n",
       " 'корея',\n",
       " 'наполнитель',\n",
       " 'забывать',\n",
       " 'подбирать',\n",
       " 'активировать',\n",
       " 'ия',\n",
       " 'сопротивление',\n",
       " 'близкие',\n",
       " 'произношение',\n",
       " 'гарант',\n",
       " 'комплектный',\n",
       " 'аудиооборудование',\n",
       " 'trut',\n",
       " 'посредством',\n",
       " 'информация',\n",
       " 'момент',\n",
       " 'порадовать',\n",
       " 'пластиков',\n",
       " '®',\n",
       " 'головка',\n",
       " 'продлять',\n",
       " 'шумодав',\n",
       " 'позвонить',\n",
       " 'отходить',\n",
       " 'краткий',\n",
       " 'en',\n",
       " 'распространять',\n",
       " 'огонь',\n",
       " 'комплект',\n",
       " 'ощупь',\n",
       " 'тыльный',\n",
       " 'улучшение',\n",
       " 'вне',\n",
       " 'целое',\n",
       " 'иметь',\n",
       " 'фиксироваться',\n",
       " 'софттач',\n",
       " 'нужно',\n",
       " 'gmv',\n",
       " 'нестандартный',\n",
       " 'корректный',\n",
       " 'такт',\n",
       " 'yberdots',\n",
       " 'дерзкий',\n",
       " 'суммарный',\n",
       " 'средство',\n",
       " 'сосредоточенность',\n",
       " 'приниматься',\n",
       " 'насыщенность',\n",
       " 'второй',\n",
       " 'функционировать',\n",
       " 'отклонять',\n",
       " 'снижаться',\n",
       " 'вдохновлять',\n",
       " 'avit',\n",
       " 'освещать',\n",
       " 'амбшура',\n",
       " 'громко',\n",
       " 'уверять',\n",
       " 'идентификация',\n",
       " 'новогодний',\n",
       " 'переставать',\n",
       " 'коррекс',\n",
       " 'деталь',\n",
       " 'адаптировать',\n",
       " 'хоко',\n",
       " 'доставляться',\n",
       " 'коммуницировать',\n",
       " 'дома',\n",
       " 'далеко',\n",
       " 'частый',\n",
       " 'техподдержка',\n",
       " 'реплика',\n",
       " 'приложение',\n",
       " 'дисплей',\n",
       " 'type',\n",
       " 'отправляться',\n",
       " 'сказать',\n",
       " 'рад',\n",
       " 'основной',\n",
       " 'маус',\n",
       " 'иметься',\n",
       " 'спина',\n",
       " 'ржаветь',\n",
       " 'potter',\n",
       " 'линукс',\n",
       " 'скрываться',\n",
       " 'эффективно',\n",
       " 'интонация',\n",
       " 'расставаться',\n",
       " 'производитель',\n",
       " 'тут',\n",
       " 'ключевой',\n",
       " 'плавно',\n",
       " 'настоятельно',\n",
       " 'емкость',\n",
       " 'случай',\n",
       " 'брызги',\n",
       " 'мокрый',\n",
       " 'ew',\n",
       " 'персонализировать',\n",
       " 'чернить',\n",
       " 'тембр',\n",
       " 'нуждаться',\n",
       " 'существовать',\n",
       " 'вкладыш',\n",
       " 'помощь',\n",
       " 'шанс',\n",
       " 'fres',\n",
       " 'избавляться',\n",
       " 'ma',\n",
       " 'однократный',\n",
       " 'выстрел',\n",
       " 'неправильный',\n",
       " 'учебный',\n",
       " 'мероприятие',\n",
       " 'легкость',\n",
       " 'ознакомляться',\n",
       " 'wave',\n",
       " 'поворотный',\n",
       " 'портрет',\n",
       " 'приключение',\n",
       " 'консоль',\n",
       " 'управлять',\n",
       " 'коллега',\n",
       " 'bank',\n",
       " 'вперед',\n",
       " 'удовлетворение',\n",
       " 'синтетический',\n",
       " 'символика',\n",
       " 'etime',\n",
       " 'сосредоточенный',\n",
       " 'попеременно',\n",
       " 'контур',\n",
       " 'соответствие',\n",
       " 'отсутствовать',\n",
       " 'занятый',\n",
       " 'актуальный',\n",
       " 'потом',\n",
       " 'заголовок',\n",
       " 'всемирно',\n",
       " 'важно',\n",
       " 'a',\n",
       " 'удлинитель',\n",
       " 'моментальный',\n",
       " 'диссонанс',\n",
       " 'восемь',\n",
       " 'последний',\n",
       " 'подсоединяться',\n",
       " 'образец',\n",
       " 'пластиковый',\n",
       " 'ion',\n",
       " 'вращаться',\n",
       " 'energy',\n",
       " 'панель',\n",
       " 'готовиться',\n",
       " 'данна',\n",
       " 'третий',\n",
       " 'допускать',\n",
       " 'сейчас',\n",
       " 'захватывать',\n",
       " 'abr',\n",
       " 'бегом',\n",
       " 'сфокусироваться',\n",
       " 'утренний',\n",
       " 'to',\n",
       " 'пассивный',\n",
       " 'поддерживаться',\n",
       " '_\\n',\n",
       " 'распознавать',\n",
       " 'звукоизоляция',\n",
       " 'амбрашура',\n",
       " 'энергоэффективность',\n",
       " 'неодимовый',\n",
       " 'амбюшуров',\n",
       " 'батут',\n",
       " 'м',\n",
       " 'окружать',\n",
       " 'mtjy',\n",
       " 'airподойдут',\n",
       " 'снимать',\n",
       " 'г',\n",
       " 'f',\n",
       " 'psp',\n",
       " '🔊',\n",
       " 'авторизация',\n",
       " 'заушина',\n",
       " 'отмечать',\n",
       " 'мило',\n",
       " 'непогода',\n",
       " 'здоровье',\n",
       " 'префикс',\n",
       " 'сверхбольшой',\n",
       " 'кги',\n",
       " 'помешать',\n",
       " 'привлекательно',\n",
       " 'чувствительность',\n",
       " 'слышать',\n",
       " 'продумывать',\n",
       " 'взрослый',\n",
       " 'подзарядиться',\n",
       " 'ради',\n",
       " 'перемещение',\n",
       " 'пара',\n",
       " 'отфильтровываться',\n",
       " 'видеозвонок',\n",
       " 'универсальность',\n",
       " 'проникать',\n",
       " 'длительный',\n",
       " 'гронологический',\n",
       " 'заряд',\n",
       " 'практически',\n",
       " 'пусть',\n",
       " 'сигнал',\n",
       " 'индуктивный',\n",
       " 'поколение',\n",
       " 'достоинство',\n",
       " 'ui',\n",
       " 'уведомление',\n",
       " 'волна',\n",
       " 'платиновый',\n",
       " 'знак',\n",
       " 'замечать',\n",
       " 'фильтр',\n",
       " 'март',\n",
       " 'ограничение',\n",
       " 'исходить',\n",
       " 'цепляться',\n",
       " 'q',\n",
       " 'повреждение',\n",
       " 'добиваться',\n",
       " 'нивелировать',\n",
       " 'поставлять',\n",
       " 'вставка',\n",
       " 'инструмент',\n",
       " 'fs',\n",
       " 'ii',\n",
       " 'спокойно',\n",
       " 'by',\n",
       " 'жить',\n",
       " 'стилист',\n",
       " 'физический',\n",
       " 'превосходно',\n",
       " 'брендовый',\n",
       " 'резинка',\n",
       " 'гироскоп',\n",
       " 'питание',\n",
       " 'цветовой',\n",
       " '🔵',\n",
       " 'фильтрация',\n",
       " 'динамичный',\n",
       " 'x',\n",
       " 'гаджет',\n",
       " 'запутывание',\n",
       " 'строй',\n",
       " 'меняться',\n",
       " 'tozo',\n",
       " 'царапина',\n",
       " 'продолжать',\n",
       " 'свое',\n",
       " 'почти',\n",
       " 'fx',\n",
       " 'захотеться',\n",
       " 'мощность',\n",
       " 'подтверждать',\n",
       " 'оставлять',\n",
       " 'шикарный',\n",
       " 'дистанция',\n",
       " 'mars',\n",
       " 'ноутбук',\n",
       " 'минимализм',\n",
       " 'ливень',\n",
       " 'создание',\n",
       " 'обучение',\n",
       " 'поролон',\n",
       " 'шейный',\n",
       " 'эпл',\n",
       " 'ig',\n",
       " 'ступенчатый',\n",
       " 'уступать',\n",
       " 'индикация',\n",
       " 'съем',\n",
       " 'электромагнитный',\n",
       " 'давно',\n",
       " 'бас',\n",
       " 'потеряться',\n",
       " 'отчетливо',\n",
       " 'усиливать',\n",
       " 'поставляться',\n",
       " 'смарт',\n",
       " 'отправка',\n",
       " 'xp',\n",
       " 'различие',\n",
       " 'усовершенствовать',\n",
       " 'дбпа',\n",
       " 'непосредственно',\n",
       " 'воображение',\n",
       " 'мультидрайвер',\n",
       " 'гарантироваться',\n",
       " 'ни',\n",
       " 'пот',\n",
       " 'изящный',\n",
       " 'предпочтение',\n",
       " 'производиться',\n",
       " '🔉',\n",
       " 'вручать',\n",
       " 'скрипеть',\n",
       " 'промокод',\n",
       " 'привлекательный',\n",
       " 'блютус',\n",
       " 'выразительный',\n",
       " 'заниматься',\n",
       " 'постоянно',\n",
       " 'оборудовать',\n",
       " 'первоначальный',\n",
       " 'eartips',\n",
       " 'пользоваться',\n",
       " 'блютуз',\n",
       " 'пора',\n",
       " 'нейлоновый',\n",
       " 'marvo',\n",
       " 'праздничный',\n",
       " 'диктофон',\n",
       " 'кодирование',\n",
       " 'трикотажный',\n",
       " 'эхоподавление',\n",
       " 'заранее',\n",
       " 'максимальный',\n",
       " 'гул',\n",
       " 'школа',\n",
       " 'палитра',\n",
       " 'wnb',\n",
       " 'проверка',\n",
       " 'dlp',\n",
       " 'призывать',\n",
       " 'бы',\n",
       " 'eo',\n",
       " 'm',\n",
       " 'проливной',\n",
       " 'изготовление',\n",
       " 'емкий',\n",
       " 'расположение',\n",
       " 'естественно',\n",
       " 'родные',\n",
       " 'образный',\n",
       " 'хватить',\n",
       " 'водоотталкивающий',\n",
       " 'противоударный',\n",
       " 'вертикаль',\n",
       " 'поздний',\n",
       " 'примечание',\n",
       " 'редактирование',\n",
       " 'deluxe',\n",
       " 'stimaxon',\n",
       " 'тюнинг',\n",
       " 'продолжительность',\n",
       " 'друг',\n",
       " 'простота',\n",
       " 'пригождаться',\n",
       " 'выпускаться',\n",
       " 'своевременный',\n",
       " 'неисправность',\n",
       " 'весить',\n",
       " 'вспенивать',\n",
       " 'взять',\n",
       " 'фото',\n",
       " 'влагостойкость',\n",
       " 'nf',\n",
       " 'ключ',\n",
       " 'щеточка',\n",
       " 'somi',\n",
       " 'голубой',\n",
       " 'шнурок',\n",
       " 'essor',\n",
       " 'ручка',\n",
       " 'сразу',\n",
       " 'отсоединять',\n",
       " 'шаг',\n",
       " 'изъятие',\n",
       " 'белоснежный',\n",
       " 'удобный',\n",
       " 'слой',\n",
       " 'музыкать',\n",
       " 'одиночный',\n",
       " 'убеждаться',\n",
       " 'интенсивность',\n",
       " 'тяжелый',\n",
       " 'ybrid',\n",
       " 'попадание',\n",
       " 'bm',\n",
       " 'tpu',\n",
       " 'распределение',\n",
       " 'российский',\n",
       " 'срабатывать',\n",
       " 'остальной',\n",
       " 'санкт',\n",
       " 'полагаться',\n",
       " 'программа',\n",
       " 'лицо',\n",
       " 'очевидный',\n",
       " 'сконцентрировать',\n",
       " 'компьютерный',\n",
       " 'находка',\n",
       " 'одежда',\n",
       " 'google',\n",
       " 'ничто',\n",
       " 'mmorpg',\n",
       " 'освещение',\n",
       " 'daswerk',\n",
       " 'полноценный',\n",
       " 'дополняться',\n",
       " 'незаметный',\n",
       " 'оппонент',\n",
       " 'openair',\n",
       " 'радиофицированный',\n",
       " 'формировать',\n",
       " 'настоящее',\n",
       " 'вывести',\n",
       " 'гибкий',\n",
       " 'рядом',\n",
       " 'ушной',\n",
       " 'опция',\n",
       " 'превращаться',\n",
       " 'обои',\n",
       " 'легко',\n",
       " 'кожзам',\n",
       " '🔋',\n",
       " 'гибко',\n",
       " 'медленно',\n",
       " 'так',\n",
       " 'женщина',\n",
       " 'иллюстрация',\n",
       " 'запись',\n",
       " 'aylou',\n",
       " 'механизм',\n",
       " 'onne',\n",
       " 'автопереключение',\n",
       " 'отменять',\n",
       " 'лежать',\n",
       " 'может',\n",
       " 'высококачественный',\n",
       " 'nano',\n",
       " 'съемный',\n",
       " 'дело',\n",
       " 'видео',\n",
       " 'избыточный',\n",
       " 'рождение',\n",
       " 'уха',\n",
       " 'фиксировать',\n",
       " 'количество',\n",
       " 'ombo',\n",
       " 'freebuds',\n",
       " 'отрасль',\n",
       " 'b',\n",
       " 'радиус',\n",
       " 'прилегание',\n",
       " 'ozon',\n",
       " 'должно',\n",
       " 'link',\n",
       " 'варьироваться',\n",
       " 'rfi',\n",
       " 'накладной',\n",
       " 'linka',\n",
       " 'много',\n",
       " 'нить',\n",
       " 'принимать',\n",
       " 'алюминиевый',\n",
       " 'шутер',\n",
       " 'мешочек',\n",
       " 'масло',\n",
       " 'потухать',\n",
       " 'номер',\n",
       " 'ножка',\n",
       " 'g',\n",
       " 'искать',\n",
       " 'поттер',\n",
       " 'вариант',\n",
       " 'экологичный',\n",
       " 'ep',\n",
       " 'пеший',\n",
       " 'машина',\n",
       " 'зафиксироваться',\n",
       " 'буря',\n",
       " 'предварительно',\n",
       " 'короткий',\n",
       " 'действительно',\n",
       " 'swit',\n",
       " 'motorola',\n",
       " 'абсолютно',\n",
       " 'напальчник',\n",
       " 'функциональный',\n",
       " 'moss',\n",
       " 'down',\n",
       " 'кинематографический',\n",
       " 'galaxy',\n",
       " 'ommuni',\n",
       " 'разделительный',\n",
       " 'xxмм',\n",
       " 'цос',\n",
       " 'вектор',\n",
       " 'обстановка',\n",
       " 'прибавлять',\n",
       " 'пульт',\n",
       " 'гладко',\n",
       " 'боевой',\n",
       " 'атрибут',\n",
       " 'неработающий',\n",
       " 'различимый',\n",
       " 'пурпурный',\n",
       " 'конференц',\n",
       " 'кбит',\n",
       " 'уплотнение',\n",
       " 'всасывание',\n",
       " 'выдавать',\n",
       " 'пожилой',\n",
       " 'сцена',\n",
       " 'одинарный',\n",
       " 'ваш',\n",
       " 'кнопочный',\n",
       " 'весть',\n",
       " ...}"
      ]
     },
     "execution_count": 19,
     "metadata": {},
     "output_type": "execute_result"
    }
   ],
   "source": [
    "dict_cat_words['наушники']"
   ]
  },
  {
   "cell_type": "code",
   "execution_count": 20,
   "metadata": {},
   "outputs": [
    {
     "data": {
      "text/plain": [
       "4399"
      ]
     },
     "execution_count": 20,
     "metadata": {},
     "output_type": "execute_result"
    }
   ],
   "source": [
    "len(dict_cat_words['наушники'])"
   ]
  },
  {
   "cell_type": "code",
   "execution_count": 21,
   "metadata": {},
   "outputs": [],
   "source": [
    "list_dict_words = [dict_cat_words[ll] for ll in dict_cat_words]"
   ]
  },
  {
   "cell_type": "code",
   "execution_count": 22,
   "metadata": {},
   "outputs": [
    {
     "data": {
      "text/plain": [
       "11"
      ]
     },
     "execution_count": 22,
     "metadata": {},
     "output_type": "execute_result"
    }
   ],
   "source": [
    "len(list_dict_words)"
   ]
  },
  {
   "cell_type": "code",
   "execution_count": 23,
   "metadata": {},
   "outputs": [],
   "source": [
    "set_com_words = set.intersection(*list_dict_words)"
   ]
  },
  {
   "cell_type": "code",
   "execution_count": 24,
   "metadata": {},
   "outputs": [
    {
     "data": {
      "text/plain": [
       "340"
      ]
     },
     "execution_count": 24,
     "metadata": {},
     "output_type": "execute_result"
    }
   ],
   "source": [
    "len(set_com_words)"
   ]
  },
  {
   "cell_type": "code",
   "execution_count": 25,
   "metadata": {},
   "outputs": [
    {
     "data": {
      "text/plain": [
       "{'a',\n",
       " 'e',\n",
       " 'f',\n",
       " 'k',\n",
       " 's',\n",
       " 't',\n",
       " 'а',\n",
       " 'аксессуар',\n",
       " 'активный',\n",
       " 'артикул',\n",
       " 'без',\n",
       " 'белый',\n",
       " 'благодаря',\n",
       " 'более',\n",
       " 'больше',\n",
       " 'большой',\n",
       " 'бояться',\n",
       " 'бренд',\n",
       " 'быстро',\n",
       " 'быстрый',\n",
       " 'быть',\n",
       " 'в',\n",
       " 'важный',\n",
       " 'ваш',\n",
       " 'верхний',\n",
       " 'вес',\n",
       " 'весь',\n",
       " 'вид',\n",
       " 'включать',\n",
       " 'включая',\n",
       " 'вместе',\n",
       " 'внешний',\n",
       " 'внимание',\n",
       " 'внутренний',\n",
       " 'во',\n",
       " 'воздух',\n",
       " 'возможность',\n",
       " 'вокруг',\n",
       " 'время',\n",
       " 'все',\n",
       " 'всегда',\n",
       " 'всего',\n",
       " 'вы',\n",
       " 'выбирать',\n",
       " 'выбор',\n",
       " 'выглядеть',\n",
       " 'выполнять',\n",
       " 'высокий',\n",
       " 'высококачественный',\n",
       " 'высота',\n",
       " 'гамма',\n",
       " 'гарантийный',\n",
       " 'гарантировать',\n",
       " 'гарантия',\n",
       " 'где',\n",
       " 'глубокий',\n",
       " 'год',\n",
       " 'давать',\n",
       " 'даже',\n",
       " 'данный',\n",
       " 'два',\n",
       " 'движение',\n",
       " 'делать',\n",
       " 'день',\n",
       " 'деталь',\n",
       " 'дизайн',\n",
       " 'длительный',\n",
       " 'для',\n",
       " 'до',\n",
       " 'добавлять',\n",
       " 'долгий',\n",
       " 'долговечность',\n",
       " 'дополнительный',\n",
       " 'достаточно',\n",
       " 'доступный',\n",
       " 'друг',\n",
       " 'другой',\n",
       " 'если',\n",
       " 'еще',\n",
       " 'же',\n",
       " 'жизнь',\n",
       " 'за',\n",
       " 'зависимость',\n",
       " 'занимать',\n",
       " 'защищать',\n",
       " 'и',\n",
       " 'игра',\n",
       " 'идеально',\n",
       " 'идеальный',\n",
       " 'идти',\n",
       " 'из',\n",
       " 'изготавливать',\n",
       " 'изготовитель',\n",
       " 'изготовление',\n",
       " 'изящный',\n",
       " 'или',\n",
       " 'иметь',\n",
       " 'инструкция',\n",
       " 'информация',\n",
       " 'искать',\n",
       " 'использование',\n",
       " 'использовать',\n",
       " 'использоваться',\n",
       " 'к',\n",
       " 'каждый',\n",
       " 'как',\n",
       " 'какой',\n",
       " 'картинка',\n",
       " 'качественный',\n",
       " 'качество',\n",
       " 'китай',\n",
       " 'когда',\n",
       " 'код',\n",
       " 'комплект',\n",
       " 'комфорт',\n",
       " 'комфортно',\n",
       " 'комфортный',\n",
       " 'конструкция',\n",
       " 'который',\n",
       " 'красивый',\n",
       " 'кроме',\n",
       " 'кто',\n",
       " 'легкий',\n",
       " 'легко',\n",
       " 'либо',\n",
       " 'линия',\n",
       " 'любимый',\n",
       " 'любить',\n",
       " 'любой',\n",
       " 'м',\n",
       " 'максимально',\n",
       " 'максимальный',\n",
       " 'маленький',\n",
       " 'мало',\n",
       " 'материал',\n",
       " 'матовый',\n",
       " 'между',\n",
       " 'место',\n",
       " 'мир',\n",
       " 'множество',\n",
       " 'модель',\n",
       " 'может',\n",
       " 'можно',\n",
       " 'момент',\n",
       " 'мочь',\n",
       " 'мы',\n",
       " 'мягкий',\n",
       " 'на',\n",
       " 'надежность',\n",
       " 'надежный',\n",
       " 'наличие',\n",
       " 'наслаждаться',\n",
       " 'настоящий',\n",
       " 'наш',\n",
       " 'не',\n",
       " 'небольшой',\n",
       " 'невероятно',\n",
       " 'необходимо',\n",
       " 'необходимость',\n",
       " 'необходимый',\n",
       " 'непревзойденный',\n",
       " 'несколько',\n",
       " 'несмотря',\n",
       " 'нет',\n",
       " 'но',\n",
       " 'новое',\n",
       " 'новый',\n",
       " 'носить',\n",
       " 'нужно',\n",
       " 'нужный',\n",
       " 'о',\n",
       " 'обеспечивать',\n",
       " 'обладать',\n",
       " 'обновлять',\n",
       " 'образ',\n",
       " 'общий',\n",
       " 'обычный',\n",
       " 'огромный',\n",
       " 'один',\n",
       " 'одновременно',\n",
       " 'он',\n",
       " 'она',\n",
       " 'они',\n",
       " 'описание',\n",
       " 'оснащать',\n",
       " 'основной',\n",
       " 'основываться',\n",
       " 'особенно',\n",
       " 'особенность',\n",
       " 'оставаться',\n",
       " 'от',\n",
       " 'отвечать',\n",
       " 'отличаться',\n",
       " 'отлично',\n",
       " 'отличный',\n",
       " 'оттенок',\n",
       " 'очень',\n",
       " 'первый',\n",
       " 'переходить',\n",
       " 'по',\n",
       " 'поверхность',\n",
       " 'повседневный',\n",
       " 'повышенный',\n",
       " 'под',\n",
       " 'подарок',\n",
       " 'поддерживать',\n",
       " 'поддержка',\n",
       " 'подходить',\n",
       " 'позволять',\n",
       " 'показывать',\n",
       " 'покупка',\n",
       " 'полностью',\n",
       " 'полный',\n",
       " 'положение',\n",
       " 'получать',\n",
       " 'помогать',\n",
       " 'помощь',\n",
       " 'популярный',\n",
       " 'после',\n",
       " 'последний',\n",
       " 'поставка',\n",
       " 'потребность',\n",
       " 'поэтому',\n",
       " 'превосходный',\n",
       " 'предлагать',\n",
       " 'предоставлять',\n",
       " 'представлять',\n",
       " 'преимущество',\n",
       " 'прекрасный',\n",
       " 'при',\n",
       " 'придавать',\n",
       " 'приятный',\n",
       " 'проблема',\n",
       " 'продукция',\n",
       " 'производитель',\n",
       " 'простой',\n",
       " 'протяжение',\n",
       " 'процесс',\n",
       " 'прочный',\n",
       " 'публикация',\n",
       " 'работа',\n",
       " 'работать',\n",
       " 'различный',\n",
       " 'размер',\n",
       " 'разный',\n",
       " 'разрабатывать',\n",
       " 'решение',\n",
       " 'российский',\n",
       " 'россия',\n",
       " 'рука',\n",
       " 'ряд',\n",
       " 'с',\n",
       " 'самый',\n",
       " 'сведение',\n",
       " 'свой',\n",
       " 'связь',\n",
       " 'сделать',\n",
       " 'себя',\n",
       " 'серый',\n",
       " 'синий',\n",
       " 'ситуация',\n",
       " 'служба',\n",
       " 'см',\n",
       " 'смочь',\n",
       " 'снижать',\n",
       " 'снимать',\n",
       " 'со',\n",
       " 'современный',\n",
       " 'создавать',\n",
       " 'соответствовать',\n",
       " 'сохранять',\n",
       " 'сочетание',\n",
       " 'сочетать',\n",
       " 'специально',\n",
       " 'способный',\n",
       " 'справочный',\n",
       " 'срок',\n",
       " 'стандартный',\n",
       " 'становиться',\n",
       " 'стиль',\n",
       " 'стильный',\n",
       " 'сторона',\n",
       " 'страна',\n",
       " 'счет',\n",
       " 'т',\n",
       " 'так',\n",
       " 'также',\n",
       " 'такой',\n",
       " 'темно',\n",
       " 'технический',\n",
       " 'течение',\n",
       " 'тип',\n",
       " 'то',\n",
       " 'товар',\n",
       " 'только',\n",
       " 'том',\n",
       " 'тонкий',\n",
       " 'тот',\n",
       " 'точно',\n",
       " 'у',\n",
       " 'увеличивать',\n",
       " 'удобно',\n",
       " 'удобный',\n",
       " 'удобство',\n",
       " 'уже',\n",
       " 'указывать',\n",
       " 'улучшать',\n",
       " 'универсальный',\n",
       " 'уникальный',\n",
       " 'упаковка',\n",
       " 'уровень',\n",
       " 'условие',\n",
       " 'устойчивый',\n",
       " 'форма',\n",
       " 'фото',\n",
       " 'фотография',\n",
       " 'функциональность',\n",
       " 'характер',\n",
       " 'характеристика',\n",
       " 'хороший',\n",
       " 'хранить',\n",
       " 'цвет',\n",
       " 'цветовой',\n",
       " 'цветок',\n",
       " 'цена',\n",
       " 'черный',\n",
       " 'число',\n",
       " 'чистый',\n",
       " 'что',\n",
       " 'чтобы',\n",
       " 'ширина',\n",
       " 'широкий',\n",
       " 'эксплуатация',\n",
       " 'элегантный',\n",
       " 'элемент',\n",
       " 'это',\n",
       " 'этот',\n",
       " 'эффект',\n",
       " 'являться',\n",
       " 'яркий'}"
      ]
     },
     "execution_count": 25,
     "metadata": {},
     "output_type": "execute_result"
    }
   ],
   "source": [
    "set_com_words"
   ]
  },
  {
   "cell_type": "code",
   "execution_count": 32,
   "metadata": {},
   "outputs": [
    {
     "name": "stdout",
     "output_type": "stream",
     "text": [
      "5484\n",
      "{'вещание', 'протирать', 'комбинация', 'прорезинивать', 'травма', 'держать', 'эффективный', 'olor', 'lg', 'роль', 'lo', 'пенополиуретан', 'уверенный', 'женственный', 'комплектность', 'ситуация', 'завязывание', 'практично', 'сверхбыстрый', 'временный', 'голливудский', 'эффективность', 'переворот', 'сеанс', 'sk', 'кормление', 'горный', 'арсенал', 'мера', 'нагрузка', 'star', 'задавать', 'современный', 'турция', 'переносок', 'вино', 'эстетика', 'max', 'продукция', 'выгодный', 'максимум', 'непринужденный', 'нож', 'передвигаться', 'перемотка', 'микроклимат', 'допы', 'бережный', 'игровой', 'совместимость', 'хаки', 'температурный', 'отклонение', 'всевозможный', 'отвлекаться', 'печатный', 'москва', 'олицетворение', 'доставлять', 'сообщение', 'нежелательный', 'свадьба', 'пышный', 'тпу', 'натирать', 'отображение', 'web', 'торжественный', 'мощь', 'производить', 'запатентовывать', 'презентация', 'дождаться', 'instreet', 'главный', 'бежевый', 'различать', 'магнитная', 'многоканальный', 'стройность', 'dma', 'колено', 'продукт', 'ношение', 'тумба', 'антивандальный', 'прилагать', 'удовлетворять', 'внедрение', 'ноль', 'регулироваться', 'улучшать', 'огород', 'тысяча', 'бронза', 'ведь', 'maxi', 'аудиовизуальный', 'принтер', 'противник', 'delivery', 'безграничный', 'сын', 'возрастать', 'изюминка', 'абстракция', 'уверенность', 'доступность', 'amd', 'перфорированный', 'состав', 'бархатистый', 'mb', 'кухня', 'периметр', 'специалист', 'band', 'декорировать', 'вкладка', 'группа', 'mil', 'смело', 'mp', 'заметный', 'быстрый', 'серый', 'интеллект', 'tv', 'двухдиапазонный', 'отличный', 'годовой', 'dvd', 'броги', 'написать', 'невесомый', 'емкостный', 'аудиоформат', 'беседа', 'противоположный', 'удар', 'как', 'роскошный', 'структура', 'покрытие', 'дорого', 'изящество', 'онлайн', 'внешне', 'участник', 'водонепроницаемый', 'секция', 'маркетплейс', 'многократный', 'счет', 'трение', 'квартира', 'думать', 'преображать', 'человеческий', 'созвон', 'матрица', 'довольно', 'литий', 'европа', 'применяться', 'pova', 'приятный', 'износ', 'композиция', 'возврат', 'целость', 'внизу', 'потреблять', 'запрос', 'защитник', 'yper', 'ernet', 'особенно', 'длительность', 'скромный', 'фломастер', 'выписка', 'сквозной', 'скроллинг', 'bla', 'нажатие', 'проявлять', 'технический', 'главное', 'blu', 'инга', 'exynos', 'керамика', 'заканчивать', 'поддаваться', 'отзыв', 'решать', 'известный', 'arbon', 'выделять', 'предупреждение', 'k', '&', 'po', 'апрель', 'фильм', 'подгонять', 'видеотрансляция', 'активный', 'изгибать', 'приносить', 'атмосферный', 'скорость', 'перечень', 'esim', 'равномерно', 'крой', 'look', 'одобрять', 'ик', 'соответственно', 'болтаться', 'xs', 'популярность', 'slip', 'широкополосный', 'предлагать', 'вспомогательный', 'противоскользящий', 'линейный', 'стенка', 'сравнивать', 'эксклюзивность', 'усиленный', 'редактировать', 'сначала', 'превышать', 'анализировать', 'талон', 'сохранность', 'создаваться', 'выполнять', 'сверхчетка', 'снаружи', 'девайс', 'фрагмент', 'объектив', 'термин', 'sand', 'возникновение', 'оригинал', 'достигать', 'кодек', 'brabix', 'arge', 'узкий', 'разговор', 'уточнять', 'оптимально', 'компьютер', 'указывать', 'kion', 'несравненный', 'вещество', 'институт', 'истинный', 'антибактериальный', 'шоу', 'трансформер', 'треккинг', 'ванна', 'к', 'нахождение', 'наиболее', 'турбо', 'indigo', 'лаборатория', 'under', 'volume', 'смелый', 'низ', 'видимый', 'неприхотливый', 'дешево', 'общаться', 'галерея', 'вт', 'состарить', 'что', 'обогащать', 'неделя', 'расширять', 'bass', 'скачать', 'mm', 'минималистский', 'рисунок', 'oled', 'цельный', 'циркуляция', 'привозить', 'неудобство', 'размещение', 'двухканальный', 'машинка', 'отдых', 'перепад', 'влажный', 'справка', 'танцевальный', 'кто', 'излишний', 'натирание', 'вместительный', 'присматриваться', 'нравиться', 'футуристичный', 'armony', 'выключатель', 'воздух', 'переживать', 'сцепление', 'воздействие', 'периферийный', 'поглощение', 'неповторимость', 'решетка', 'забывать', 'активировать', 'подбирать', 'привод', 'сопротивление', 'гарант', 'близкие', 'комплектный', 'pla', 'комментарий', 'посредством', 'информация', 'момент', 'порадовать', 'трескаться', 'money', 'пластиков', '®', 'головка', 'продлять', 'гальванический', 'сбор', 'краткий', 'позвонить', 'слипон', 'dlna', 'en', 'мыс', 'комплект', 'огонь', 'улучшение', 'скругленный', 'вареный', 'вне', 'целое', 'испускать', 'запоминать', 'фиксироваться', 'сегмент', 'нестандартный', 'устаревать', 'корректный', 'притягивать', 'статья', 'суммарный', 'сталкиваться', 'насыщенность', 'локальный', 'функционировать', 'отклонять', 'снижаться', 'вдохновлять', 'освещать', 'громко', '【\\n', 'гигиена', 'потертость', 'молодой', 'сидение', 'подъем', 'дисплей', 'type', 'целевой', 'основной', 'рад', 'спина', 'укладка', 'фурнитура', 'расставаться', 'диагональ', 'емкость', 'хотеться', 'пляжный', 'утро', 'мокрый', 'персонализировать', 'нуждаться', 'существовать', 'fres', 'помощь', 'шанс', 'учебный', 'легкость', 'поворотный', 'приключение', 'консоль', 'управлять', 'колледж', 'сочный', 'флакон', 'синтетический', 'двигательный', 'отсутствовать', 'тпр', 'заголовок', 'a', 'трехслойный', 'поддержание', 'моментальный', 'удлинитель', 'жарко', 'горизонтально', 'последний', 'ухаживать', 'польза', 'пластиковый', 'энергоэффективный', 'просторный', 'energy', 'готовиться', 'данна', 'допускать', 'сейчас', 'красочный', 'поддерживаться', 'придание', 'балет', 'распознавать', 'загородный', 'космический', 'м', 'серебряный', 'снимать', 'г', 'larity', 'грация', 'мило', 'ram', 'непогода', 'здоровье', 'антибликовый', 'телепередача', 'помешать', 'чувствительность', 'продумывать', 'na', 'взрослый', 'потянуть', 'пара', 'гимнастика', 'дартс', 'видеозвонок', 'отделение', 'проникать', 'заряд', 'практически', 'ui', 'magi', 'pl', 'уведомление', 'волна', 'знак', 'замечать', 'фильтр', 'март', 'ограничение', 'обувной', 'исходить', 'q', 'нетрудно', 'памятный', 'fs', 'вставка', 'omforto', 'горизонт', 'нит', 'ii', 'натура', 'физический', 'учебник', 'шикарно', 'превосходно', 'гироскоп', 'цветовой', 'рассеивание', 'фильтрация', 'динамичный', 'энергичность', 'гаджет', 'строй', 'выручать', 'подтверждать', 'оставлять', 'ноутбук', 'минимализм', 'создание', 'обучение', 'поролон', 'очищать', 'сталь', 'бампер', 'давно', 'бас', 'усиливать', 'отправка', 'чтение', 'усовершенствовать', 'каркас', 'надпись', 'ни', 'пот', 'изящный', 'предпочтение', 'расслабление', 'скрипеть', 'амортизация', 'щелочь', 'индустрия', 'выразительный', 'заниматься', 'первоначальный', 'зазор', 'блютуз', 'счастливый', 'диктофон', 'vl', 'коридор', 'максимальный', 'призывать', 'емкий', 'естественно', 'расположение', 'размытый', 'крепить', 'родные', 'противоударный', 'водоотталкивающий', 'поздний', 'lux', 'примечание', 'грязь', 'считаться', 'титан', 'редактирование', 'развитие', 'вдали', 'губка', 'возводить', 'рывок', 'выпускаться', '（', 'простота', 'тюнинг', 'своевременный', 'массив', 'очаровывать', 'прикроватный', 'удачно', 'фото', 'nf', 'влагостойкость', 'карбон', 'ключ', 'голубой', 'шнурок', 'ручка', 'uniso', 'essor', 'бесшумный', 'белоснежный', 'эва', 'отсоединять', 'rtx', 'слой', 'пряжка', 'высыхать', 'салатовый', 'тяжелый', 'ybrid', 'попадание', 'bm', 'tpu', 'российский', 'семейный', 'срабатывать', 'полагаться', 'появление', 'влево', 'тряпка', 'англ', 'определенный', 'сконцентрировать', 'освещение', 'одежда', 'google', 'голенище', 'находка', 'ничто', 'полноценный', 'банкетка', 'незаметный', 'организовывать', 'непросто', 'вывести', 'гибкий', 'рядом', 'превращаться', 'легко', '”\\n', 'просить', 'медленно', 'прошивать', 'mediatek', 'несомненно', 'запись', 'механизм', 'onne', 'нехватка', 'перевозить', 'лежать', 'отменять', 'может', 'дело', 'съемный', 'плавать', 'elio', 'востребовать', 'весна', 'фиксировать', 'шедевр', 'радиус', 'прилегание', 'inoi', 'нить', 'принимать', 'алюминиевый', 'just', 'мешочек', 'конкурент', 'масло', 'полуботинок', 'искать', 'деформироваться', 'вариант', 'пик', 'статусный', 'короткий', 'действительно', 'театр', 'художник', 'galaxy', 'slim', 'официально', 'обстановка', 'уплотнение', 'блестка', 'выдавать', 'пожилой', 'сцена', 'одинарный', 'ваш', 'страничка', 'маломерить', 'bq', 'экологически', 'специализироваться', 'ai', 'торговый', 'долгосрочный', 'обязательный', 'промаркировать', 'посвящать', 'среди', 'секунда', 'направление', 'язычок', 'цикл', 'агрессивный', 'совсем', 'тату', 'кр', 'привыкать', 'сдавливать', 'визуально', 'ранее', 'следовательно', 'вкупе', 'принцип', 'офис', 'электропитание', 'босоножка', 'гора', 'fla', 'гигабайт', 'vision', 'asual', 'говорить', 'новое', 'изыск', 'цельносварный', 'оболочка', 'исполнять', 'сопоставлять', 'коллекция', 'вдохновляться', 'вплоть', 'открывать', 'изготовлять', 'анатомия', 'обладать', 'оборудование', 'капюшон', 'zs', 'предавать', 'низкочастотный', 'сумочка', 'притягательный', 'мерцание', 'опытный', 'нюанс', 'вечный', 'отражать', 'скоро', 'хранить', 'меньшой', 'зажим', 'отжим', 'ast', 'хсм', 'грязный', 'gen', 'страдать', 'окунаться', 'stereo', 'садовый', 'жемчужина', 'строго', 'ultra', 'полноразмерный', 'бамбук', 'ходить', 'цвет', 'безопасность', 'metal', 'тон', 'валентина', 'удивительный', 'приковывать', 'мгновение', 'поддерживать', 'сантиметр', 'понадобиться', 'трек', 'первоочередной', 'система', 'эталон', 'отвлекать', 'мастер', 'романтический', 'красотка', 'кость', 'трекер', 'объемный', 'вредный', 'слойный', 'мятный', 'органично', 'экстремальный', 'будто', 'стульчик', 'производственный', 'зажимать', 'ap', 'фиолетовый', 'походка', 'усилитель', 'запечатлить', 'кухонный', 'продуктивно', 'развертывать', 'отсек', 'вписывать', 'baseus', 'аниме', 'великолепный', 'скрадывать', 'шустро', 'оп', 'покорять', 'задвигать', 'потенциал', 'колпачок', 'рация', 'шуруповерт', 'удобно', 'продвинутый', 'падать', 'возможный', 'солнечный', 'вдохновение', 'стрейч', 'моментально', 'sensor', 'аудиофайл', 'слоновый', 'слот', 'кожанный', 'текст', 'контрастный', 'путешествовать', 'графический', 'желтеть', 'коробка', 'несъемный', 'американский', 'воздушность', 'двусторонний', 'рукав', 'раз', 'очень', 'вводить', 'пластик', 'прелесть', 'просто', 'родной', 'убирать', 'линейка', 'ой', 'бантик', 'помещаться', 'насколько', 'движение', 'рейтинг', 'изысканный', 'интересно', 'женственно', 'проект', 'релакс', 'градусный', 'инженер', 'неважно', 'адаптация', 'хромировать', 'гарнитур', 'ориентироваться', 'негативный', 'станция', 'чернильный', 'будущее', 'поиграть', 'сэкономить', 'wi', 'ненужный', 'отношение', 'обтянутый', 'индивидуальность', 'напоминать', 'игрок', 'бабушка', 'деньги', 'пластичность', 'мелочь', 'разница', 'придавать', 'морилка', 'угодно', 'профиль', 'привычный', 'беспокоить', 'ni', 'выдвижной', 'бесцветный', 'кнопка', 'герметичный', 'main', 'полный', 'развлекаться', 'прямоугольник', 'улица', 'измерять', 'фисташковый', 'страна', 'комфорт', 'документ', 'хай', 'опыт', 'обслуживание', 'правило', 'свидание', 'смотреть', 'перевозка', 'регулятор', 'декор', 'поставщик', 'внимательный', 'шелк', 'иммерсивный', 'путь', 'море', 'ночь', 'получать', 'память', 'ana', 'экземпляр', 'адаптер', 'realme', 'деформировать', 'прозрачный', 'рисование', 'выражать', 'четкость', 'ridberg', 'игривость', 'пробежка', 'трубчатый', 'tive', 'надежный', 'слишком', 'отказываться', 'транспортный', 'интуитивно', 'завоевывать', 'теплый', 'комплектация', 'ro', 'единый', 'семь', 'располагаться', 'полюбиться', 'служить', 'д', 'сабо', 'занятие', 'пожелание', 'шелковистый', 'аутентификация', 'отменный', 'химчистка', 'tn', 'телячий', 'градус', 'горизонталь', 'препятствовать', 'ool', 'трансформировать', 'страсть', 'цельнометаллический', 'доля', 'естественный', 'закат', 'равный', 'you', 'сканер', 'лиловый', 'up', 'технолог', 'боковой', 'представитель', 'быстро', 'уделять', 'о', 'повертывать', 'понравиться', 'лабораторный', 'исключать', 'мессенджер', 'отвод', 'точка', 'разделять', 'сногсшибательный', 'укомплектовывать', 'gp', 'usb', 'приготовление', 'aier', 'удаваться', 'qr', 'водонепроницаемость', 'усталость', 'питаться', 'лаконичный', 'беспрерывный', 'всякий', 'прорабатывать', 'должный', 'ежедневно', 'вместе', 'последующий', 'mpix', 'ценитель', 'строгий', 'гостин', 'жертвовать', 'брат', 'стакан', 'отключение', 'клипса', 'оливковый', 'разбирать', 'компаньон', 'дача', 'тайвань', 'киберспорт', 'вплотную', 'alexa', 'ручной', 'геймерский', 'познакомиться', 'qual', 'умеренный', 'подружка', 'шнур', 'длинный', 'лук', 'механический', 'пр', 'небесный', 'style', 'текстиль', 'останавливать', 'реалистичный', 'видеокамера', 'ie', 'возможно', 'запечатлевать', 'командный', 'создавать', 'гарантированный', '=\\n', 'рваться', 'eva', 'стилистика', 'досуг', 'возникать', 'самый', '<\\n', 'мальчик', 'расставлять', 'поменять', 'доступный', 'ge', 'л', 'беспокойство', 'деми', 'отпечаток', 'вождение', 'выводить', 'где', 'побаловать', 'сауна', 'утяжелять', 'русифицировать', 'искажать', 'смелость', 'studio', 'побеждать', 'июль', 'металлокаркас', 'соответствующий', 'ement', 'вшивать', 'е', 'армировать', 'относиться', 'gamer', 'd', 'размещать', 'тройной', 'сиять', 'холодить', 'светиться', 'блеск', 'оснащать', 'цифровой', 'у', 'определять', 'an', 'проверять', 'повреждать', 'посещение', 'ответ', 'раздвижной', 'dts', 'tupe', 'поход', 'тишина', 'жара', 'айфон', 'true', 'отслеживание', 'кожа', 'dr', 'прогулка', 'индивидуальный', 'церемония', 'дата', 'напиток', 'мдф', 'закаленный', 'тд', 'стабильный', 'диаграмма', 'маломощный', 'взаимодействовать', 'axe', 'погодный', 'недостаток', 'присутствовать', 'равномерный', 'прохладный', 'изготавливаться', 'ot', 'парк', 'угловой', 'никогда', 'year', 'контактный', 'горячий', 'джинс', 'ассистент', 'хонор', 'ксиоми', 'миссия', 'скопление', 'плеер', 'царапать', 'уют', 'ускорение', 'часть', 'гейминг', 'модернизировать', 'повод', 'мотив', 'наряд', 'широкоформатный', 'святой', 'малайзия', 'расстояние', 'бесконечный', 'раздражать', 'синхронизироваться', 'mono', 'желающий', 'одновременный', 'магия', 'конференция', 'синтепон', 'зависание', 'поражать', 'обрамлять', 'удаляться', 'mira', 'плоский', 'производство', 'неприятный', 'пиксел', 'утомление', 'столбик', 'упаковка', 'ось', 'профессионально', 'сетчатый', 'тщательность', 'передний', 'amr', 'воздухопроницаемость', 'вообще', 'услышать', 'подростковый', 'германия', 'флеш', 'визуальный', 'повышать', 'пестрый', 'глубокий', 'rousb', 'сплит', 'отель', 'скользить', 'куда', 'развлекательный', 'smart', 'целый', 'кинотеатр', 'сторона', 'упускать', 'перерабатывать', 'кресло', 'подробный', 'next', 'xxs', 'окружение', 'kari', 'картонный', 'выходной', 'пилатес', 'объект', 'напоминание', 'чехол', 'сбоку', 'порывать', 'или', 'находить', 'atmos', 'гонконг', 'меню', 'перегреваться', 'обмен', 'прорисовывать', 'еаэс', 'нубук', 'зрелый', 'язык', 'mi', 'багажник', 'kids', 'сапфир', 'этот', 'double', 'кожаный', 'бумага', 'искажение', 'неотразимость', 'us', 'бывать', 'снабжать', 'мх', 'ks', 'телефонный', 'плоскостопие', 'коммуникация', 'реальный', 'расчет', 'сверяться', 'железный', 'пластика', 'сильно', 'периферия', 'ионный', 'антик', 'бирюзовый', 'воспроизводиться', 'завтрак', 'торжество', 'активно', 'мед', 'lila', 'повышенный', 'спутник', 'колебание', 'прихожая', 'озу', 'город', 'ценить', 'саморез', 'все', 'старение', 'ощущение', 'франция', 'действовать', 'понятно', 'по', 'gps', 'pu', 'национальный', 'замечательный', 'super', 'кабельный', 'корейский', 'фанера', 'no', 'midi', 'осуществляться', 'обстоятельство', 'артикул', 'напряжение', 'постоянный', 'живой', 'video', 'цениться', 'вибрация', 'расти', 'леди', 'гравировка', 'z', 'дополнительный', 'кромка', 'музыка', 'утомляемость', 'похолодание', 'прованс', 'sound', 'местоположение', 'способ', 'экзамен', 'снижение', 'хранилище', 'возвращаться', 'внушительный', 'живот', 'торопиться', 'атмосфера', 'истирание', 'лишний', 'выступ', 'ровный', 'переходить', 'открытый', 'использовать', 'микрофон', 'св', 'день', 'складывание', 'цифра', 'ветер', 'стб', 'и', 'считать', '[\\n', 'тряска', 'sa', 'сексуальность', 'tuv', 'пылевлагозащищенность', 'сглаживать', 'правда', 'потоотделение', 'мини', '\\u200b\\u200b', 'партия', 'презентабельный', 'со', 'miller', 'пикс', 'юбилей', 'обладатель', 'совместимый', '_', 'упрощать', 'спальня', 'совмещать', 'поразительный', 'образование', 'выглядеть', 'аудиотехнология', 'золотой', 'шарнир', 'вращение', 'устойчивость', 'заказывать', 'шумоподавление', 'незамеченный', 'gb', 'пвз', 'нм', 'ознакомление', 'исчерпывающий', 'мастерство', 'складный', 'весьма', 'отпуск', 'интерфейс', 'прикасаться', 'заключаться', 'n', 'приятно', 'частично', 'полуоткрытый', 'марка', 'хб', 'юный', 'стойкость', 'таймер', 'точный', 'спокойный', 'gm', 'встречать', 'благодарить', 'продуктивный', 'безвредный', 'справочный', 'каменный', 'рука', 'регулярно', 'кант', 'этикетка', 'письмо', 'кремовый', 'порез', 'двойной', 'mebel', 'выполнение', 'вместо', 'ударный', 'текстура', 'испортить', 'род', 'уже', 'площадь', 'портативный', 'ограничиваться', 'завершать', 're', 'реалистичность', 'жаркий', 'периодический', 'потребоваться', 'телефон', 'рельефный', 'темп', 'комплектовать', 'расписание', 'вычурный', 'образовывать', 'право', 'lab', 'восторг', 'приемник', 'человек', '✦', 'мастхэв', 'степень', 'ряд', 'ремонт', 'sl', 'ухо', 'темно', 'ячейка', 'стабилизатор', 'шитье', 'mkv', 'всесторонний', 'шустрый', 'барби', 'основный', 'сменный', 'благоприятный', 'за', 'превосходный', 'назначение', 'group', 'bl', 'u', 'дополнение', 'объединение', 'непрерывный', 'эволюция', 'блик', 'отлично', 'требовательный', 'раскрывать', 'стремиться', 'нераздвижной', 'смочь', 'шум', 'пзу', 'здоровый', 'происхождение', 'хотя', 'семья', 'вдвое', 'страшный', 'жар', 'тиснение', 'тень', 'ощущать', 'синий', 'макс', 'похожий', 'бюджет', 'контакт', 'облегать', 'голова', 'перерыв', 'чистка', 'корпоративный', 'сравнение', 'вовремя', 'колесо', 'магический', 'gold', 'терраса', 'шлепка', 'когда', 'компактно', 'легендарный', 'вложение', 'гусиный', 'давить', 'мех', 'вести', 'излучение', 'случайно', 'бережная', 'дрожание', 'продаваться', 'apro', 'отвертка', 'воротник', 'сутки', 'скол', 'spark', 'начинка', 'термопластика', 'нос', 'joy', 'выставка', 'впечатлить', 'прежний', 'наоборот', 'чрезмерный', 'adaptive', 'notes', 'затемнение', 'грань', 'довольный', 'круглогодичный', 'слипер', 'завершение', 'удачный', 'wifi', 'маршрут', 'нарушать', 'атлас', 'содержать', 'великобритания', 'displayport', 'детально', 'доверяться', 'коаксиальный', 'богатство', 'сбалансировать', 'серьезный', 'футболка', 'отражение', 'пяточный', 'летний', 'характер', 'полупар', 'член', 'интересный', 'плетеный', 'хватать', 'подушечка', 'барокко', 'впечатляющий', 'упасть', 'грамотно', 'топовый', 'великолепие', 'гораздо', 'высокоточный', 'dd', 'модно', 'основываться', 'персональный', 'контрастировать', 'территория', 'эргономика', 'полотно', 'массовый', 'свежо', 'коктейльный', 'рождество', 'общественный', 'разблокировать', 'украшать', 'бант', 'текущий', 'миллиметр', 'осенний', 'гамма', 'чудо', 'завертывать', 'поролоновый', 'заказ', 'добро', 'деление', 'медный', 'дамский', 'затягивать', 'уважаемый', 'уменьшение', 'бросаться', 'уметь', 'общение', 'ма', 'tra', 'деревянный', 'съемка', 'окошко', 'natural', 'волейбол', 'стыдно', 'технологичный', 'обеспечение', 'миниатюрный', 'внутренний', 'подымать', 'обновляться', 'компонент', 'разряжать', 'эстетик', 'комп', 'комплектующий', 'высыхание', 'искусство', 'школьник', 'федерация', 'pulse', 'пластичный', 'отправлять', 'вынести', 'связь', 'впечатлять', 'совершать', 'посещать', 'подложка', 'скидка', 'крючок', 'pixel', 'исключительно', 'заявлять', 'восстанавливать', 'сучков', 'пляж', 'схожий', 'захватывающий', 'кроткий', 'лоджия', 'владелец', 'туда', 'школьница', 'ритм', 'программный', 'посиделки', 'одевание', 'молодежь', 'ловить', 'развертка', 'каждый', 'гореть', 'сертификат', 'fli', 'тапочек', 'связанный', 'натяжение', 'удовлетворенность', 'сервисный', 'вычислять', 'мыть', 'времяпровождение', 'ориентация', 'напольный', 'самопроизвольный', 'wireless', 'выход', 'котенок', 'гладкий', 'желанный', 'le', 'port', 'минимизировать', 'кликнуть', 'миллисекунда', 'беспроводный', 'февраль', 'таблица', 'vanwin', 'вызывать', 'ity', 'шхвхг', 'полимерный', 'белорусский', 'углубление', 'коктейль', 'тереть', 'windows', 'rt', 'глубина', 'щиколотка', 'слагать', 'влюблять', 'явление', 'весь', 'уменьшать', 'вселенная', 'отклик', 'book', 'цена', 'писать', 'обнаружение', 'привлекать', 'полочка', 'пространственный', 'взыскательный', 'элегантный', 'жилой', 'анимация', 'через', 'гардероб', 'больший', 'вписываться', 'фонарик', 'ios', 'реальность', 'царапаться', 'совет', 'подвешивание', 'попрощаться', 'зал', 'источник', 'продвигать', 'часовой', 'масса', 'древесина', 'играть', 'зависимость', 'скрывать', 'пескоструйный', 'рыбалка', '─', 'благородный', 'слегка', 'мембрана', 'стильный', 'пористый', 'такой', 'удивительно', 'купить', 'заметка', 'sim', 'видеочатый', 'поисковый', 'хоум', 'мешок', 'черта', 'экран', 'зарядный', 'чашечка', 'подготовить', 'туалетный', 'redmi', 'свободный', 'вхшхг', 'очертание', 'яркость', 'ожидать', 'приводить', 'городской', 'запускаться', 'ieee', 'тепло', 'буква', 'читать', 'коэффициент', 'а', 'молодежный', 'стационарный', 'отсутствие', 'тоже', 'аксессуар', 'аудиосистема', 'про', 'ранний', 'трудно', 'студент', 'удалять', 'захватить', 'стереозвук', 'видеоролик', 'хамам', 'сборка', 'винтажный', 'срез', 'прикручивать', 'простой', 'романтичный', 'wit', 'os', 'винт', 'коннектор', 'сконцентрироваться', 'воздухообмен', 'английский', 'подключать', 'полагать', 'курс', 'фигурный', 'холодный', 'всплывать', 'осознавать', 'аудиосигнал', 'менять', 'трубка', 'признак', 'айра', 'толщина', 'вершина', 'труд', 'dmi', 'анатомически', 'диапазон', 'недостаточный', 'романтичность', 'достойный', 'лазурный', 'альпинизм', 'дефект', 'пропорция', 'требование', 'храниться', 'тол', 'идти', 'адаптивный', 'пэ', 'идеально', 'абсолютный', 'вырез', 'беспрецедентный', 'складной', 'обилие', 'инвестиция', 'переносный', 'цепь', 'запоминаться', 'резиновый', 'берет', 'сильный', 'выпускать', 'занимать', 'полоса', 'раствор', 'мокасин', 'обустройство', 'дождь', 'четыре', 'купание', 'нежно', 'мультизадачность', 'сша', 'подобный', 'посадка', 'приспособлять', 'engine', 'белый', 'помещение', 'малый', 'ant', 'неотъемлемый', 'планка', 'зимний', 'электронный', 'миллиметровый', 'х', 'ами', 'значит', 'рассчитать', 'результат', 'всегда', 'сложенный', 'фестиваль', 'жесткий', 'вверх', 'переносить', 'ностальгический', 'кровообращение', 'задействовать', 'автомобиль', 'spa', 'тыловой', 'трещина', 'немецкий', 'qui', 'графит', 'бриллиант', 'waterproof', 'гарантийный', 'мужчина', 'представительница', 'стереоакустика', 'спортивный', 'пять', 'силикон', 'соревнование', 'учет', 'переключаться', 'ложиться', 'dynami', 'form', 'дедушка', 'предусматривать', 'поистине', 'отправление', 'терабайт', 'технологический', 'fly', 'включая', 'любительница', 'netflix', 'одинаково', 'эластичность', 'res', 'производительность', 'einland', 'закрытый', 'цепочка', 'произведение', 'шайба', 'счастливо', 'зеркальный', 'евро', 'приобретаться', 'прямой', 'чуть', 'распределять', 'пользовательский', 'преждевременный', 'входной', 'лицевой', 'изменение', 'neo', 'снег', 'темный', 'сумка', 'ввод', 'ipad', 'закрытие', 'turbo', 'подача', 'бесшовный', 'сложность', 'отец', 'периодически', 'болгария', 'tüv', 'rio', 'четкий', 'мелкий', 'счастие', 'немой', 'xl', 'путешествие', 'радовать', 'регулируемый', 'задействоваться', 'подвес', 'отдыхать', 'нежность', 'столь', 'еда', 'au', 'строгость', 'надевание', 'удаление', 'садик', 'средний', 'сосредотачиваться', 'glass', 'порода', 'будущий', 'уровень', 'физкультура', 'аудиозапись', 'упражнение', 'surround', 'оживленный', 'модуль', 'оперативный', 'школьный', 'часто', 'подписываться', 'видение', 'pus', 'набивной', 'мать', 'ompass', 'поездка', 'аккуратный', 'стараться', 'вроде', 'бук', 'полет', 'va', 'стальной', 'изумрудный', 'дополнительно', ']\\n', 'ift', 'круговой', 'характеристика', 'bk', 'отличаться', 'уверенно', 'steel', 'kview', 'паспорт', 'дневной', 'sp', 'никакой', 'требоваться', 'сюрприз', 'крепиться', 'хлопок', 'изготовитель', 'видеозапись', 'balan', 'ширина', 'гоночный', 'настоящий', 'подводить', 'болт', 'погружение', 'число', 'mt', 'снижать', 'ждать', 'строка', 'yk', 'откидной', 'аpro', 'тег', 'ошибка', 'серо', 'загрязняться', 'объемность', 'лампа', 'андроид', 'дизайнерский', 'узнавать', 'актуально', 'полностью', 'сушка', 'груз', 'спроектировать', 'поступление', 'план', 'долг', 'себя', 'синтетика', 'rosd', 'энергосбережение', 'нельзя', 'pur', 'туризм', 'темнота', 'тренироваться', 'разрешение', 'увидеть', 'игра', 'голос', 'покупательница', 'приближение', 'престижный', 'ts', 'большинство', 'ard', 'подчеркивать', 'тандем', 'ite', 'устранение', 'переноситься', 'позволять', 'объем', 'кемпинг', 'воздухопроницаемый', 'ir', 'рюкзак', 'ум', 'вес', 'угол', 'повсюду', 'творческий', 'посыл', 'давать', 'горошек', 'метр', 'emm', 'чувство', 'открывание', 'навык', 'пролагать', 'вертикально', 'оценивать', 'местность', 'лак', 'передаваться', 'окно', 'собирать', 'кофейня', 'серийный', 'понимание', 'свойство', 'вентилироваться', 'штрих', 'состоять', 'речь', 'да', 'замок', 'печать', 'погружать', 'тогда', 'увлечение', 'многое', 'motion', 'давление', 'бренд', 'кейс', 'фактура', 'каркасный', 'граница', 'ожидание', 'нарядный', 'бедро', 'выдерживать', 'оба', 'game', 'arging', '|\\n', 'foam', 'асфальт', 'далее', 'родитель', 'полоз', 'горизонтальный', 'ti', 'преимущество', 'заглядывать', 'plus', 'гофрокартон', 'случаться', 'край', 'полиуретан', 'нео', 'дюйм', 'первый', 'любовь', 'др', 'калибровка', 'жена', 'кроссовок', 'нагружать', 'просматривать', 'сопровождаться', 'спинка', 'for', 'выключать', 'фантастически', 'барный', 'го', 'сохранение', 'пища', 'технологичность', 'sony', 'стекло', 'поделиться', 'декоратор', 'волшебный', 'команда', 'картон', 'дискотека', 'zigbee', 'сопряжение', 'крайне', 'термополиуретан', 'волос', 'монитор', 'ход', 'спустя', 'один', 'динамический', 'невеста', 'flow', 'предустановить', 'сменка', 'чиститься', 'поиск', 'несанкционированный', 'добротный', 'можно', 'подсветка', 'бархат', 'дверь', 'сохраняться', 'ell', 'десяток', 'смартфон', 'mv', 'чаша', 'описание', 'бесперебойный', 'отделка', 'подпятник', 'earts', 'инженерный', 'делиться', 'эксплуатация', 'laboratories', 'останавливаться', 'прослужить', 'brig', 'сниматься', 'комплектоваться', 'балансировать', 'мечта', 'проигрывание', 'fourant', 'вернуть', 'системный', 'конфигурация', '★', 'минималистичный', 'потому', 'преподаватель', 'застежка', 'утонченный', 'борт', 'положение', 'опциональный', 'папа', 'зала', 'люверс', 'капелька', 'чипсет', 'готовность', 'не', 'поддержка', 'монохромный', 'нет', 'гбайт', 'aa', 'прорезиненный', 'зеленый', 'драгоценный', 'капучино', 'заключать', 'oukitel', 'leat', 'капля', 'находиться', 'набор', 'задержка', 'прошивка', 'основание', 'прилегать', 'политика', 'чувствоваться', 'инфракрасный', 'бадминтон', 'пленка', 'акция', 'палец', 'блестящий', 'развиваться', 'выкла', 'повторять', 'кадр', 'lite', 'студенческий', 'дом', 'страз', 'масштаб', 'демисезон', 'грубый', 'аппаратный', 'пальто', 'незабываемый', 'незначительно', 'fit', 'частица', 'продолжаться', 'отрегулировать', 'устанавливаться', 'запускать', 'интерес', 'столовая', 'возле', 'труба', 'полировать', 'намного', 'магнитный', 'правый', 'связываться', 'прием', 'te', 'аудитория', 'бонус', 'резьба', 'слуховой', 'шуруп', 'вода', 'процессор', 'повербанк', 'раскладной', 'приобретение', 'показывать', 'распродажа', 'хранение', 'устраивать', 'консоли', 'преобразовывать', 'малиновый', 'качество', 'сабвуфер', 'xх', 'обтягивать', 'картинка', 'индонезия', 'покрываться', 'пружинить', 'подстраивать', '№', 'функционал', 'приподымать', 'невозможно', 'широко', 'биометрический', 'сшивать', 'продажа', 'см', 'design', 'тянуться', 'прошлое', 'реализовать', 'прогулочный', 'индикатор', '!!!', 'эксклюзивный', 'микросхема', 'меньший', 'слабый', 'светло', 'стирание', 'интерьерный', 'извлекатель', 'любить', 'каблук', 'липнуть', 'совещание', 'логистика', 'наступать', 'далекий', 'родительский', 'изогнутый', 'камера', 'пользование', 'карточка', 'датчик', 'столешница', 'синхронно', 'корректировать', 'касаться', 'примерка', 'спортсмен', 'доступ', 'снятие', 'breat', 'столовый', 'долговечный', 'вязаный', 'рекомендация', 'рассеивать', 'поцарапать', 'мгновенно', 'прийти', 'авторский', 'сопровождать', 'повесить', 'торец', 'предмет', 'светлый', 'распознавание', 'отрыв', 'пикник', 'профи', 'содержание', 'китайский', 'отпадать', 'аутфит', 'передовой', 'геометрический', 'av', 'уместный', 'уборка', 'подруга', 'двухкомпонентный', 'продолжительный', 'износостойкий', 'данные', '±', 'озон', 'внезапный', 'рамка', 'тест', 'соответствовать', 'гармонично', 'выпадение', 'сертифицировать', 'вентиляция', 'компания', 'исполнитель', 'придумывать', 'многослойный', 'качественно', 'стиральный', 'резина', 'восприятие', 'древесный', 'сохранять', 'family', 'орган', 'существенно', 'конфиденциальность', 'забота', 'ярко', 'спектр', 'фронтальный', 'смягчать', 'луч', 'беспроблемный', 'острый', 'ааа', 'safe', 'ведущий', 'сеть', 'общий', 'шхвхт', 'гордиться', 'художественный', 'навсегда', 'lte', 'вечерний', 'дождливый', 'приступать', 'вот', 'spe', 'pd', 'снимок', 'интеллектуальный', 'эквалайзер', 'стиль', 'брелок', 'интересовать', 'тактовый', 'go', 'pierre', 'пятно', 'et', 'метод', 'кулиска', 'завышать', 'оптический', 'норма', 'mali', 'балетка', 'автофокусировка', 'щелкнуть', 'нерегулируемый', 'мороз', 'перезарядка', 'ket', 'чпу', 'гб', 'buds', 'дресс', 'at', 'детализировать', 'сетка', 'становиться', 'охват', 'предпродажный', 'вставлять', 'каждодневный', 'разнообразный', 'si', 'соединять', 'перед', 'утепление', 'предлагаться', 'бок', 'сзади', 'экосистема', 'гигроскопичность', 'пример', 'палантин', 'круг', 'течь', 'провод', 'бамбуковый', 'напролет', 'черный', 'видеоигр', 'обширный', 'otton', 'необходимость', 'нейросеть', 'арт', 'округлый', 'прогрессивный', 'серебристый', 'глаз', 'разноцветный', 'портфель', 'толстый', 'очередь', 'bar', 'подключаться', 'обмениваться', 'предназначать', 'проводной', 'ips', 'набирать', 'фабричный', 'смена', 'сезон', 'баден', 'юбка', 'об', 'это', 'l', 'предыдущий', 'невероятно', 'гбит', 'многофункциональность', 'отличительный', 'модный', 'лес', 'который', 'громоздкий', 'столик', 'автономность', 'ядро', 'название', 'рисовать', 'красный', 'гц', 'loud', 'ггц', 'попадать', 'водостойкий', 'подавление', 'обладательница', 'универсальный', 'ota', 'штука', 'компенсировать', 'store', 'латунь', 'ясность', 'подвергаться', 'ясный', 'фруктовый', 'edition', 'подарок', 'потеря', 'избранный', 'будильник', 'ниже', 'сегодняшний', 'dex', 'гипоаллергенный', 'регион', 'покупать', 'эстетичный', 'цель', 'navy', 'неоклассический', 'работник', 'ipx', 'стандарт', 'мощный', 'мгновенный', 'отопительный', 'согласно', 'сверхпрочный', 'мяться', 'единственный', 'любитель', 'учитель', 'зайти', 'альбом', 'ос', 'книзу', 'влагостойкий', 'avi', 'рисковать', 'ладонь', 'звучать', 'апертура', 'выгодно', 'бассейн', 'шорты', 'orange', 'участие', 'классик', 'видеосвязь', 'рассказывать', 'me', 'закрывание', 'наконечник', 'даже', 'ad', 'период', 'массивный', 'old', 'срок', 'подклад', 'установленный', 'оптимизация', 'дхшхв', 'домашний', 'фактор', 'отличать', 'индустриальный', 'фильтровать', 'сканди', 'неприятность', 'бюджетный', 'кокетливый', 'прогресс', 'безупречно', 'энергичный', 'отпариватель', 'обертывание', 'натуральный', 'дерево', 'около', 'версия', 'nd', 'естественность', 'планшетный', 'круглый', 'носитель', 'утолщать', 'использование', 'маленький', 'задний', 'блендер', 'оно', 'база', 'коммерческий', 'царапание', 'устойчивый', 'завязка', 'оценка', 'ретро', 'фаворит', 'культурный', 'превосходить', 'необходимый', 'подросток', 'почему', 'серия', 'линза', 'шкаф', 'удерживать', 'ros', 'ontrol', 'класть', 'японский', 'многогранный', 'экранный', 'следующий', 'график', 'множество', 'крутой', 'цветной', 'начинать', 'easy', 'активация', 'сверять', 'дизайн', 'немного', 'гэтсби', 'детальность', 'загружать', 'функциональность', 'plode', 'органичный', 'помимо', 'з', 'подробность', 'доставать', 'аккумулятор', 'ландшафт', 'влагозащитный', 'выключение', 'воплощаться', 'красота', 'двухцветный', 'плавный', 'мешать', 'готовый', 'машина', 'устранять', 'чашка', 'северный', 'asus', 'украшение', 'заиграть', 'pop', 'показываться', 'звучание', 'но', 'многообразие', 'ролик', 'крем', 'ings', 'twin', 'жесткость', 'утонченность', 'газлифт', 'зачастую', 'популярный', 'основа', 'мультицвет', 'pantone', 'хлопоты', 'некоторый', 'конструкция', 'носить', 'поломка', 'взглядывать', 'бар', 'м²', 'фабрика', 'внешность', 'верный', 'романтик', 'барометр', 'dire', 'fps', 'фирменный', 'вальгусный', 'премиальный', 'знание', 'безопасный', 'измеряться', 'спешить', 'задник', 'ss', 'селфи', 'гость', 'однослойный', 'аудиоразъем', 'высокочастотный', 'воспроизводимый', 'пошаговый', 'purple', 'персиковый', 'попробовать', 'стильность', 'экозамша', 'эргономичность', 'стопа', 'fusion', 'декоративный', 'комнатный', 'двое', 'включение', 'техпроцесс', 'идеальный', 'мягкий', 'п', 'npu', 'реализованный', 'окрашивать', 'тело', 'шестигранный', 'p', 'мрамор', 'товарный', 'автоматический', 'ea', 'наконец', 'мой', 'ikea', 'nb', 'виртуальный', 'прозрачность', 'бархатный', 'профессиональный', 'наносить', 'сырье', 'руль', 'сеточка', 'три', 'черт', 'оранжевый', 'потребность', 'адрес', 'достигаться', 'моющий', 'утяжка', 'надежно', 'метро', 'окружающее', 'фон', 'упаковочный', 'ажурный', 'глянец', 'бильярд', 'плотный', 'мода', 'подвеска', 'в', 'просьба', 'open', 'зона', 'сегодня', 'rts', 'so', 'проходить', 'флешка', 'капроновый', 'казахстан', 'ассортимент', 'минимальный', 'подставка', 'классный', 'фактурный', 'потоковый', 'характеризовать', 'оптимальный', 'прибор', 'fi', 'разумный', 'телевизионный', 'смачивать', 'пока', 'karm', 'пятка', 'sports', 'шторка', 'ты', 'gaming', 'назад', 'светодиодный', 'повторный', 'tft', 'избегать', 'dark', 'шестигранник', 'наклеивать', 'косметика', 'ms', 'авангардный', 'снова', 'однако', 'обод', 'отдел', 'видный', 'дополнять', 'суп', 'включать', 'пожалуй', 'какой', 'девайса', 'шоколадный', 'стелька', 'любимый', 'факт', 'blue', 'тенденция', 'неспешный', 'andy', 'очередной', 'однажды', 'полиуретановый', 'bg', 'неровный', 'шопинг', 'опора', 'дракон', 'тканевый', 'air', 'реакция', 'фоновый', 'градиент', 'подкаста', 'forest', 'супер', 'сиреневый', 'никак', 'видеопроцессор', 'облегание', 'предполагать', 'flas', 'заглушка', 'изгиб', 'передвижение', 'текстильный', 'display', 'сверхчеткий', 'беспроводной', 'крепко', 'гнездо', 'uzzi', 'конечно', 'место', 'девочка', 'карандаш', 'поставка', 'головной', 'сдержанный', 'радиостанция', 'gt', 'редкий', 'эмоция', 'вызов', 'ракурс', 'теперь', 'выражение', 'дух', 'техника', 'сплав', 'учитывать', 'модница', 'менее', 'недорогой', 'яблочный', 'бегать', 'видеоконференция', 'многозадачность', 's', 'сценарий', 'сарафан', 'вечеринка', 'глонасс', 'выпускной', 'сила', 'шт', 'космос', 'комбинировать', 'defender', 'samsung', 'otg', 'слово', 'предоставляться', 'иней', 'фотосессия', 'отваливаться', 'nova', 'сполна', 'брюки', 'короб', 'без', 'комфортный', 'предохранять', 'прочий', 'учеба', 'сочетаться', 'free', 'попытка', 'туристический', 'называть', 'фуксия', 'над', 'ясень', 'наглядный', 'риск', 'спилок', 'золото', 'подошва', 'хорошо', 'открываться', 'w', 'разнообразие', 'lp', 'пробуждать', 'переливаться', 'переключение', 'стройный', 'запасной', 'выполняться', 'проблема', 'наклейка', 'заботиться', 'выдвигаться', 'ремень', 'пудровый', 'зритель', 'качественный', 'зарядник', 'чтобы', 'порошковый', 'укорачивать', 'mode', 'впечатление', 'дсп', 'отверстие', 'прострочка', 'al', 'lpddr', '[', '●', 'полупрозрачный', 'стеснять', 'идея', 'волокно', 'трапециевидный', 'практичность', 'трикотаж', 'увеличиваться', 'словно', 'россия', 'свайп', 'левый', 'икеа', 'стойка', 'дачный', 'обновление', 'сторонний', 'тренд', 'функция', 'беречь', 'серфинг', 'пвх', 'наклон', 'пастельный', 'антибликов', 'близко', 'лыжа', 'износоустойчивый', 'натуральность', 'аналог', 'ровно', 'кашемир', 'точность', 'шея', 'вы', 'окантовка', 'долговечность', 'прекрасно', 'long', 'интуитивный', 'час', 'двухъядерный', 'усмотрение', 'диван', 'slow', 'символ', 'переключатель', 'верхом', 'лента', 'видно', 'современность', 'удовольствие', 'поздно', 'пересеченный', 'мир', '\\\\\\n', 'паутина', 'тв', 'детализация', 'am', 'обед', 'отзывчивый', 'насыщенный', 'тип', 'являться', 'освежать', 'гостиница', 'изображение', 'спереди', 'аллергический', 'корея', 'стяжка', 'наполнитель', 'ия', 'skin', 'лофт', 'повреждаться', 'тыльный', 'распространять', 'ощупь', 'акцент', 'текстовый', 'orion', 'иметь', 'габаритный', 'увлекательный', 'нужно', 'прикреплять', 'муар', 'дерзкий', 'средство', 'mr', 'талантливый', 'gsm', 'второй', 'уверять', 'описывать', 'новогодний', 'мпикс', 'деталь', 'адаптировать', 'edge', 'доставляться', 'укреплять', 'дома', 'далеко', 'частый', 'подбор', 'пошив', 'непривычный', 'приложение', 'vr', 'ft', 'отправляться', 'сказать', 'ржаветь', 'четверной', 'скрываться', 'иметься', 'заломов', 'эффективно', 'производитель', 'плавно', 'ключевой', 'rb', 'настоятельно', 'пластина', 'клавиатура', 'сорт', 'случай', 'брызги', 'чернить', 'вкладыш', 'избавляться', 'ma', 'мероприятие', 'ознакомляться', 'портрет', 'коллега', 'молния', 'вперед', 'удовлетворение', 'ddr', 'литой', 'сборный', 'акцентный', 'galileo', 'etime', 'соответствие', 'контур', 'занятый', 'актуальный', 'ш', 'потом', 'маникюр', 'накопитель', 'звезда', 'кросс', 'всемирно', 'важно', 'совпадать', 'ст', 'ваттный', 'восемь', 'уместно', 'нарекание', 'баня', 'образец', 'fe', 'допускаться', 'ion', 'подсоединяться', 'запоминание', 'мнение', 'mfsmebel', 'панель', 'предотвращение', 'вращаться', 'третий', 'адаптироваться', 'abr', 'захватывать', 'каучук', 'бегом', 'утренний', 'to', 'пассивный', '_\\n', 'энергоэффективность', 'хромированный', 'окружать', 'f', 'неровность', 'авторизация', 'отмечать', 'сверхбольшой', 'привлекательно', 'палатка', 'колорит', 'перемещение', 'ради', 'midnig', 'универсальность', 'длительный', 'tr', 'экологичность', 'уменьшаться', 'сигнал', 'пусть', 'поколение', 'достоинство', 'повреждение', 'добиваться', 'нивелировать', 'поставлять', 'инструмент', 'спокойно', 'by', 'стилист', 'rubber', 'жить', 'замша', 'ringer', 'сотрудник', 'брендовый', 'резинка', 'питание', 'armor', 'улучшаться', 'er', 'беларусь', 'x', 'меняться', 'царапина', 'продолжать', 'свое', 'почти', 'захотеться', 'мощность', 'шикарный', 'дистанция', 'ig', 'эпл', 'мебель', 'уступать', 'потеряться', 'отчетливо', 'смарт', 'поставляться', 'astor', 'десятилетие', 'земля', 'voi', 'различие', 'гарантироваться', 'воображение', 'непосредственно', 'пиджак', 'обувь', 'производиться', 'rosdx', 'привлекательный', 'традиция', 'осень', 'оборудовать', 'постоянно', 'ударопрочность', 'пользоваться', 'пора', 'нейлоновый', 'ara', 'праздничный', 'трикотажный', 'заранее', 'школа', 'палитра', 'проверка', 'свежесть', 'бы', 'изготовление', 'm', 'образный', 'хватить', 'вертикаль', 'старший', 'послепродажный', 'шагать', 'юноша', 'продолжительность', 'друг', 'монтаж', 'пригождаться', 'каталог', 'весить', 'вспенивать', 'взять', 'полиэстер', 'балкон', 'электрический', 'яндекс', 'сразу', 'шаг', 'удобный', 'одиночный', 'убеждаться', 'интенсивность', 'распределение', 'италия', 'рама', 'остальной', 'программа', 'пластмасса', 'лицо', 'сотрудничать', 'компьютерный', 'твикс', 'дополняться', 'исследовать', 'природный', 'оппонент', 'уголок', 'красиво', 'освещенность', 'формировать', 'настоящее', 'мембранный', 'запах', 'опция', 'обои', 'практический', 'кожзам', 'одноразовый', 'так', 'женщина', 'иллюстрация', 'атласный', 'outdoor', 'высококлассный', 'непрозрачный', 'ссылка', 'nano', 'высококачественный', 'приоритет', 'видео', 'вред', 'передвигать', 'рождение', 'аквариум', 'количество', 'зависать', 'симметрично', 'растягиваться', 'отрасль', 'b', 'ozon', 'link', 'бесподобный', 'варьироваться', 'должно', 'накладной', 'много', 'tulip', 'номер', 'ножка', 'вешалка', 'g', 'поверх', 'квадрат', 'экологичный', 'акриловый', 'ep', 'принт', 'пеший', 'подъемный', 'предварительно', 'буря', 'swit', 'абсолютно', 'функциональный', 'arm', 'кинематографический', 'переменный', 'вектор', 'прибавлять', 'видеоконтент', 'пульт', 'атрибут', 'лист', 'боевой', 'gray', 'различимый', 'пурпурный', 'конференц', 'регулярный', 'учреждение', 'gorilla', 'кнопочный', 'весть', 'зарядка', 'лоток', 'наличие', 'оформление', 'синхронизировать', 'алюминий', 'благо', 'изумительный', 'поступать', 'испания', 'внутрь', 'простор', 'вдоль', 'скоростной', 'уф', 'new', 'red', 'smartt', 'прерывание', 'способность', 'чили', 'потребитель', 'независимо', 'mtr', 'основное', 'сайт', 'ускоритель', 'товар', 'плотность', 'чувствительный', 'pro', 'стирать', 'причина', 'усилие', 'каблучок', 'betula', 'никель', 'аудиоконтент', 'вероятность', 'сфера', 'антискользить', 'операционный', 'входить', 'стройнит', 'утонченно', 'tendan', 'нотка', 'р', 'радость', 'улыбка', 'официант', 'мама', 'бытовой', 'насадка', 'apple', 'интенсивный', 'изготавливать', 'спасибо', 'сустав', 'аудио', 'потайной', 'ed', 'нейлон', 'необходимо', 'фотосъемка', 'черно', 'прекрасный', 'область', 'on', 'настолько', 'честный', 'бережно', 'обусловливать', 'незаменимый', 'компромисс', 'орех', 'мамочка', 'позаботиться', 'половинка', 'обвод', 'кликать', 'из', 'тактильный', 'термопластичный', 'шесть', 'тщательный', 'отдельный', 'составлять', 'кондиционер', 'сверхтонкий', 'точно', 'контроллер', 'плюс', 'ardin', 'el', 'футляр', 'уличный', 'ремешок', 'восхищенный', 'итальянский', 'среда', 'охватывать', 'lub', 'нижний', 'запас', 'бесконтактный', 'геймер', 'определяться', 'мыльный', 'нота', 'tb', 'стеклянный', 'текстурный', 'излучать', 'всесезонный', 'пожалуйста', 'киностудия', 'эргономичный', 'личный', 'нормальный', 'предотвращать', 'сотовый', 'оплата', 'ми', 'упорядочивать', 'эстетически', 'кед', 'турецкий', 'плавание', 'бал', 'сон', 'aptx', 'раскрываться', 'откладывать', 'носочный', 'сенсор', 'использоваться', 'извлечение', 'закручивать', 'flv', 'безусловно', 'красивый', 'запаять', 'сандалия', 'исключение', 'ax', 'предложение', 'понимать', 'инновационный', 'сплошной', 'сводить', 'некий', 'передавать', 'советовать', 'публикация', 'пространство', 'обволакивать', 'радио', 'акустика', 'облегчать', '~\\n', 'заполнять', 'rosoft', 'служба', '🔍', 'битный', 'обрабатывать', 'удваивать', 'дресскод', 'вещь', 'складываться', 'добавлять', 'one', 'переговоры', 'ходьба', 'технология', 'дистанционно', 'гибрид', 'слушатель', 'полиэфирный', 'поясок', 'света', 'носиться', 'сверху', 'дарить', 'наряду', 'magsafe', 'богатый', 'ортопедический', 'пропуск', 'плохой', 'скользкий', 'охота', 'раскладка', 'безупречный', 'полнота', 'некорректный', 'взаимодействие', 'следовать', 'фиксатор', 'подключение', 'архив', 'лайк', 'tou', 'металл', 'мировой', 'бохо', 'центр', 'зауживать', 'случайный', 'покрасить', 'пустой', 'ka', 'бронзовый', 'традиционный', 'упор', 'длина', 'облик', 'гольф', 'крепление', 'комод', 'пиковый', 'сетевой', 'теннис', 'закрываться', 'fast', 'y', 'трендовый', 'кварц', 'утолщенный', 'середина', 'холод', 'то', 'классика', 'прочный', 'многочисленный', 'допустимый', 'процент', 'восьмиядерный', 'плоскость', 'карабин', 'знакомый', 'прямо', 'последствие', 'долгий', 'широкоугольный', 'ученик', 'жать', 'динамика', 'сидеть', 'чисто', 'два', 'ker', 'антискользящий', 'печатать', 'амортизационный', 'расцветка', 'вьетнам', 'lear', 'мастерская', 'концертный', 'силиконовый', 'разный', 'легкое', 'мя', 'практичный', 'трехуровневый', 'макрообъектив', 'брать', 'я', 'шкант', 'официальный', 'сечь', 'вносить', 'природа', 'гр', 'проработка', 'сложно', 'прочность', 'звук', 'ничего', 'энергосберегающий', 'развивать', 'сведение', 'кафе', 'реагировать', 'сухой', 'приспособление', 'складка', 'первоклассный', 'цельсий', 'плитка', 'мегапиксельный', 'год', 'после', 'раздражение', 'комфортно', 'проникновение', 'шпон', 'обращение', 'задумка', 'экологический', 'дуб', 'особый', 'обнаруживать', 'весенний', 'нужда', 'кофейный', 'влага', 'взрыв', 'влажность', 'автофокус', 'бит', 'покой', 'шерсть', 'гибридный', 'бн', 'вытирать', 'разрыв', 'статус', 'xxl', 'мач', 'линия', 'продавать', 'edr', 'след', 'урок', 'многоуровневый', 'мыться', 'обязательно', 'придтись', 'разъем', 'первозданный', 'душа', 'сконструировать', 'pin', 'пена', 'обращать', 'держатель', 'надолго', 'вкус', 'заклепка', 'ambient', 'соединение', 'сервис', 'конкретный', 'тяжесть', 'мышь', 'tiger', 'штаны', 'движок', 'походный', 'совершенно', 'стриминг', 'также', 'планировать', 'ом', 'характерный', 'упругость', 'замечательно', 'пакетик', 'крепежный', 'типичный', 'испытание', 'кольцо', 'графитовый', 'and', 'овал', 'лавандовый', 'всего', 'дыхание', 'подвижный', 'тэп', 'относительно', 'kirin', 'ru', 'крапинка', 'пылесос', 'мотор', '🚀', 'memory', 'четырехъядерный', 'минимум', 'j', 'салон', '@', 'регулировать', 'код', 'фигура', 'массажный', 'проводить', 'авто', 'перемычка', 'меланж', 'eu', 'блокировать', 'компактный', 'offi', 'обивать', 'складывать', 'список', 'собеседник', 'pre', 'продуманный', 'фасон', 'цветопередача', 'соперник', 'шов', 'песочный', 'многий', 'б', 'следить', 'защитный', 'full', 'н', 'европейский', 'комбинированный', 'трехмерный', 'фиксация', 'геометрия', 'потливость', 'чип', 'фокусировка', 'затягиваться', 'очки', 'мы', 'отталкивать', 'должное', 'мебельный', 'жанр', 'понижать', 'новинка', 'получаться', 'ударопрочный', 'указанный', 'раскладываться', 'ресурс', 'mini', 'бизнес', 'потрясающе', 'свитер', 'носок', '🌟', 'справляться', 'кисточка', 'вертикальный', 'дышать', 'вывод', 'среднее', 'перемещать', 'электроэнергия', 'творить', 'изначальный', 'делаться', 'ребенок', 'самостоятельный', 'режим', 'тренировка', 'хороший', 'устанавливать', 'поло', 'стереодинамика', 'посмотреть', 'помощник', 'dsw', 'вручную', 'садиться', 'флагманский', 'pv', 'ads', 'стилизовать', 'неполадка', 'уберегать', 'зу', 'кавказский', 'молниеносный', 'ield', 'основывать', 'разработка', 'желтый', 'молочный', 'амортизировать', 'невысокий', 'интегрироваться', 'кошелек', 'powervr', 'вход', 'sb', 'мягкость', 'сочетание', 'бояться', 'любой', 'глянцевый', 'хотеть', 'быть', 'швеция', 'корпус', 'grey', 'обрабатываться', 'уникально', 'смесь', 'предшественник', 'дно', 'девушка', 'т', 'браслет', 'view', 'фактический', 'электроника', 'сделать', 'отрываться', 'заметно', 'кронштейн', 'шагомер', 'устройство', 'соотношение', 'дорогой', 'rn', 'водитель', 'повертываться', 'хх', 'прикосновение', 'работать', 'вспоминать', 'модерн', 'контент', 'ощутимый', 'вариация', 'пригодный', 'разновидность', '📌', 'свой', 'мс', 'uawei', 'режиссер', 'запутываться', 'тюльпан', 'фантазия', 'многие', 'звуковой', 'замшевый', 'перевод', 'дальний', 'значение', 'класс', 'орбита', 'мм', 'прогнозировать', 'элегантность', 'парень', 'sr', 'антенна', 'необычайный', 'запуск', 'исследование', 'пауза', '✅', '】', 'низкий', 'вынимать', 'орнамент', 'младенец', 'предустановленный', 'непромокаемый', 'вытягивать', 'подзарядка', 'ярус', 'прижиматься', 'ousti', 'гостинный', 'коррекция', 'металлик', 'стерео', 'социальный', 'верхний', 'специальный', 'обратно', 'коммуникационный', 'параметр', 'взгляд', 'предупреждать', 'повышение', 'изящно', 'особенный', 'quattro', '·\\n', 'отрывать', 'для', 'строение', 'широкий', 'пожаловать', 'знаменитый', 'непременно', 'beige', 'вокруг', 'кликабельный', 'стоимость', 'исходный', 'световой', 'паз', 'спасать', 'часы', 'логотип', 'залог', 'скрепка', 'эстетично', 'послегарантийный', 'мало', 'настройка', 'склон', 'манипуляция', 'тюнер', 'разборный', 'ламинировать', 'платье', 'визуализация', 'зависеть', 'она', 'уникальный', 'сестра', 'кабинет', 'нескользящий', 'обработка', 'элегантно', 'запрещаться', 'ткань', 'dete', 'пункт', 'sub', 'mw', 'велосипед', 'шоколад', 'скольжение', 'джинсы', 'правильно', 'выпуск', 'южный', 'склад', 'держаться', 'зеркало', 'эмаль', 'вытаскивать', 'сосна', 'тренажерный', 'дружеский', 'пропускной', 'tning', 'песня', 'передовая', 'выскальзывать', 'упаковочная', 'irda', 'корпусной', 'более', 'tion', 'мягко', 'одинаковый', 'голосовой', 'деликатный', 'уход', 'rome', 'прохлада', 'золотистый', 'пк', 'ночной', 'оповещение', 'наделять', 'рынок', 'беременность', 'карта', 'время', 'толпа', 'фотография', 'петля', 'деформация', 'mix', 'миллион', 'салфетка', 'сбой', 'липучка', 'полнофункциональный', 'неотразимый', 'соблюдать', 'акцентировать', 'узор', 'прокрутка', 'гулять', 'подвесной', 'ч', 'двигаться', 'ase', 'если', 'акрил', 'формирование', 'придерживаться', 'обивка', 'многократно', 'переутомление', 'изнутри', 'затем', 'конструктивный', 'крупный', 'eames', 'воздушный', 'переработка', 'проигрывать', 'only', 'запасный', 'защита', 'танкетка', 'поскольку', 'flip', 'конец', 'нежный', 'заставлять', 'достижение', 'сказываться', 'теплоизоляция', 'млрд', 'крепкий', 'сковывать', 'больше', 'покрывать', 'баланс', 'потратить', 'se', 'библиотека', 'подружиться', 'овальный', 'нагрев', 'процедура', 'магазин', 'it', 'микрофибры', 'помогать', 'ограничивать', 'столкновение', 'перегиб', 'подниматься', 'пояс', 'белье', 'очистка', 'дистанционный', 'tf', 'символизировать', 'беспокоиться', 'поэтому', 'as', 'реализовывать', 'страница', 'ip', 'жаркое', 'pi', 'песок', 'обтекаемый', 'стереосистема', 'под', 'твой', 'нога', 'оригинальный', 'присоединяться', 'прочно', 'брак', 'встроенный', 'энергоемкий', 'определение', 'лидер', 'клиент', 'портиться', 'тракторный', 'кино', 'кстати', 'начало', 'вышивка', 'крошка', 'расширение', 'bds', 'диск', 'ø', 'подкладка', 'эластомер', 'концерт', 'op', 'глянцев', 'sm', 'стабильно', 'достаточный', 'корзина', 'стремительный', 'обеспечиваться', 'обновлять', 'ess', 'note', 'наслаждаться', 'выходить', 'поле', 'делать', 'протяжение', 'фитнес', 'стандартный', 'надевать', 'кинолента', 'ультралегкий', 'блок', 'гостиничный', 'розовый', 'ансамбль', 'sd', 'ущерб', 'касание', 'руководство', 'обычный', 'интерактивный', 'лето', 'уютно', 'трехкратный', 'удивлять', 'зрение', 'digital', 'разблокировка', 'начинаться', 'mont', 'икея', 'сяомить', 'категория', 'отбирать', 'ультра', 'сушить', 'позвоночник', 'кожзаменитель', 'ralf', 'футуристический', 'неощутимый', 'располагать', 'малыш', 'несколько', 'загрязнение', 'постирать', 'сокращать', 'петелька', 'раздвигать', 'имя', 'rosby', 'настольный', 'громкий', 'окутывать', 'иногда', 'ребристый', 'необычайно', 'прыжок', 'начальный', 'квадратный', 'новый', 'lenovo', 'bit', 'изделие', 'глубоко', 'беседка', 'танец', 'многозадачный', 'мобильный', 'подушка', 'отображаться', 'утомлять', 'боль', 'геомагнитный', 'тянуть', 'стирка', 'переноска', 'подгонка', 'onor', 'успевать', 'intel', 'нержавеющий', 'максимизировать', '>\\n', 'рекомендоваться', 'штифт', 'фишка', 'крышка', 'перекладина', 'потребление', 'db', 'тряпочка', 'бурый', 'подлокотник', '“', 'встраивать', 'железо', 'двухслойный', 'нажимать', 'вопрос', 'утеплять', 'заключение', 'влагозащита', 'муж', 'терять', 'лазерный', 'очищаться', 'магнит', 'лишь', 'сок', 'навигация', 'концепция', 'большой', 'обычно', 'пу', 'выносной', 'независимый', 'комната', 'стереозвучание', 'отводить', 'женственность', '×', 'проветривать', 'bioni', 'стильно', 'целостность', 'привлекательность', 'доверие', 'русский', 'уставать', 'проведение', 'приставка', 'system', 'контролировать', 'фантастика', 'билет', 'обо', 'зарегистрировать', 'будни', 'разделяться', 'учиться', 'снежный', 'ценовой', 'суть', 'fb', 'стилус', 'животное', 'милый', 'выгорать', 'ipk', 'высокий', 'книжка', 'режиссерский', 'сертифицированный', 'влюбленный', 'необычный', 'вернуться', 'are', 'прочувствовать', 'мат', 'перегрев', 'tab', 'пар', 'помнить', 'ps', 'накапливать', 'компактность', 'приспосабливаться', 'art', 'тактический', 'профессия', 'ear', 'пришивать', 'возрастной', 'немаловажный', 'тимер', 'ar', 'деко', 'исключая', 'выживание', 'пеноматериал', 'композитный', 'измерение', 'миллиард', 'впитывать', 'желательно', 'волноваться', 'мужской', 'сваривать', 'нано', 'высокопрочный', 'порядок', 'файл', 'bbk', 'имидж', 'бт', 'папка', 'prime', 'завораживать', 'надо', 'пропускать', 'грунт', 'соблюдение', 'возраст', 'площадка', 'исключительный', 'нейронный', 'направлять', 'прошлый', 'никто', 'отстирываться', 'альтернатива', 'действие', 'дорожка', 'ступня', 'настроение', 'ядерный', 'снизу', 'победа', 'прослушивание', 'карман', 'управляться', 'bt', 'научаться', 'полноэкранный', 'лдсп', 'сердце', 'мп', 'похвастаться', 'эргономический', 'уютный', 'благодаря', 'расположенный', 'заряжать', 'дешевый', 'несмотря', 'дочь', 'подход', 'фотоснимок', 'сердечко', 'ilips', 'возможность', 'omm', 'ти', 'оператор', 'поворот', 'удлиненный', 'полость', 'пронация', 'digma', 'люксовый', 'одновременно', 'луна', 'формат', 'заканчиваться', 'актер', 'частота', 'wav', 'узбекистан', 'загрузка', 'продлевать', 'miui', 'кроме', 'кваттрокомфорто', 'отход', '【', 'иной', 'схема', 'внимательно', 'прокладывать', 'успех', 'невероятный', 'продуктивность', 'веселый', 'шлепанец', 'stand', 'зрительно', 'настраивать', 'энергия', 'высоко', 'написание', 'перламутровый', 'накладка', 'шарм', 'сноубординг', 'книга', 'эффект', 'коллаборация', 'контрастность', 'ставить', 'приветствовать', 'подробно', 'ультратонкий', 'хмм', 'различный', 'китай', 'amon', 'желаемый', 'матч', 'прилипание', 'soft', 'оттенок', 'аллергия', 'крепеж', 'насыщать', 'инструкция', 'панорамный', 'студия', 'разбиваться', 'настенный', 'примерно', 'мина', 'сверхплавный', 'отвечать', 'assistant', 'причинять', 'отполировывать', 'сверхвысокий', 'boost', 'чистить', 'техно', 'вентиляционный', 'аппарат', 'led', 'оригинальность', 'oes', 'включаться', 'долго', 'кармашек', 'показатель', 'несоответствие', 'туфля', 'отчет', 'выпрямитель', 'громкость', 'недавно', 'шумный', 'сверхширокоугольный', 'мощно', 'оснащение', 'легкий', 'r', 'пейзаж', 'производительный', 'кажется', 'пыль', 'изучать', 'заведение', 't', 'промежуточный', 'размытие', 'четко', 'ободок', 'растяжение', 'высокотехнологичный', 'сотня', 'надеваться', 'износоустойчивость', 'ценный', 'e', 'мартин', 'расслабленная', 'гостиная', 'oppo', 'infinix', 'прятаться', 'кофе', 'эмалевый', 'вниз', 'требовать', 'собственный', 'успешный', 'излишек', 'влиять', 'adreno', 'происходить', 'бесплатный', 'хит', 'шпилька', 'лофер', 'бриллиантов', 'рабочий', 'либо', 'регулировка', 'солнце', 'плечо', 'ненавязчивый', 'оказывать', 'experien', 'исполнение', 'имитация', 'микро', 'светоотражающий', 'аккуратно', 'желание', 'французский', 'omfort', 'дискомфорт', 'ожидаться', 'минималистический', 'auto', 'особенность', 'es', 'успешно', 'оказываться', 'наружный', 'событие', 'комплексный', 'неограниченный', 'керамический', 'выдающийся', 'роскошно', 'металлический', 'snapdragon', 'наполнять', 'захотеть', 'расходовать', 'письменный', 'серьезно', 'цветок', 'стоять', 'зрительный', 'перематывать', 'мечтать', 'справа', 'сверхлегкий', 'o', 'интегрировать', 'гармония', 'вклад', 'рф', 'разрез', 'опускать', 'заряжаться', 'ua', 'присущий', 'подразумевать', 'тратить', 'перенашивать', 'поспешить', 'деятельность', 'специально', 'вентилятор', 'мб', 'офисный', 'уравновешивать', 'мюль', 'культовый', 'томас', 'правильный', 'расслаблять', 'надеяться', 'soni', 'энергоемкость', 'обходиться', 'диафрагма', 'перенос', 'стираться', 'оставаться', 'платеж', 'автономный', 'кэжуал', 'краска', 'женский', 'multi', 'сохнуть', 'гарантия', 'шик', 'мальчиков', 'отдавать', 'ли', 'самсунг', 'бангладеш', 'наш', 'быстродействие', 'видеовыход', 'pls', 'спадать', 'развлечение', 'искусственный', 'протектор', 'прорезь', 'удобство', 'подарить', 'ограниченный', 'tone', 'колодка', 'потерять', 'лаг', 'этилвинилацетат', 'пойти', 'эко', 'вспышка', 'дс', 'ток', 'загромождать', 'безрамочный', 'тесто', 'ore', 'retina', 'noise', 'отделывать', 'wood', 'улавливать', 'грамм', 'увеличивать', 'медиа', 'разнонаправленный', 'гармонировать', 'сокровище', 'гигиенический', 'погружаться', 'некоторые', 'выключаться', 'доводить', 'комплекция', 'усиление', 'гордость', 'корпорация', 'равнодушный', 'колонка', 'удаленный', \"''\\n\", 'высокоскоростной', 'аннотация', 'dual', 'pad', 'фут', 'номинальный', 'сад', 'экокожий', 'лоффер', 'мысль', 'ххмм', 'редактор', 'картина', 'pink', 'убедительный', 'рекомендовать', 'android', 'мониторинг', 'том', 'пол', 'выраженный', 'скручивать', 'fa', 'слушать', 'размерный', 'пакет', 'всеобщий', 'отслеживать', 'желать', 'неблагоприятный', 'изысканность', 'температура', 'полимер', 'корпоратив', 'велюр', 'ream', 'путаница', 'непринужденность', 'помеха', 'плавность', 'большемерить', 'прилагаться', 'полоска', 'выбирать', 'разрабатывать', 'перезагрузка', 'максимально', 'нужный', 'предпочитать', 'воплощение', 'изображать', 'мгц', 'спрашивать', 'падение', 'nig', 'течение', 'продавец', 'вид', 'машинный', 'полезно', 'огромный', 'транспортировать', 'спорт', 'леопардовый', 'переход', 'протокол', 'барабанный', 'демонстрировать', 'целостный', 'гарантировать', 'сертификация', 'прочитывать', 'протираться', 'перечисленный', 'чат', 'зависимый', 'мультимедиа', 'строчка', 'завязываться', 'воспроизведение', 'на', 'габарит', 'млн', 'ускорять', 'обустраивать', 'бестселлер', 'of', 'закругленный', 'эффектный', 'wel', 'уходить', 'симпатичный', 'спортзал', 'fm', 'увлекаться', 'дорога', 'работоспособность', 'зарекомендовать', 'клавиша', 'свет', 'дочка', 'костюм', 'интеграция', 'докупать', 'энергопотребление', 'шнуровка', 'ниша', 'сверкающий', 'воспоминание', 'расширяться', 'дублировать', 'сессия', 'чистый', 'выпирать', 'холодно', 'йога', 'linux', 'ботинок', 'локоть', 'предоставлять', 'галакси', 'несквозной', 'лодочка', 'ортопедия', 'пластмассовый', 'бумажный', 'app', 'ясно', 'бег', 'ультрамодный', 'надежность', 'lig', 'домашние', 'отличие', 'series', 'там', 'толстой', 'перегородка', 'обезопасить', 'понятный', 'беременный', 'многолетний', 'межсезонный', 'свежий', 'предел', 'eq', 'адаптированный', 'до', 'эстетический', 'rgb', 'power', 'буквально', 'матовый', 'форма', 'дюймовый', 'расслабленный', 'с', 'морской', 'сложный', 'заменять', 'превращать', 'демисезонный', 'тормозить', 'небольшой', 'срабатывание', 'значительно', 'появляться', 'nanosd', 'перемещаться', 'достаточно', 'грамотный', 'mimo', 'обратный', 'спутниковый', 'крест', 'закреплять', 'lan', 'дорогостоящий', 'подсказывать', 'minisd', 'обнимать', 'сверхчувствительный', '\\u200b\\n', 'dolby', 'черн', 'лайт', 'модель', 'водный', 'означать', 'способствовать', 'праздник', 'qi', 'оборот', 'участвовать', 'аналогичный', 'очаровательный', 'канал', 'камень', 'охлаждающий', 'совершенный', 'жидкокристаллический', 'путем', 'вмещать', 'чрезвычайно', 'выверять', 'характеризоваться', 'парить', 'графика', 'гибкость', 'микрофибра', 'славиться', 'детская', 'be', 'переводить', 'gra', 'представление', 'оптимизировать', 'клубный', 'структурный', 'хоть', 'подавлять', 'дама', 'университет', 'симметричный', 'состояние', 'bluetoot', 'музыкальный', 'береза', 'видеосъемка', 'же', 'изменять', 'поверхность', 'близкий', 'кружка', 'quad', 'распаковка', 'nts', 'поточный', '&\\n', 'обещать', 'полукруглый', 'почувствовать', 'объединять', 'стереофонический', 'полезный', 'защищать', 'play', 'боковина', 'караоке', 'освобождать', 'uno', 'li', 'знать', 'отображать', 'джеймс', 'доступно', 'доезжать', 'premium', 'баталия', 'э', 'разработчик', 'экспериментировать', 'внимание', 'перенести', 'размер', 'именно', 'ba', 'центральный', 'преимущественно', 'ta', 'химический', 'спидометр', 'образовательный', 'облегченный', 'рассматривать', 'звонок', 'eis', 'able', 'отныне', 'тонкий', 'стена', 'аналоговый', 'получение', 'безопасно', 'имитировать', 'мес', 'пребывание', 'навигационный', 'рифленый', 'износостойкость', 'стойкий', 'распорка', 'обзор', 'qzss', 'расслабляться', 'ub', 'напротив', 'чистота', 'rom', 'горчичный', 'лакированный', 'дальнейший', 'опираться', 'стабильность', 'свадебный', 'преданный', 'парикмахер', 'рано', 'компас', 'только', 'сбалансированный', 'надоедать', 'девять', 'фотокамера', 'высушивать', 'портативность', 'жизнь', 'воспроизводить', 'здесь', 'сентябрь', 'неподходящий', 'хлопковый', 'мочь', 'старый', 'ortex', 'скандинавский', 'загружаться', 'рост', 'открытие', '?', 'премиум', 'неповторимый', 'сияние', 'экономия', 'новоселье', 'неизменный', 'ар', 'культура', 'модельный', 'образ', 'противостоять', 'мегапиксел', 'важный', 'ооо', 'резкий', 'присылать', 'уникальность', 'v', 'pol', 'обеденный', 'продемонстрировать', 'секрет', 'раздел', 'активность', 'респектабельный', 'стул', 'месяц', 'скрытый', 'накидка', 'игривый', 'актуальность', 'времяпрепровождение', 'телевизор', 'i', 'экономить', 'редко', 'дочитывать', 'синхронизация', 'чай', 'кристальный', 'подвисание', 'роскошь', 'xx', 'руководствоваться', 'батарейка', 'осанка', 'просмотр', 'супинатор', 'time', 'шкала', 'кд', 'ia', 'перфорировать', 'обращаться', 'минута', 'совместный', 'повседневный', 'косточка', 'выступать', 'высота', 'rj', 'коврик', 'увеличение', 'fun', 'il', 'выгорание', 'от', 'воплощать', 'потрясать', 'расширенный', 'пополнять', 'блокировка', 'ультрасовременный', 'крестовый', 'rystal', 'встреча', 'мультимедийный', 'вилка', 'табурет', 'вариативность', 'вычислительный', 'восхищать', 'особо', 'aux', 'интернет', 'выбор', 'самостоятельно', 'задача', 'изящность', 'потеть', 'застегиваться', 'при', 'выделяться', 'детальный', 'abs', 'наклонный', 'верх', 'между', 'разглядеть', 'brown', 'анималистический', 'оживать', 'видимость', 'клетка', 'акустический', 'удлинять', 'документация', 'позиция', 'углублять', 'непревзойденный', 'привносить', 'ресторан', 'silver', 'представлять', 'стоп', 'потоков', 'бордовый', 'дорожить', 'изысканно', 'янао', '!!', 'профессионал', 'amazon', 'wat', 'is', 'тонкость', 'собираться', 'содержимое', 'яркий', 'умный', 'сие', 'приходиться', 'поливинилхлорид', 'нейтральный', 'упругий', 'передача', 'porto', 'лео', 'тщательно', 'работа', 'прямоугольный', 'презент', 'om', 'веб', 'маломеривать', 'подстраиваться', 'пособие', 'осуществлять', 'архитектура', 'деловой', 'loft', 'трудность', 'неожиданный', 'зафиксировать', 'твердый', 'ужин', 'цветочный', 'свобода', 'испытывать', 'покупка', 'внешний', 'порт', 'классический', 'ome', 'ppi', 'погода', 'авторитет', 'детский', 'условие', 'fess', 'алгоритм', 'окружающий', 'аудиовыход', 'разнообразить', 'перфорация', 'чувствовать', 'впервые', 'ri', 'зима', 'сенсорный', 'жк', 'пользователь', 'примагничиваться', 'история', 'отдельно', 'упаковывать', 'стол', 'вечер', 'транспортировка', 'кристалл', 'везде', 'клуб', 'подтверждаться', 'обеспечивать', 'дорожный', 'элемент', 'премиальные', 'замена', 'соблазнительный', 'эластичный', 'наслаждение', 'охлаждение', 'планшет', 'сухость', 'переплачивать', 'раскладывать', 'солидный', 'курсовой', 'жаккард', 'он', 'данный', 'поклонник', 'baden', 'гост', 'комбинироваться', 'ощущаться', '!', 'потенциальный', 'топ', 'отключаться', 'решение', 'соединительный', 'пуговица', 'audio', 'прежде', 'батарея', 'пропустить', 'банкет', 'сверхдлительный', 'джинсовый', 'беговой', 'ardi', 'установка', 'заслуживать', 'плотно', 'выдача', 'размещаться', 'ящик', 'потрясающий', 'нанесение', 'отдельность', 'подарочный', 'круто', 'однотонный', 'встречаться', 'резкость', 'сотрудничество', 'lassi', 'поглощать', 'оксфорд', 'королева', 'диаметр', 'переключать', 'композиционный', 'изучение', 'удержание', 'помещать', 'относить', 'спрятать', 'международный', 'собранный', 'гармоничный', 'управление', 'подходить', 'лететь', 'добавление', 'посторонний', 'светодиод', 'сварной', 'одевать', 'материал', 'выцветать', 'впереди', 'услуга', 'угольный', 'устойчиво', 'доставка', 'вставать', 'шляпка', 'они', 'участок', 'подходящий', 'семейство', 'браузер', 'еще', 'положительный', 'трансляция', 'медицинский', 'маркировка', 'выпадать', 'beidou', 'применять', 'хром', 'базовый', 'внутри', 'мобильность', 'инновация', 'стык', 'половина', 'образовываться', 'zenden', 'корректно', 'предварительный', 'этап', 'уважение', 'ушиб', 'контроль', 'платформа', 'приходить', 'высокопроизводительный', 'переходник', 'индия', 'аудиоэффект', 'поток', 'ежедневный', 'пропитка', 'закруглять', 'green', 'шведский', 'опорный', 'венг', 'станок', 'разрушать', 'закрывать', 'во', 'контраст', 'великолепно', 'холл', 'новость', 'obba', 'операция', 'силуэт', 'сериал', 'бесплатно', 'автоматически', 'гнуться', 'напряженный', 'смотреться', 'трансформироваться', 'синхронный', 'трансформация', 'лен', 'термоэластопласт', 'br', 'протестировать', 'определенно', 'творчество', 'оформлять', 'тактильно', 'скучный', 'задумывать', 'наблюдать', 'кг', 'серебро', 'анатомический', 'xiaomi', 'динамично', 'проход', 'сочетать', 'драйвер', 'совершенство', 'эффектно', 'тб', 'схожесть', 'заводской', 'танцевать', 'разделение', 'завязывать', 'кабель', 'сам', 'интерьер', 'мышка', 'подготовка', 'тот', 'значительный', 'amoled', 'покупатель', 'динамик', 'песчаный', 'ресивер', 'напрямую', 'веранда', '\\u200b', 'разбираться', 'тематический', 'ко', 'войлок', 'необычно', 'дизайнер', 'умолчание', 'отсылка', 'способный', 'твердость', 'присутствие', 'лаконично', 'ja', 'in', 'этнический', 'процесс', 'избавлять', 'извлекать', 'передняя', 'предельно', 'наушник', 'серьга', 'видеть', 'своевременно', 'препятствие', 'перезагружать', 'live', 'акселерометр', 'розетка', 'эксперт', 'постараться', 'предприятие', 'многофункциональный', 'например', 'воспользоваться', 'восхитительный', 'low', 'записывать', 'применение', 'коричневый', 'направленность', 'накладная', 'приобретать', 'партнер', 'другой'}\n"
     ]
    }
   ],
   "source": [
    "set_big_com = set()\n",
    "for i in range(len(list_dict_words) - 1):\n",
    "    for j in range(i + 1, len(list_dict_words)):\n",
    "        set_com_duble_words = set(list_dict_words[i]).intersection(set(list_dict_words[j]))\n",
    "        set_big_com = set_big_com.union(set_com_duble_words)\n",
    "print(len(set_big_com))\n",
    "print(set_big_com)"
   ]
  },
  {
   "cell_type": "code",
   "execution_count": 35,
   "metadata": {},
   "outputs": [],
   "source": [
    "with open('/home/al/Projects_My/hakaton_ozon_org/dataset/stop_word_base.txt', 'w') as f:\n",
    "    for word in set_big_com:\n",
    "        f.write(word + '\\n')\n"
   ]
  },
  {
   "cell_type": "markdown",
   "metadata": {},
   "source": [
    "#### План\n",
    "1. Распознавание категориальное <br>\n",
    "2. Распознавание внутрикатегориальное <br>\n",
    "     <br>\n",
    "    - по каждой категории свой набор <br>\n",
    "    - внутри каждой категории наборы по  <br>\n",
    "        short_characteristic <br>\n",
    "        full_desc <br>\n",
    "        characteristic <br>\n",
    "        components <br>\n",
    "        с цифрами и без цифр <br> <br>\n",
    "    <b>распознавание по 9 наборам слов - </b><br>\n",
    "        общий <br>\n",
    "        short_characteristic <br>\n",
    "        full_desc <br>\n",
    "        characteristic <br>\n",
    "        components <br>\n",
    "        short_characteristic <b>с цифрами </b><br>\n",
    "        full_desc <b>с цифрами </b><br>\n",
    "        characteristic <b>с цифрами </b><br>\n",
    "        components <b>с цифрами </b><br>\n",
    "         <br>"
   ]
  },
  {
   "cell_type": "markdown",
   "metadata": {},
   "source": [
    "### Получение наборов слов по объектам за вычетом стоп слов"
   ]
  },
  {
   "cell_type": "markdown",
   "metadata": {},
   "source": [
    "Получение общего словаря."
   ]
  },
  {
   "cell_type": "code",
   "execution_count": null,
   "metadata": {},
   "outputs": [],
   "source": []
  },
  {
   "cell_type": "markdown",
   "metadata": {},
   "source": [
    "Получение набора с категориями"
   ]
  },
  {
   "cell_type": "code",
   "execution_count": 6,
   "metadata": {},
   "outputs": [
    {
     "name": "stdout",
     "output_type": "stream",
     "text": [
      "чехлы\n",
      "наушники\n",
      "платья\n",
      "['чехлы', 'наушники', 'платья']\n",
      "32\n",
      "[0, 0, 0, 0, 0, 0, 0, 0, 0, 0, 0, 0, 1, 1, 1, 1, 1, 1, 1, 1, 1, 1, 2, 2, 2, 2, 2, 2, 2, 2, 2, 2]\n",
      "1109\n"
     ]
    }
   ],
   "source": [
    "NAME_START_POINT = '/home/al/Projects_My/hakaton_ozon_opg/dataset/'\n",
    "list_dir = get_dir(NAME_START_POINT)\n",
    "#print(list_dir)\n",
    "categories = list_dir.copy()\n",
    "array_txt = [] # описание как предложения из лемматизированных слов\n",
    "m = Mystem()\n",
    "kk = 0\n",
    "catY = []\n",
    "keys_cat = []\n",
    "all_words_list = []\n",
    "for sd in list_dir:\n",
    "    key_one = sd.split('/')[-1].lower()\n",
    "    print(key_one)\n",
    "    keys_cat.append(key_one)\n",
    "    list_dir_two = get_dir(sd)\n",
    "    for dt in list_dir_two:\n",
    "        list_text = glob(dt + '/*.txt')\n",
    "        #print(list_text)\n",
    "        #print()\n",
    "        servis_list = []\n",
    "        # servis_list.append(key_one)\n",
    "        for nf in list_text:\n",
    "            dd = get_array_text_with_category(nf, m)\n",
    "            servis_list += dd\n",
    "            all_words_list += dd\n",
    "            #break\n",
    "        array_txt.append(' '.join(servis_list))\n",
    "        catY.append(kk)\n",
    "        # print()\n",
    "        # print(array_txt[kk])\n",
    "    kk += 1\n",
    "    #break\n",
    "\n",
    "# set_dict = []\n",
    "# for key in array_txt:\n",
    "#     print()\n",
    "#     print(key)\n",
    "#     print(array_txt[key])\n",
    "#     dd = dict(array_txt[key])\n",
    "#     nab = []\n",
    "#     for kk in dd:\n",
    "#         if dd[kk] >=2 and kk not in stop_words:\n",
    "#             nab.append(kk)\n",
    "#     set_dict.append(nab)\n",
    "set_all_words = set(all_words_list)\n",
    "print(keys_cat)\n",
    "print(len(array_txt))\n",
    "print(catY)\n",
    "print(len(set_all_words))"
   ]
  },
  {
   "cell_type": "code",
   "execution_count": 23,
   "metadata": {},
   "outputs": [
    {
     "data": {
      "text/plain": [
       "'смартфон накладка камера противоударный силиконовый накладка камера kreiger mix специально спроектировать samsung galaxy a14 4g серьезный периметр обладать усиленный угол смартфон средство воздушный подушка находиться между угол накладка серьезно смягчать удар падение толщина предусматривать камера бортик вокруг камера защищать линза отдельность упругий полиуретан безопасный мягкий ощупь накладка иметься отверстие шнурок помощь смартфон можно носить шея рука силиконовый накладка камера противоударный общий мес samsung galaxy a14 5g samsung galaxy a14 962979473 смартфон фиолетовый код продавец 127716'"
      ]
     },
     "execution_count": 23,
     "metadata": {},
     "output_type": "execute_result"
    }
   ],
   "source": [
    "array_txt[2]"
   ]
  },
  {
   "cell_type": "code",
   "execution_count": 10,
   "metadata": {},
   "outputs": [],
   "source": []
  },
  {
   "cell_type": "code",
   "execution_count": 8,
   "metadata": {},
   "outputs": [],
   "source": [
    "X_train, X_test, y_train, y_test = train_test_split(array_txt, catY, test_size=0.20, random_state=42)\n",
    "vectorizer = CountVectorizer()\n",
    "X_train_counts = vectorizer.fit_transform(X_train)"
   ]
  },
  {
   "cell_type": "code",
   "execution_count": 9,
   "metadata": {},
   "outputs": [],
   "source": [
    "tfidf_transformer = TfidfTransformer()\n",
    "X_train_tfidf = tfidf_transformer.fit_transform(X_train_counts)"
   ]
  },
  {
   "cell_type": "code",
   "execution_count": 12,
   "metadata": {},
   "outputs": [],
   "source": [
    "# Метод наивный Байес\n",
    "clf = MultinomialNB().fit(X_train_tfidf, y_train)"
   ]
  },
  {
   "cell_type": "code",
   "execution_count": 13,
   "metadata": {},
   "outputs": [],
   "source": [
    "X_test_new = vectorizer.transform(X_test)\n",
    "#print(X_test_new.shape)\n",
    "X_new_tfidf = tfidf_transformer.transform(X_test_new)\n",
    "predicted = clf.predict(X_new_tfidf)"
   ]
  },
  {
   "cell_type": "code",
   "execution_count": 15,
   "metadata": {},
   "outputs": [
    {
     "name": "stdout",
     "output_type": "stream",
     "text": [
      "2 2\n",
      "1 1\n",
      "2 2\n",
      "1 1\n",
      "0 0\n",
      "0 0\n",
      "2 2\n",
      "model  1.0\n"
     ]
    }
   ],
   "source": [
    "kk = 0\n",
    "for doc, category in zip(y_test, predicted):\n",
    "    print(doc, category)\n",
    "    if doc == category: kk +=1\n",
    "        \n",
    "print('model ', kk/len(y_test))"
   ]
  },
  {
   "cell_type": "code",
   "execution_count": 8,
   "metadata": {},
   "outputs": [
    {
     "data": {
      "text/plain": [
       "array(['00', '1031436306', '11', ..., 'юбка', 'являться', 'яркость'],\n",
       "      dtype=object)"
      ]
     },
     "execution_count": 8,
     "metadata": {},
     "output_type": "execute_result"
    }
   ],
   "source": [
    "vectorizer.get_feature_names_out()"
   ]
  },
  {
   "cell_type": "code",
   "execution_count": 9,
   "metadata": {},
   "outputs": [
    {
     "name": "stdout",
     "output_type": "stream",
     "text": [
      "[[0 0 0 ... 0 0 0]\n",
      " [0 0 5 ... 0 2 0]\n",
      " [0 0 0 ... 0 0 0]\n",
      " ...\n",
      " [0 0 0 ... 1 0 0]\n",
      " [0 0 0 ... 1 0 0]\n",
      " [0 0 0 ... 1 0 0]]\n"
     ]
    }
   ],
   "source": [
    "print(X.toarray())"
   ]
  },
  {
   "cell_type": "code",
   "execution_count": 48,
   "metadata": {},
   "outputs": [
    {
     "data": {
      "text/html": [
       "<style>#sk-container-id-15 {color: black;background-color: white;}#sk-container-id-15 pre{padding: 0;}#sk-container-id-15 div.sk-toggleable {background-color: white;}#sk-container-id-15 label.sk-toggleable__label {cursor: pointer;display: block;width: 100%;margin-bottom: 0;padding: 0.3em;box-sizing: border-box;text-align: center;}#sk-container-id-15 label.sk-toggleable__label-arrow:before {content: \"▸\";float: left;margin-right: 0.25em;color: #696969;}#sk-container-id-15 label.sk-toggleable__label-arrow:hover:before {color: black;}#sk-container-id-15 div.sk-estimator:hover label.sk-toggleable__label-arrow:before {color: black;}#sk-container-id-15 div.sk-toggleable__content {max-height: 0;max-width: 0;overflow: hidden;text-align: left;background-color: #f0f8ff;}#sk-container-id-15 div.sk-toggleable__content pre {margin: 0.2em;color: black;border-radius: 0.25em;background-color: #f0f8ff;}#sk-container-id-15 input.sk-toggleable__control:checked~div.sk-toggleable__content {max-height: 200px;max-width: 100%;overflow: auto;}#sk-container-id-15 input.sk-toggleable__control:checked~label.sk-toggleable__label-arrow:before {content: \"▾\";}#sk-container-id-15 div.sk-estimator input.sk-toggleable__control:checked~label.sk-toggleable__label {background-color: #d4ebff;}#sk-container-id-15 div.sk-label input.sk-toggleable__control:checked~label.sk-toggleable__label {background-color: #d4ebff;}#sk-container-id-15 input.sk-hidden--visually {border: 0;clip: rect(1px 1px 1px 1px);clip: rect(1px, 1px, 1px, 1px);height: 1px;margin: -1px;overflow: hidden;padding: 0;position: absolute;width: 1px;}#sk-container-id-15 div.sk-estimator {font-family: monospace;background-color: #f0f8ff;border: 1px dotted black;border-radius: 0.25em;box-sizing: border-box;margin-bottom: 0.5em;}#sk-container-id-15 div.sk-estimator:hover {background-color: #d4ebff;}#sk-container-id-15 div.sk-parallel-item::after {content: \"\";width: 100%;border-bottom: 1px solid gray;flex-grow: 1;}#sk-container-id-15 div.sk-label:hover label.sk-toggleable__label {background-color: #d4ebff;}#sk-container-id-15 div.sk-serial::before {content: \"\";position: absolute;border-left: 1px solid gray;box-sizing: border-box;top: 0;bottom: 0;left: 50%;z-index: 0;}#sk-container-id-15 div.sk-serial {display: flex;flex-direction: column;align-items: center;background-color: white;padding-right: 0.2em;padding-left: 0.2em;position: relative;}#sk-container-id-15 div.sk-item {position: relative;z-index: 1;}#sk-container-id-15 div.sk-parallel {display: flex;align-items: stretch;justify-content: center;background-color: white;position: relative;}#sk-container-id-15 div.sk-item::before, #sk-container-id-15 div.sk-parallel-item::before {content: \"\";position: absolute;border-left: 1px solid gray;box-sizing: border-box;top: 0;bottom: 0;left: 50%;z-index: -1;}#sk-container-id-15 div.sk-parallel-item {display: flex;flex-direction: column;z-index: 1;position: relative;background-color: white;}#sk-container-id-15 div.sk-parallel-item:first-child::after {align-self: flex-end;width: 50%;}#sk-container-id-15 div.sk-parallel-item:last-child::after {align-self: flex-start;width: 50%;}#sk-container-id-15 div.sk-parallel-item:only-child::after {width: 0;}#sk-container-id-15 div.sk-dashed-wrapped {border: 1px dashed gray;margin: 0 0.4em 0.5em 0.4em;box-sizing: border-box;padding-bottom: 0.4em;background-color: white;}#sk-container-id-15 div.sk-label label {font-family: monospace;font-weight: bold;display: inline-block;line-height: 1.2em;}#sk-container-id-15 div.sk-label-container {text-align: center;}#sk-container-id-15 div.sk-container {/* jupyter's `normalize.less` sets `[hidden] { display: none; }` but bootstrap.min.css set `[hidden] { display: none !important; }` so we also need the `!important` here to be able to override the default hidden behavior on the sphinx rendered scikit-learn.org. See: https://github.com/scikit-learn/scikit-learn/issues/21755 */display: inline-block !important;position: relative;}#sk-container-id-15 div.sk-text-repr-fallback {display: none;}</style><div id=\"sk-container-id-15\" class=\"sk-top-container\"><div class=\"sk-text-repr-fallback\"><pre>CountVectorizer(vocabulary={&#x27;a&#x27;, &#x27;aac&#x27;, &#x27;acs&#x27;, &#x27;air&#x27;, &#x27;amoled&#x27;, &#x27;android&#x27;,\n",
       "                            &#x27;apparel&#x27;, &#x27;apple&#x27;, &#x27;aramid&#x27;, &#x27;avakyan&#x27;, &#x27;awesome&#x27;,\n",
       "                            &#x27;bass&#x27;, &#x27;best&#x27;, &#x27;black&#x27;, &#x27;bluetooth&#x27;, &#x27;borofone&#x27;,\n",
       "                            &#x27;boutique&#x27;, &#x27;broscorp&#x27;, &#x27;by&#x27;, &#x27;c&#x27;, &#x27;camera&#x27;, &#x27;case&#x27;,\n",
       "                            &#x27;cavolo&#x27;, &#x27;chrome&#x27;, &#x27;club&#x27;, &#x27;concept&#x27;, &#x27;ew&#x27;,\n",
       "                            &#x27;femme&#x27;, &#x27;fiber&#x27;, &#x27;g&#x27;, ...})</pre><b>In a Jupyter environment, please rerun this cell to show the HTML representation or trust the notebook. <br />On GitHub, the HTML representation is unable to render, please try loading this page with nbviewer.org.</b></div><div class=\"sk-container\" hidden><div class=\"sk-item\"><div class=\"sk-estimator sk-toggleable\"><input class=\"sk-toggleable__control sk-hidden--visually\" id=\"sk-estimator-id-15\" type=\"checkbox\" checked><label for=\"sk-estimator-id-15\" class=\"sk-toggleable__label sk-toggleable__label-arrow\">CountVectorizer</label><div class=\"sk-toggleable__content\"><pre>CountVectorizer(vocabulary={&#x27;a&#x27;, &#x27;aac&#x27;, &#x27;acs&#x27;, &#x27;air&#x27;, &#x27;amoled&#x27;, &#x27;android&#x27;,\n",
       "                            &#x27;apparel&#x27;, &#x27;apple&#x27;, &#x27;aramid&#x27;, &#x27;avakyan&#x27;, &#x27;awesome&#x27;,\n",
       "                            &#x27;bass&#x27;, &#x27;best&#x27;, &#x27;black&#x27;, &#x27;bluetooth&#x27;, &#x27;borofone&#x27;,\n",
       "                            &#x27;boutique&#x27;, &#x27;broscorp&#x27;, &#x27;by&#x27;, &#x27;c&#x27;, &#x27;camera&#x27;, &#x27;case&#x27;,\n",
       "                            &#x27;cavolo&#x27;, &#x27;chrome&#x27;, &#x27;club&#x27;, &#x27;concept&#x27;, &#x27;ew&#x27;,\n",
       "                            &#x27;femme&#x27;, &#x27;fiber&#x27;, &#x27;g&#x27;, ...})</pre></div></div></div></div></div>"
      ],
      "text/plain": [
       "CountVectorizer(vocabulary={'a', 'aac', 'acs', 'air', 'amoled', 'android',\n",
       "                            'apparel', 'apple', 'aramid', 'avakyan', 'awesome',\n",
       "                            'bass', 'best', 'black', 'bluetooth', 'borofone',\n",
       "                            'boutique', 'broscorp', 'by', 'c', 'camera', 'case',\n",
       "                            'cavolo', 'chrome', 'club', 'concept', 'ew',\n",
       "                            'femme', 'fiber', 'g', ...})"
      ]
     },
     "execution_count": 48,
     "metadata": {},
     "output_type": "execute_result"
    }
   ],
   "source": [
    "pipe = Pipeline([('count', CountVectorizer(vocabulary=set_all_words)),\n",
    "                 ('tfid', TfidfTransformer())]).fit(array_txt)\n",
    "# tf_transformer = TfidfTransformer(use_idf=False).fit(array_txt)\n",
    "pipe['count']"
   ]
  },
  {
   "cell_type": "code",
   "execution_count": 49,
   "metadata": {},
   "outputs": [
    {
     "data": {
      "text/plain": [
       "(32, 1109)"
      ]
     },
     "execution_count": 49,
     "metadata": {},
     "output_type": "execute_result"
    }
   ],
   "source": [
    "pipe.transform(array_txt).shape"
   ]
  },
  {
   "cell_type": "code",
   "execution_count": 50,
   "metadata": {},
   "outputs": [
    {
     "data": {
      "text/plain": [
       "array([4.49650756, 3.1102132 , 3.80336038, ..., 4.49650756, 4.49650756,\n",
       "       4.49650756])"
      ]
     },
     "execution_count": 50,
     "metadata": {},
     "output_type": "execute_result"
    }
   ],
   "source": [
    "pipe['tfid'].idf_"
   ]
  },
  {
   "cell_type": "code",
   "execution_count": 41,
   "metadata": {},
   "outputs": [
    {
     "name": "stdout",
     "output_type": "stream",
     "text": [
      "['__all__', '__builtins__', '__cached__', '__doc__', '__file__', '__getattr__', '__loader__', '__name__', '__package__', '__path__', '__spec__', '_arff_parser', '_base', '_california_housing', '_covtype', '_kddcup99', '_lfw', '_olivetti_faces', '_openml', '_rcv1', '_samples_generator', '_species_distributions', '_svmlight_format_fast', '_svmlight_format_io', '_twenty_newsgroups', 'clear_data_home', 'descr', 'dump_svmlight_file', 'fetch_20newsgroups', 'fetch_20newsgroups_vectorized', 'fetch_california_housing', 'fetch_covtype', 'fetch_kddcup99', 'fetch_lfw_pairs', 'fetch_lfw_people', 'fetch_olivetti_faces', 'fetch_openml', 'fetch_rcv1', 'fetch_species_distributions', 'get_data_home', 'load_breast_cancer', 'load_diabetes', 'load_digits', 'load_files', 'load_iris', 'load_linnerud', 'load_sample_image', 'load_sample_images', 'load_svmlight_file', 'load_svmlight_files', 'load_wine', 'make_biclusters', 'make_blobs', 'make_checkerboard', 'make_circles', 'make_classification', 'make_friedman1', 'make_friedman2', 'make_friedman3', 'make_gaussian_quantiles', 'make_hastie_10_2', 'make_low_rank_matrix', 'make_moons', 'make_multilabel_classification', 'make_regression', 'make_s_curve', 'make_sparse_coded_signal', 'make_sparse_spd_matrix', 'make_sparse_uncorrelated', 'make_spd_matrix', 'make_swiss_roll', 'textwrap']\n"
     ]
    }
   ],
   "source": [
    "import sklearn.datasets as ds\n",
    "list_tem = dir(ds)\n",
    "len(list_tem)\n",
    "print(list_tem)"
   ]
  },
  {
   "cell_type": "code",
   "execution_count": 44,
   "metadata": {},
   "outputs": [
    {
     "data": {
      "text/plain": [
       "dict_keys(['data', 'target', 'frame', 'target_names', 'DESCR', 'feature_names', 'filename', 'data_module'])"
      ]
     },
     "execution_count": 44,
     "metadata": {},
     "output_type": "execute_result"
    }
   ],
   "source": [
    "from sklearn.datasets import load_iris\n",
    "from sklearn.datasets import __name__\n",
    "dd = load_iris()\n",
    "dd.keys()"
   ]
  },
  {
   "cell_type": "code",
   "execution_count": 46,
   "metadata": {},
   "outputs": [
    {
     "data": {
      "text/plain": [
       "'sklearn.datasets'"
      ]
     },
     "execution_count": 46,
     "metadata": {},
     "output_type": "execute_result"
    }
   ],
   "source": [
    "__name__"
   ]
  },
  {
   "cell_type": "code",
   "execution_count": 9,
   "metadata": {},
   "outputs": [],
   "source": [
    "from sklearn.datasets import fetch_20newsgroups"
   ]
  },
  {
   "cell_type": "code",
   "execution_count": 10,
   "metadata": {},
   "outputs": [],
   "source": [
    "categories = [\n",
    "    \"alt.atheism\",\n",
    "    \"talk.religion.misc\",\n",
    "]\n",
    "\n",
    "# data_train = fetch_20newsgroups(\n",
    "#     subset=\"train\",\n",
    "#     categories=categories,\n",
    "#     shuffle=True,\n",
    "#     random_state=42,\n",
    "#     remove=(\"headers\", \"footers\", \"quotes\"),\n",
    "# )\n",
    "data_all = fetch_20newsgroups()"
   ]
  },
  {
   "cell_type": "code",
   "execution_count": 11,
   "metadata": {},
   "outputs": [
    {
     "data": {
      "text/plain": [
       "dict_keys(['data', 'filenames', 'target_names', 'target', 'DESCR'])"
      ]
     },
     "execution_count": 11,
     "metadata": {},
     "output_type": "execute_result"
    }
   ],
   "source": [
    "data_all.keys()"
   ]
  },
  {
   "cell_type": "code",
   "execution_count": 13,
   "metadata": {},
   "outputs": [
    {
     "data": {
      "text/plain": [
       "['alt.atheism',\n",
       " 'comp.graphics',\n",
       " 'comp.os.ms-windows.misc',\n",
       " 'comp.sys.ibm.pc.hardware',\n",
       " 'comp.sys.mac.hardware',\n",
       " 'comp.windows.x',\n",
       " 'misc.forsale',\n",
       " 'rec.autos',\n",
       " 'rec.motorcycles',\n",
       " 'rec.sport.baseball',\n",
       " 'rec.sport.hockey',\n",
       " 'sci.crypt',\n",
       " 'sci.electronics',\n",
       " 'sci.med',\n",
       " 'sci.space',\n",
       " 'soc.religion.christian',\n",
       " 'talk.politics.guns',\n",
       " 'talk.politics.mideast',\n",
       " 'talk.politics.misc',\n",
       " 'talk.religion.misc']"
      ]
     },
     "execution_count": 13,
     "metadata": {},
     "output_type": "execute_result"
    }
   ],
   "source": [
    "data_all.target_names"
   ]
  },
  {
   "cell_type": "code",
   "execution_count": 14,
   "metadata": {},
   "outputs": [
    {
     "data": {
      "text/plain": [
       "array([7, 4, 4, ..., 3, 1, 8])"
      ]
     },
     "execution_count": 14,
     "metadata": {},
     "output_type": "execute_result"
    }
   ],
   "source": [
    "data_all.target"
   ]
  },
  {
   "cell_type": "code",
   "execution_count": 19,
   "metadata": {},
   "outputs": [
    {
     "name": "stdout",
     "output_type": "stream",
     "text": [
      "From: holmes7000@iscsvax.uni.edu\n",
      "Subject: WIn 3.0 ICON HELP PLEASE!\n",
      "Organization: University of Northern Iowa\n",
      "Lines: 10\n",
      "\n",
      "I have win 3.0 and downloaded several icons and BMP's but I can't figure out\n",
      "how to change the \"wallpaper\" or use the icons.  Any help would be appreciated.\n",
      "\n",
      "\n",
      "Thanx,\n",
      "\n",
      "-Brando\n",
      "\n",
      "PS Please E-mail me\n",
      "\n",
      "\n"
     ]
    }
   ],
   "source": [
    "print(data_all.data[8])"
   ]
  },
  {
   "cell_type": "code",
   "execution_count": 18,
   "metadata": {},
   "outputs": [
    {
     "data": {
      "text/plain": [
       "dict_keys(['data', 'filenames', 'target_names', 'target', 'DESCR'])"
      ]
     },
     "execution_count": 18,
     "metadata": {},
     "output_type": "execute_result"
    }
   ],
   "source": [
    "data_train.keys() #['data'][0]"
   ]
  },
  {
   "cell_type": "code",
   "execution_count": 19,
   "metadata": {},
   "outputs": [
    {
     "data": {
      "text/plain": [
       "array([0, 0, 0, 1, 1, 0, 0, 1, 0, 0, 1, 0, 0, 0, 0, 1, 1, 1, 0, 1, 0, 0,\n",
       "       1, 0, 0, 0, 1, 0, 1, 0, 1, 1, 1, 0, 0, 0, 1, 0, 0, 1, 0, 0, 1, 1,\n",
       "       0, 0, 1, 1, 0, 1, 1, 1, 0, 0, 0, 1, 1, 1, 0, 1, 0, 1, 0, 1, 0, 1,\n",
       "       0, 1, 1, 1, 1, 1, 0, 1, 0, 0, 1, 1, 0, 0, 1, 0, 0, 0, 0, 0, 1, 0,\n",
       "       0, 0, 0, 0, 1, 0, 0, 1, 0, 1, 1, 0, 1, 1, 0, 0, 1, 1, 0, 1, 1, 0,\n",
       "       0, 0, 0, 1, 0, 1, 1, 0, 1, 1, 0, 0, 1, 1, 1, 1, 0, 0, 0, 0, 1, 0,\n",
       "       0, 0, 1, 1, 1, 0, 0, 0, 1, 0, 1, 0, 0, 0, 1, 0, 1, 1, 0, 1, 1, 0,\n",
       "       0, 1, 0, 1, 1, 1, 0, 0, 1, 1, 0, 0, 1, 1, 1, 1, 1, 1, 1, 0, 0, 0,\n",
       "       0, 1, 0, 1, 1, 1, 0, 0, 1, 0, 0, 0, 1, 0, 0, 0, 1, 0, 1, 1, 0, 0,\n",
       "       0, 1, 0, 0, 1, 0, 0, 1, 0, 0, 0, 0, 0, 0, 0, 0, 1, 1, 0, 0, 1, 0,\n",
       "       0, 1, 1, 0, 1, 1, 0, 0, 1, 0, 1, 0, 1, 0, 1, 1, 1, 0, 1, 1, 1, 0,\n",
       "       0, 0, 1, 1, 0, 0, 0, 0, 0, 0, 0, 0, 0, 0, 1, 0, 0, 1, 1, 1, 1, 1,\n",
       "       0, 0, 0, 1, 0, 1, 1, 1, 0, 1, 0, 1, 1, 0, 0, 0, 0, 1, 1, 0, 0, 0,\n",
       "       0, 0, 0, 1, 1, 1, 0, 1, 1, 1, 1, 1, 1, 1, 1, 0, 1, 0, 1, 1, 0, 1,\n",
       "       0, 0, 1, 0, 0, 0, 0, 0, 0, 1, 0, 0, 0, 1, 1, 0, 1, 1, 0, 1, 0, 0,\n",
       "       0, 1, 1, 1, 0, 1, 0, 0, 1, 0, 1, 0, 1, 0, 1, 0, 1, 0, 1, 1, 1, 1,\n",
       "       0, 0, 1, 1, 0, 0, 0, 0, 0, 1, 0, 0, 0, 0, 1, 1, 1, 0, 0, 1, 0, 0,\n",
       "       0, 0, 1, 1, 0, 0, 0, 0, 1, 0, 1, 0, 0, 0, 0, 1, 1, 0, 0, 0, 1, 0,\n",
       "       0, 1, 0, 0, 1, 1, 0, 0, 1, 0, 0, 0, 0, 1, 1, 1, 0, 0, 1, 0, 0, 0,\n",
       "       1, 0, 1, 0, 0, 0, 1, 0, 1, 1, 0, 1, 0, 0, 1, 1, 1, 0, 1, 0, 0, 1,\n",
       "       0, 1, 0, 1, 1, 1, 1, 0, 1, 0, 1, 0, 1, 0, 1, 1, 1, 1, 1, 1, 0, 0,\n",
       "       1, 0, 1, 1, 0, 1, 1, 0, 0, 1, 1, 1, 0, 1, 1, 1, 0, 1, 0, 0, 1, 1,\n",
       "       0, 1, 1, 1, 1, 0, 1, 0, 0, 1, 1, 0, 0, 0, 0, 0, 0, 0, 0, 0, 0, 0,\n",
       "       0, 0, 1, 1, 0, 0, 1, 0, 1, 0, 1, 0, 0, 0, 1, 0, 0, 1, 0, 0, 1, 1,\n",
       "       0, 1, 1, 1, 0, 1, 1, 1, 1, 0, 0, 0, 1, 0, 1, 0, 0, 1, 1, 1, 0, 0,\n",
       "       0, 1, 0, 0, 1, 0, 0, 0, 1, 1, 1, 0, 1, 0, 0, 1, 1, 0, 1, 1, 1, 1,\n",
       "       0, 1, 0, 1, 0, 0, 1, 0, 0, 0, 0, 0, 0, 0, 0, 0, 0, 1, 1, 0, 1, 0,\n",
       "       0, 0, 0, 0, 1, 0, 1, 1, 0, 1, 0, 1, 0, 1, 0, 1, 1, 0, 0, 1, 1, 1,\n",
       "       0, 0, 1, 1, 1, 1, 1, 0, 0, 1, 1, 1, 0, 0, 1, 0, 0, 0, 0, 1, 1, 1,\n",
       "       0, 1, 0, 1, 0, 0, 0, 1, 0, 0, 0, 0, 0, 0, 1, 0, 1, 1, 1, 0, 0, 0,\n",
       "       1, 0, 0, 1, 1, 0, 0, 0, 1, 0, 1, 0, 0, 0, 0, 1, 0, 1, 0, 0, 1, 1,\n",
       "       0, 1, 0, 0, 0, 1, 1, 0, 0, 1, 1, 1, 0, 0, 1, 0, 1, 1, 1, 0, 1, 0,\n",
       "       0, 0, 1, 1, 0, 0, 0, 0, 0, 1, 0, 1, 0, 0, 0, 0, 1, 1, 0, 0, 1, 0,\n",
       "       1, 0, 1, 0, 0, 0, 0, 0, 0, 1, 0, 1, 0, 1, 0, 0, 0, 0, 0, 0, 0, 0,\n",
       "       1, 0, 0, 1, 1, 1, 0, 0, 0, 0, 1, 1, 0, 0, 0, 1, 1, 0, 1, 0, 1, 1,\n",
       "       1, 0, 0, 0, 1, 1, 1, 0, 1, 0, 0, 0, 0, 1, 0, 0, 0, 1, 0, 1, 0, 0,\n",
       "       1, 0, 1, 1, 1, 0, 1, 1, 1, 1, 1, 0, 0, 0, 1, 1, 0, 0, 0, 0, 0, 0,\n",
       "       1, 0, 0, 1, 0, 0, 0, 0, 0, 1, 0, 1, 0, 0, 1, 0, 1, 0, 0, 1, 1, 1,\n",
       "       0, 0, 0, 1, 1, 0, 0, 1, 0, 1, 0, 0, 1, 0, 0, 1, 0, 0, 0, 0, 0])"
      ]
     },
     "execution_count": 19,
     "metadata": {},
     "output_type": "execute_result"
    }
   ],
   "source": [
    "data_train['target']"
   ]
  },
  {
   "cell_type": "code",
   "execution_count": 20,
   "metadata": {},
   "outputs": [
    {
     "data": {
      "text/plain": [
       "['alt.atheism', 'talk.religion.misc']"
      ]
     },
     "execution_count": 20,
     "metadata": {},
     "output_type": "execute_result"
    }
   ],
   "source": [
    "data_train['target_names']"
   ]
  },
  {
   "cell_type": "code",
   "execution_count": null,
   "metadata": {},
   "outputs": [],
   "source": [
    "\n",
    "data_test = fetch_20newsgroups(\n",
    "    subset=\"test\",\n",
    "    categories=categories,\n",
    "    shuffle=True,\n",
    "    random_state=42,\n",
    "    remove=(\"headers\", \"footers\", \"quotes\"),\n",
    ")\n",
    "\n",
    "print(f\"Loading 20 newsgroups dataset for {len(data_train.target_names)} categories:\")\n",
    "print(data_train.target_names)\n",
    "print(f\"{len(data_train.data)} documents\")"
   ]
  },
  {
   "cell_type": "code",
   "execution_count": null,
   "metadata": {},
   "outputs": [],
   "source": []
  }
 ],
 "metadata": {
  "kernelspec": {
   "display_name": "Python 3",
   "language": "python",
   "name": "python3"
  },
  "language_info": {
   "codemirror_mode": {
    "name": "ipython",
    "version": 3
   },
   "file_extension": ".py",
   "mimetype": "text/x-python",
   "name": "python",
   "nbconvert_exporter": "python",
   "pygments_lexer": "ipython3",
   "version": "3.10.12"
  }
 },
 "nbformat": 4,
 "nbformat_minor": 2
}
